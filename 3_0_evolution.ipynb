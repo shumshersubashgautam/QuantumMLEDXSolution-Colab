{
  "nbformat": 4,
  "nbformat_minor": 0,
  "metadata": {
    "colab": {
      "name": "3.0:evolution.ipynb",
      "provenance": [],
      "include_colab_link": true
    },
    "kernelspec": {
      "name": "python3",
      "display_name": "Python 3"
    },
    "accelerator": "GPU"
  },
  "cells": [
    {
      "cell_type": "markdown",
      "metadata": {
        "id": "view-in-github",
        "colab_type": "text"
      },
      "source": [
        "<a href=\"https://colab.research.google.com/github/shumshersubashgautam/QuantumMLEDXSolution-Colab/blob/master/3_0_evolution.ipynb\" target=\"_parent\"><img src=\"https://colab.research.google.com/assets/colab-badge.svg\" alt=\"Open In Colab\"/></a>"
      ]
    },
    {
      "cell_type": "code",
      "metadata": {
        "id": "vMn56gk50dtc",
        "colab_type": "code",
        "colab": {
          "base_uri": "https://localhost:8080/",
          "height": 106
        },
        "outputId": "0171ac65-1b8a-49b0-b987-ad5c1e8f5d2d"
      },
      "source": [
        "!git clone https://github.com/Ranlot/edX---Quantum-Machine-Learning.git"
      ],
      "execution_count": 1,
      "outputs": [
        {
          "output_type": "stream",
          "text": [
            "Cloning into 'edX---Quantum-Machine-Learning'...\n",
            "remote: Enumerating objects: 112, done.\u001b[K\n",
            "remote: Total 112 (delta 0), reused 0 (delta 0), pack-reused 112\u001b[K\n",
            "Receiving objects: 100% (112/112), 75.45 MiB | 30.73 MiB/s, done.\n",
            "Resolving deltas: 100% (31/31), done.\n"
          ],
          "name": "stdout"
        }
      ]
    },
    {
      "cell_type": "code",
      "metadata": {
        "id": "oUaKTMvO0jR5",
        "colab_type": "code",
        "colab": {
          "base_uri": "https://localhost:8080/",
          "height": 35
        },
        "outputId": "caf50550-69a6-4048-e580-a44b92f21090"
      },
      "source": [
        "cd /content/edX---Quantum-Machine-Learning"
      ],
      "execution_count": 2,
      "outputs": [
        {
          "output_type": "stream",
          "text": [
            "/content/edX---Quantum-Machine-Learning\n"
          ],
          "name": "stdout"
        }
      ]
    },
    {
      "cell_type": "code",
      "metadata": {
        "id": "O5H_Wcuk1Cy6",
        "colab_type": "code",
        "colab": {
          "base_uri": "https://localhost:8080/",
          "height": 1000
        },
        "outputId": "5d20a775-52e8-41b7-b371-852f81658d74"
      },
      "source": [
        "!pip install -r requirements.txt"
      ],
      "execution_count": 3,
      "outputs": [
        {
          "output_type": "stream",
          "text": [
            "Collecting appnope==0.1.0\n",
            "  Downloading https://files.pythonhosted.org/packages/87/a9/7985e6a53402f294c8f0e8eff3151a83f1fb901fa92909bb3ff29b4d22af/appnope-0.1.0-py2.py3-none-any.whl\n",
            "Collecting asn1crypto==0.24.0\n",
            "\u001b[?25l  Downloading https://files.pythonhosted.org/packages/ea/cd/35485615f45f30a510576f1a56d1e0a7ad7bd8ab5ed7cdc600ef7cd06222/asn1crypto-0.24.0-py2.py3-none-any.whl (101kB)\n",
            "\u001b[K     |████████████████████████████████| 102kB 3.8MB/s \n",
            "\u001b[?25hRequirement already satisfied: backcall==0.1.0 in /usr/local/lib/python3.6/dist-packages (from -r requirements.txt (line 3)) (0.1.0)\n",
            "Requirement already satisfied: bleach==3.1.0 in /usr/local/lib/python3.6/dist-packages (from -r requirements.txt (line 4)) (3.1.0)\n",
            "Collecting certifi==2018.11.29\n",
            "\u001b[?25l  Downloading https://files.pythonhosted.org/packages/9f/e0/accfc1b56b57e9750eba272e24c4dddeac86852c2bebd1236674d7887e8a/certifi-2018.11.29-py2.py3-none-any.whl (154kB)\n",
            "\u001b[K     |████████████████████████████████| 163kB 15.4MB/s \n",
            "\u001b[?25hCollecting cffi==1.11.5\n",
            "\u001b[?25l  Downloading https://files.pythonhosted.org/packages/6d/c0/47db8f624f3e4e2f3f27be03a93379d1ba16a1450a7b1aacfa0366e2c0dd/cffi-1.11.5-cp36-cp36m-manylinux1_x86_64.whl (421kB)\n",
            "\u001b[K     |████████████████████████████████| 430kB 75.7MB/s \n",
            "\u001b[?25hRequirement already satisfied: chardet==3.0.4 in /usr/local/lib/python3.6/dist-packages (from -r requirements.txt (line 7)) (3.0.4)\n",
            "Collecting cmake==3.13.3\n",
            "\u001b[?25l  Downloading https://files.pythonhosted.org/packages/45/c4/e69313ade2a3e992e7178744b0e56bdd8f23e79e15066a68cf490504beed/cmake-3.13.3-cp36-cp36m-manylinux1_x86_64.whl (15.9MB)\n",
            "\u001b[K     |████████████████████████████████| 15.9MB 54.5MB/s \n",
            "\u001b[?25hCollecting cryptography==2.5\n",
            "\u001b[?25l  Downloading https://files.pythonhosted.org/packages/98/71/e632e222f34632e0527dd41799f7847305e701f38f512d81bdf96009bca4/cryptography-2.5-cp34-abi3-manylinux1_x86_64.whl (2.4MB)\n",
            "\u001b[K     |████████████████████████████████| 2.4MB 42.5MB/s \n",
            "\u001b[?25hRequirement already satisfied: cvxopt==1.2.3 in /usr/local/lib/python3.6/dist-packages (from -r requirements.txt (line 10)) (1.2.3)\n",
            "Requirement already satisfied: cycler==0.10.0 in /usr/local/lib/python3.6/dist-packages (from -r requirements.txt (line 11)) (0.10.0)\n",
            "Collecting decorator==4.3.2\n",
            "  Downloading https://files.pythonhosted.org/packages/f1/cd/7c8240007e9716b14679bc217a1baefa4432aa30394f7e2ec40a52b1a708/decorator-4.3.2-py2.py3-none-any.whl\n",
            "Collecting defusedxml==0.5.0\n",
            "  Downloading https://files.pythonhosted.org/packages/87/1c/17f3e3935a913dfe2a5ca85fa5ccbef366bfd82eb318b1f75dadbf0affca/defusedxml-0.5.0-py2.py3-none-any.whl\n",
            "Collecting dimod==0.8.5\n",
            "\u001b[?25l  Downloading https://files.pythonhosted.org/packages/d1/a4/993e5084f608c42fa559b0d8facd36696747a25e532d17354904741742c2/dimod-0.8.5-cp36-cp36m-manylinux1_x86_64.whl (802kB)\n",
            "\u001b[K     |████████████████████████████████| 808kB 41.0MB/s \n",
            "\u001b[?25hCollecting dwave-networkx==0.7.1\n",
            "\u001b[?25l  Downloading https://files.pythonhosted.org/packages/ce/2b/34463199016d3d2af38a56c56494ea0642e339a6e48d13370029a1ed92ff/dwave_networkx-0.7.1-py2.py3-none-any.whl (76kB)\n",
            "\u001b[K     |████████████████████████████████| 81kB 12.8MB/s \n",
            "\u001b[?25hRequirement already satisfied: entrypoints==0.3 in /usr/local/lib/python3.6/dist-packages (from -r requirements.txt (line 16)) (0.3)\n",
            "Collecting h5py==2.9.0\n",
            "\u001b[?25l  Downloading https://files.pythonhosted.org/packages/30/99/d7d4fbf2d02bb30fb76179911a250074b55b852d34e98dd452a9f394ac06/h5py-2.9.0-cp36-cp36m-manylinux1_x86_64.whl (2.8MB)\n",
            "\u001b[K     |████████████████████████████████| 2.8MB 46.1MB/s \n",
            "\u001b[?25hRequirement already satisfied: idna==2.8 in /usr/local/lib/python3.6/dist-packages (from -r requirements.txt (line 18)) (2.8)\n",
            "Collecting ipykernel==5.1.0\n",
            "\u001b[?25l  Downloading https://files.pythonhosted.org/packages/d8/b0/f0be5c5ab335196f5cce96e5b889a4fcf5bfe462eb0acc05cd7e2caf65eb/ipykernel-5.1.0-py3-none-any.whl (113kB)\n",
            "\u001b[K     |████████████████████████████████| 122kB 59.8MB/s \n",
            "\u001b[?25hCollecting ipython==7.2.0\n",
            "\u001b[?25l  Downloading https://files.pythonhosted.org/packages/f0/b4/a9ea018c73a84ee6280b2e94a1a6af8d63e45903eac2da0640fa63bca4db/ipython-7.2.0-py3-none-any.whl (765kB)\n",
            "\u001b[K     |████████████████████████████████| 768kB 67.2MB/s \n",
            "\u001b[?25hRequirement already satisfied: ipython-genutils==0.2.0 in /usr/local/lib/python3.6/dist-packages (from -r requirements.txt (line 21)) (0.2.0)\n",
            "Collecting ipywidgets==7.4.2\n",
            "\u001b[?25l  Downloading https://files.pythonhosted.org/packages/30/9a/a008c7b1183fac9e52066d80a379b3c64eab535bd9d86cdc29a0b766fd82/ipywidgets-7.4.2-py2.py3-none-any.whl (111kB)\n",
            "\u001b[K     |████████████████████████████████| 112kB 68.3MB/s \n",
            "\u001b[?25hCollecting jedi==0.13.2\n",
            "\u001b[?25l  Downloading https://files.pythonhosted.org/packages/c2/bc/54d53f5bc4658380d0eca9055d72be4df45e5bfd91a4bac97da224a92553/jedi-0.13.2-py2.py3-none-any.whl (177kB)\n",
            "\u001b[K     |████████████████████████████████| 184kB 60.1MB/s \n",
            "\u001b[?25hCollecting Jinja2==2.10.1\n",
            "\u001b[?25l  Downloading https://files.pythonhosted.org/packages/1d/e7/fd8b501e7a6dfe492a433deb7b9d833d39ca74916fa8bc63dd1a4947a671/Jinja2-2.10.1-py2.py3-none-any.whl (124kB)\n",
            "\u001b[K     |████████████████████████████████| 133kB 66.2MB/s \n",
            "\u001b[?25hRequirement already satisfied: jsonschema==2.6.0 in /usr/local/lib/python3.6/dist-packages (from -r requirements.txt (line 25)) (2.6.0)\n",
            "Requirement already satisfied: jupyter==1.0.0 in /usr/local/lib/python3.6/dist-packages (from -r requirements.txt (line 26)) (1.0.0)\n",
            "Collecting jupyter-client==5.2.4\n",
            "\u001b[?25l  Downloading https://files.pythonhosted.org/packages/3b/c3/3043fe9ffd140d03c9d091a056794ccdc427c56ec19b8eea74f9ea0a498f/jupyter_client-5.2.4-py2.py3-none-any.whl (89kB)\n",
            "\u001b[K     |████████████████████████████████| 92kB 14.4MB/s \n",
            "\u001b[?25hCollecting jupyter-console==6.0.0\n",
            "  Downloading https://files.pythonhosted.org/packages/cb/ee/6374ae8c21b7d0847f9c3722dcdfac986b8e54fa9ad9ea66e1eb6320d2b8/jupyter_console-6.0.0-py2.py3-none-any.whl\n",
            "Collecting jupyter-core==4.4.0\n",
            "\u001b[?25l  Downloading https://files.pythonhosted.org/packages/1d/44/065d2d7bae7bebc06f1dd70d23c36da8c50c0f08b4236716743d706762a8/jupyter_core-4.4.0-py2.py3-none-any.whl (126kB)\n",
            "\u001b[K     |████████████████████████████████| 133kB 66.0MB/s \n",
            "\u001b[?25hCollecting kiwisolver==1.0.1\n",
            "\u001b[?25l  Downloading https://files.pythonhosted.org/packages/69/a7/88719d132b18300b4369fbffa741841cfd36d1e637e1990f27929945b538/kiwisolver-1.0.1-cp36-cp36m-manylinux1_x86_64.whl (949kB)\n",
            "\u001b[K     |████████████████████████████████| 952kB 54.3MB/s \n",
            "\u001b[?25hCollecting MarkupSafe==1.1.0\n",
            "  Downloading https://files.pythonhosted.org/packages/08/04/f2191b50fb7f0712f03f064b71d8b4605190f2178ba02e975a87f7b89a0d/MarkupSafe-1.1.0-cp36-cp36m-manylinux1_x86_64.whl\n",
            "Collecting marshmallow==2.18.0\n",
            "\u001b[?25l  Downloading https://files.pythonhosted.org/packages/9a/3c/4cc463c53136dc503f9ee234c4a6592e1c7411cb362f844e80df70361f29/marshmallow-2.18.0-py2.py3-none-any.whl (50kB)\n",
            "\u001b[K     |████████████████████████████████| 51kB 7.3MB/s \n",
            "\u001b[?25hCollecting marshmallow-polyfield==3.2\n",
            "  Downloading https://files.pythonhosted.org/packages/fa/ba/6406b8cce3e42b2838d234310c3605627083bbb8f71dcc312c616480fe92/marshmallow_polyfield-3.2-py2.py3-none-any.whl\n",
            "Collecting matplotlib==3.0.2\n",
            "\u001b[?25l  Downloading https://files.pythonhosted.org/packages/71/07/16d781df15be30df4acfd536c479268f1208b2dfbc91e9ca5d92c9caf673/matplotlib-3.0.2-cp36-cp36m-manylinux1_x86_64.whl (12.9MB)\n",
            "\u001b[K     |████████████████████████████████| 12.9MB 17.4MB/s \n",
            "\u001b[?25hCollecting minorminer==0.1.8\n",
            "\u001b[?25l  Downloading https://files.pythonhosted.org/packages/9e/87/98fdb28c7cb16fc791ce4961d220383f8e20ceacacf5c11a6152a200abd3/minorminer-0.1.8-cp36-cp36m-manylinux1_x86_64.whl (2.3MB)\n",
            "\u001b[K     |████████████████████████████████| 2.3MB 42.7MB/s \n",
            "\u001b[?25hRequirement already satisfied: mistune==0.8.4 in /usr/local/lib/python3.6/dist-packages (from -r requirements.txt (line 36)) (0.8.4)\n",
            "Requirement already satisfied: mpmath==1.1.0 in /usr/local/lib/python3.6/dist-packages (from -r requirements.txt (line 37)) (1.1.0)\n",
            "Collecting nbconvert==5.4.1\n",
            "\u001b[?25l  Downloading https://files.pythonhosted.org/packages/b8/39/1e67fea74dc9577cc49f9863fe3ec824e525d1304ab6027d95a94cd586f5/nbconvert-5.4.1-py2.py3-none-any.whl (407kB)\n",
            "\u001b[K     |████████████████████████████████| 409kB 31.8MB/s \n",
            "\u001b[?25hRequirement already satisfied: nbformat==4.4.0 in /usr/local/lib/python3.6/dist-packages (from -r requirements.txt (line 39)) (4.4.0)\n",
            "Collecting networkx==2.2\n",
            "\u001b[?25l  Downloading https://files.pythonhosted.org/packages/f3/f4/7e20ef40b118478191cec0b58c3192f822cace858c19505c7670961b76b2/networkx-2.2.zip (1.7MB)\n",
            "\u001b[K     |████████████████████████████████| 1.7MB 51.5MB/s \n",
            "\u001b[?25hCollecting notebook==5.7.8\n",
            "\u001b[?25l  Downloading https://files.pythonhosted.org/packages/f6/36/89ebfffc9dd8c8dbd81c1ffb53e3d4233ee666414c143959477cb07cc5f5/notebook-5.7.8-py2.py3-none-any.whl (9.0MB)\n",
            "\u001b[K     |████████████████████████████████| 9.0MB 41.9MB/s \n",
            "\u001b[?25hCollecting ntlm-auth==1.2.0\n",
            "  Downloading https://files.pythonhosted.org/packages/8e/5b/4047779fb456b0de503c4acb7b166becf2567efb772abb53998440791d3c/ntlm_auth-1.2.0-py2.py3-none-any.whl\n",
            "Collecting numpy==1.16.1\n",
            "\u001b[?25l  Downloading https://files.pythonhosted.org/packages/f5/bf/4981bcbee43934f0adb8f764a1e70ab0ee5a448f6505bd04a87a2fda2a8b/numpy-1.16.1-cp36-cp36m-manylinux1_x86_64.whl (17.3MB)\n",
            "\u001b[K     |████████████████████████████████| 17.3MB 245kB/s \n",
            "\u001b[?25hCollecting pandas==0.24.1\n",
            "\u001b[?25l  Downloading https://files.pythonhosted.org/packages/e6/de/a0d3defd8f338eaf53ef716e40ef6d6c277c35d50e09b586e170169cdf0d/pandas-0.24.1-cp36-cp36m-manylinux1_x86_64.whl (10.1MB)\n",
            "\u001b[K     |████████████████████████████████| 10.1MB 39.1MB/s \n",
            "\u001b[?25hRequirement already satisfied: pandocfilters==1.4.2 in /usr/local/lib/python3.6/dist-packages (from -r requirements.txt (line 45)) (1.4.2)\n",
            "Collecting parso==0.3.3\n",
            "\u001b[?25l  Downloading https://files.pythonhosted.org/packages/f9/95/917fbfaca4c173651cb8f02bd50712414a0e2a154c8b7077a80027c0864b/parso-0.3.3-py2.py3-none-any.whl (93kB)\n",
            "\u001b[K     |████████████████████████████████| 102kB 14.6MB/s \n",
            "\u001b[?25hCollecting pexpect==4.6.0\n",
            "\u001b[?25l  Downloading https://files.pythonhosted.org/packages/89/e6/b5a1de8b0cc4e07ca1b305a4fcc3f9806025c1b651ea302646341222f88b/pexpect-4.6.0-py2.py3-none-any.whl (57kB)\n",
            "\u001b[K     |████████████████████████████████| 61kB 10.9MB/s \n",
            "\u001b[?25hRequirement already satisfied: pickleshare==0.7.5 in /usr/local/lib/python3.6/dist-packages (from -r requirements.txt (line 48)) (0.7.5)\n",
            "Collecting Pillow==5.4.1\n",
            "\u001b[?25l  Downloading https://files.pythonhosted.org/packages/85/5e/e91792f198bbc5a0d7d3055ad552bc4062942d27eaf75c3e2783cf64eae5/Pillow-5.4.1-cp36-cp36m-manylinux1_x86_64.whl (2.0MB)\n",
            "\u001b[K     |████████████████████████████████| 2.0MB 46.7MB/s \n",
            "\u001b[?25hCollecting ply==3.11\n",
            "\u001b[?25l  Downloading https://files.pythonhosted.org/packages/a3/58/35da89ee790598a0700ea49b2a66594140f44dec458c07e8e3d4979137fc/ply-3.11-py2.py3-none-any.whl (49kB)\n",
            "\u001b[K     |████████████████████████████████| 51kB 8.8MB/s \n",
            "\u001b[?25hCollecting prometheus-client==0.5.0\n",
            "  Downloading https://files.pythonhosted.org/packages/bc/e1/3cddac03c8992815519c5f50493097f6508fa153d067b494db8ab5e9c4ce/prometheus_client-0.5.0.tar.gz\n",
            "Collecting prompt-toolkit==2.0.8\n",
            "\u001b[?25l  Downloading https://files.pythonhosted.org/packages/65/c2/e676da701cda11b32ff42eceb44aa7d8934b597d604bb5e94c0283def064/prompt_toolkit-2.0.8-py3-none-any.whl (342kB)\n",
            "\u001b[K     |████████████████████████████████| 348kB 54.2MB/s \n",
            "\u001b[?25hCollecting psutil==5.5.0\n",
            "\u001b[?25l  Downloading https://files.pythonhosted.org/packages/6e/a0/833bcbcede5141cc5615e50c7cc5b960ce93d9c9b885fbe3b7d36e48a2d4/psutil-5.5.0.tar.gz (425kB)\n",
            "\u001b[K     |████████████████████████████████| 430kB 69.1MB/s \n",
            "\u001b[?25hRequirement already satisfied: ptyprocess==0.6.0 in /usr/local/lib/python3.6/dist-packages (from -r requirements.txt (line 54)) (0.6.0)\n",
            "Requirement already satisfied: pycparser==2.19 in /usr/local/lib/python3.6/dist-packages (from -r requirements.txt (line 55)) (2.19)\n",
            "Collecting Pygments==2.3.1\n",
            "\u001b[?25l  Downloading https://files.pythonhosted.org/packages/13/e5/6d710c9cf96c31ac82657bcfb441df328b22df8564d58d0c4cd62612674c/Pygments-2.3.1-py2.py3-none-any.whl (849kB)\n",
            "\u001b[K     |████████████████████████████████| 849kB 50.5MB/s \n",
            "\u001b[?25hCollecting pyobjc-core==5.1.2\n",
            "\u001b[?25l  Downloading https://files.pythonhosted.org/packages/9c/2d/a8755387a39d514d7fe87eb0d2e8e69cc799194b24c9cb4fef5375c8ec22/pyobjc-core-5.1.2.tar.gz (794kB)\n",
            "\u001b[K     |████████████████████████████████| 798kB 54.8MB/s \n",
            "\u001b[31mERROR: Command errored out with exit status 1: python setup.py egg_info Check the logs for full command output.\u001b[0m\n",
            "\u001b[?25h"
          ],
          "name": "stdout"
        }
      ]
    },
    {
      "cell_type": "code",
      "metadata": {
        "id": "VSqmrj4X1IXL",
        "colab_type": "code",
        "colab": {}
      },
      "source": [
        ""
      ],
      "execution_count": 0,
      "outputs": []
    },
    {
      "cell_type": "code",
      "metadata": {
        "id": "RGlS6LnX1Pep",
        "colab_type": "code",
        "colab": {
          "base_uri": "https://localhost:8080/",
          "height": 1000
        },
        "outputId": "b102c777-9fe1-459f-9f5e-d7b9813881dd"
      },
      "source": [
        "!pip install qiskit"
      ],
      "execution_count": 5,
      "outputs": [
        {
          "output_type": "stream",
          "text": [
            "Collecting qiskit\n",
            "  Downloading https://files.pythonhosted.org/packages/9e/2d/4c09bc1292a3be92f8c003b8491215ac9a0d81b014384e95a659a58ddf57/qiskit-0.13.0.tar.gz\n",
            "Collecting qiskit-terra==0.10.0\n",
            "\u001b[?25l  Downloading https://files.pythonhosted.org/packages/09/97/1be77cc1b22f3bd341024b1bae89d71ca9ee147ac047f793364cadc873a8/qiskit_terra-0.10.0-cp36-cp36m-manylinux1_x86_64.whl (1.6MB)\n",
            "\u001b[K     |████████████████████████████████| 1.6MB 4.8MB/s \n",
            "\u001b[?25hCollecting qiskit-aer==0.3.2\n",
            "\u001b[?25l  Downloading https://files.pythonhosted.org/packages/57/aa/8f6d5515f6e70e41d9f7e5ee2b3ce18cabe5fb21001a169757d1f1f8ff1f/qiskit_aer-0.3.2-cp36-cp36m-manylinux2010_x86_64.whl (17.3MB)\n",
            "\u001b[K     |████████████████████████████████| 17.3MB 25.0MB/s \n",
            "\u001b[?25hCollecting qiskit-ibmq-provider==0.3.3\n",
            "\u001b[?25l  Downloading https://files.pythonhosted.org/packages/cb/6a/ae5f648a565492dd6a39d2472e8940434f2df36c9c4422a39bc9535bfe01/qiskit-ibmq-provider-0.3.3.tar.gz (57kB)\n",
            "\u001b[K     |████████████████████████████████| 61kB 7.8MB/s \n",
            "\u001b[?25hCollecting qiskit-ignis==0.2.0\n",
            "\u001b[?25l  Downloading https://files.pythonhosted.org/packages/78/f2/f4f89c65d2c13f473092f7e800519836611ddeeaab8d4591a70555b26a37/qiskit_ignis-0.2.0-py3-none-any.whl (100kB)\n",
            "\u001b[K     |████████████████████████████████| 102kB 12.9MB/s \n",
            "\u001b[?25hCollecting qiskit-aqua==0.6.1\n",
            "\u001b[?25l  Downloading https://files.pythonhosted.org/packages/47/2b/632c195974804d17dca01554caa013dd0c3023f4e4e6b91213c3381ce514/qiskit_aqua-0.6.1-py3-none-any.whl (979kB)\n",
            "\u001b[K     |████████████████████████████████| 983kB 44.6MB/s \n",
            "\u001b[?25hCollecting ply>=3.10\n",
            "  Using cached https://files.pythonhosted.org/packages/a3/58/35da89ee790598a0700ea49b2a66594140f44dec458c07e8e3d4979137fc/ply-3.11-py2.py3-none-any.whl\n",
            "Collecting sympy>=1.3\n",
            "\u001b[?25l  Downloading https://files.pythonhosted.org/packages/21/21/f4105795ca7f35c541d82c5b06be684dd2f5cb4f508fb487cd7aea4de776/sympy-1.4-py2.py3-none-any.whl (5.3MB)\n",
            "\u001b[K     |████████████████████████████████| 5.3MB 48.4MB/s \n",
            "\u001b[?25hRequirement already satisfied: numpy>=1.13 in /usr/local/lib/python3.6/dist-packages (from qiskit-terra==0.10.0->qiskit) (1.17.4)\n",
            "Collecting marshmallow<4,>=3\n",
            "\u001b[?25l  Downloading https://files.pythonhosted.org/packages/e1/ca/406bf7b2d42da406bf1474e231b23c21e16007fea7e213f1fbc9bcd62cc8/marshmallow-3.2.2-py2.py3-none-any.whl (45kB)\n",
            "\u001b[K     |████████████████████████████████| 51kB 8.1MB/s \n",
            "\u001b[?25hRequirement already satisfied: psutil>=5 in /usr/local/lib/python3.6/dist-packages (from qiskit-terra==0.10.0->qiskit) (5.4.8)\n",
            "Collecting marshmallow-polyfield<6,>=5.7\n",
            "  Downloading https://files.pythonhosted.org/packages/d7/6c/416e7e529d03362bb57bb4be16a0bb1ada6325b12adf3e31fec4c10ef1b1/marshmallow-polyfield-5.7.tar.gz\n",
            "Requirement already satisfied: jsonschema>=2.6 in /usr/local/lib/python3.6/dist-packages (from qiskit-terra==0.10.0->qiskit) (2.6.0)\n",
            "Requirement already satisfied: scipy>=1.0 in /usr/local/lib/python3.6/dist-packages (from qiskit-terra==0.10.0->qiskit) (1.3.2)\n",
            "Requirement already satisfied: networkx>=2.2 in /usr/local/lib/python3.6/dist-packages (from qiskit-terra==0.10.0->qiskit) (2.4)\n",
            "Collecting nest-asyncio==1.0.0\n",
            "  Downloading https://files.pythonhosted.org/packages/62/18/4c6a895c925e8822e72535d774861e9ca07089c4b938ed20002b1aaab66a/nest_asyncio-1.0.0-py3-none-any.whl\n",
            "Requirement already satisfied: requests>=2.19 in /usr/local/lib/python3.6/dist-packages (from qiskit-ibmq-provider==0.3.3->qiskit) (2.21.0)\n",
            "Collecting requests-ntlm>=1.1.0\n",
            "  Downloading https://files.pythonhosted.org/packages/03/4b/8b9a1afde8072c4d5710d9fa91433d504325821b038e00237dc8d6d833dc/requests_ntlm-1.1.0-py2.py3-none-any.whl\n",
            "Collecting websockets<8,>=7\n",
            "\u001b[?25l  Downloading https://files.pythonhosted.org/packages/43/71/8bfa882b9c502c36e5c9ef6732969533670d2b039cbf95a82ced8f762b80/websockets-7.0-cp36-cp36m-manylinux1_x86_64.whl (63kB)\n",
            "\u001b[K     |████████████████████████████████| 71kB 10.7MB/s \n",
            "\u001b[?25hRequirement already satisfied: setuptools>=40.1.0 in /usr/local/lib/python3.6/dist-packages (from qiskit-ignis==0.2.0->qiskit) (41.6.0)\n",
            "Collecting pyscf; sys_platform != \"win32\"\n",
            "\u001b[?25l  Downloading https://files.pythonhosted.org/packages/0e/ce/c20e3d841eb489a83d8d8c63af48d0a407acbcea35fa37c0d08710072a6d/pyscf-1.6.5-cp36-cp36m-manylinux1_x86_64.whl (21.7MB)\n",
            "\u001b[K     |████████████████████████████████| 21.7MB 400kB/s \n",
            "\u001b[?25hRequirement already satisfied: fastdtw in /usr/local/lib/python3.6/dist-packages (from qiskit-aqua==0.6.1->qiskit) (0.3.4)\n",
            "Collecting dlx\n",
            "  Downloading https://files.pythonhosted.org/packages/54/c0/b8fb5bb727e983b6f5251433ef941b48f38c65bb0bd6ec509e9185bcd406/dlx-1.0.4.tar.gz\n",
            "Requirement already satisfied: cvxopt in /usr/local/lib/python3.6/dist-packages (from qiskit-aqua==0.6.1->qiskit) (1.2.3)\n",
            "Requirement already satisfied: h5py in /usr/local/lib/python3.6/dist-packages (from qiskit-aqua==0.6.1->qiskit) (2.8.0)\n",
            "Requirement already satisfied: scikit-learn>=0.20.0 in /usr/local/lib/python3.6/dist-packages (from qiskit-aqua==0.6.1->qiskit) (0.21.3)\n",
            "Collecting docplex\n",
            "\u001b[?25l  Downloading https://files.pythonhosted.org/packages/77/6b/b8a71573c8cca835cd2d6b36ae341ab93ab44bd27208fe20d5bf3c00c990/docplex-2.11.176.tar.gz (557kB)\n",
            "\u001b[K     |████████████████████████████████| 563kB 51.7MB/s \n",
            "\u001b[?25hCollecting quandl\n",
            "  Downloading https://files.pythonhosted.org/packages/12/64/6314547cb01fa75697ddba6d6d43a9f1d023c1730ffc6abf3db7a0c89222/Quandl-3.4.8-py2.py3-none-any.whl\n",
            "Requirement already satisfied: mpmath>=0.19 in /usr/local/lib/python3.6/dist-packages (from sympy>=1.3->qiskit-terra==0.10.0->qiskit) (1.1.0)\n",
            "Requirement already satisfied: six in /usr/local/lib/python3.6/dist-packages (from marshmallow-polyfield<6,>=5.7->qiskit-terra==0.10.0->qiskit) (1.12.0)\n",
            "Requirement already satisfied: decorator>=4.3.0 in /usr/local/lib/python3.6/dist-packages (from networkx>=2.2->qiskit-terra==0.10.0->qiskit) (4.4.1)\n",
            "Requirement already satisfied: idna<2.9,>=2.5 in /usr/local/lib/python3.6/dist-packages (from requests>=2.19->qiskit-ibmq-provider==0.3.3->qiskit) (2.8)\n",
            "Requirement already satisfied: chardet<3.1.0,>=3.0.2 in /usr/local/lib/python3.6/dist-packages (from requests>=2.19->qiskit-ibmq-provider==0.3.3->qiskit) (3.0.4)\n",
            "Requirement already satisfied: certifi>=2017.4.17 in /usr/local/lib/python3.6/dist-packages (from requests>=2.19->qiskit-ibmq-provider==0.3.3->qiskit) (2019.9.11)\n",
            "Requirement already satisfied: urllib3<1.25,>=1.21.1 in /usr/local/lib/python3.6/dist-packages (from requests>=2.19->qiskit-ibmq-provider==0.3.3->qiskit) (1.24.3)\n",
            "Collecting cryptography>=1.3\n",
            "\u001b[?25l  Downloading https://files.pythonhosted.org/packages/ca/9a/7cece52c46546e214e10811b36b2da52ce1ea7fa203203a629b8dfadad53/cryptography-2.8-cp34-abi3-manylinux2010_x86_64.whl (2.3MB)\n",
            "\u001b[K     |████████████████████████████████| 2.3MB 41.0MB/s \n",
            "\u001b[?25hCollecting ntlm-auth>=1.0.2\n",
            "  Downloading https://files.pythonhosted.org/packages/50/09/5e397eb18685b14fd8b209e26cdb4fa6451c82c1bcc651fef05fa73e7b27/ntlm_auth-1.4.0-py2.py3-none-any.whl\n",
            "Requirement already satisfied: joblib>=0.11 in /usr/local/lib/python3.6/dist-packages (from scikit-learn>=0.20.0->qiskit-aqua==0.6.1->qiskit) (0.14.0)\n",
            "Collecting docloud>=1.0.375\n",
            "  Downloading https://files.pythonhosted.org/packages/89/1c/fcb7ea86ae5cb7137a22f00bcaa785de2d102bd4a2b16383ec4a877a835b/docloud-1.0.375.tar.gz\n",
            "Requirement already satisfied: python-dateutil in /usr/local/lib/python3.6/dist-packages (from quandl->qiskit-aqua==0.6.1->qiskit) (2.6.1)\n",
            "Collecting inflection>=0.3.1\n",
            "  Downloading https://files.pythonhosted.org/packages/d5/35/a6eb45b4e2356fe688b21570864d4aa0d0a880ce387defe9c589112077f8/inflection-0.3.1.tar.gz\n",
            "Collecting more-itertools<=5.0.0\n",
            "\u001b[?25l  Downloading https://files.pythonhosted.org/packages/a4/a6/42f17d065bda1fac255db13afc94c93dbfb64393eae37c749b4cb0752fc7/more_itertools-5.0.0-py3-none-any.whl (52kB)\n",
            "\u001b[K     |████████████████████████████████| 61kB 9.3MB/s \n",
            "\u001b[?25hCollecting pyOpenSSL\n",
            "\u001b[?25l  Downloading https://files.pythonhosted.org/packages/9e/de/f8342b68fa9e981d348039954657bdf681b2ab93de27443be51865ffa310/pyOpenSSL-19.1.0-py2.py3-none-any.whl (53kB)\n",
            "\u001b[K     |████████████████████████████████| 61kB 10.2MB/s \n",
            "\u001b[?25hCollecting ndg-httpsclient\n",
            "  Downloading https://files.pythonhosted.org/packages/fb/67/c2f508c00ed2a6911541494504b7cac16fe0b0473912568df65fd1801132/ndg_httpsclient-0.5.1-py3-none-any.whl\n",
            "Requirement already satisfied: pyasn1 in /usr/local/lib/python3.6/dist-packages (from quandl->qiskit-aqua==0.6.1->qiskit) (0.4.7)\n",
            "Requirement already satisfied: pandas>=0.14 in /usr/local/lib/python3.6/dist-packages (from quandl->qiskit-aqua==0.6.1->qiskit) (0.25.3)\n",
            "Requirement already satisfied: cffi!=1.11.3,>=1.8 in /usr/local/lib/python3.6/dist-packages (from cryptography>=1.3->requests-ntlm>=1.1.0->qiskit-ibmq-provider==0.3.3->qiskit) (1.13.2)\n",
            "Requirement already satisfied: pytz>=2017.2 in /usr/local/lib/python3.6/dist-packages (from pandas>=0.14->quandl->qiskit-aqua==0.6.1->qiskit) (2018.9)\n",
            "Requirement already satisfied: pycparser in /usr/local/lib/python3.6/dist-packages (from cffi!=1.11.3,>=1.8->cryptography>=1.3->requests-ntlm>=1.1.0->qiskit-ibmq-provider==0.3.3->qiskit) (2.19)\n",
            "Building wheels for collected packages: qiskit, qiskit-ibmq-provider, marshmallow-polyfield, dlx, docplex, docloud, inflection\n",
            "  Building wheel for qiskit (setup.py) ... \u001b[?25l\u001b[?25hdone\n",
            "  Created wheel for qiskit: filename=qiskit-0.13.0-cp36-none-any.whl size=1399 sha256=8cce82de29a198a72bd8ed833be048ca5bbd4749819e600c31b5c02c1f23c56f\n",
            "  Stored in directory: /root/.cache/pip/wheels/4e/f0/27/e914f739445603aa0229efc92a205fbbe3535aa1054b5a1f67\n",
            "  Building wheel for qiskit-ibmq-provider (setup.py) ... \u001b[?25l\u001b[?25hdone\n",
            "  Created wheel for qiskit-ibmq-provider: filename=qiskit_ibmq_provider-0.3.3-cp36-none-any.whl size=85719 sha256=574de9f8ae054c89ea96561acc9b2066140e3855be066173d035d53638fd63e3\n",
            "  Stored in directory: /root/.cache/pip/wheels/52/ff/94/ed9ed05fff0099b4de0a27df50fcf3bc7a0db91b356819dc1c\n",
            "  Building wheel for marshmallow-polyfield (setup.py) ... \u001b[?25l\u001b[?25hdone\n",
            "  Created wheel for marshmallow-polyfield: filename=marshmallow_polyfield-5.7-cp36-none-any.whl size=8580 sha256=b047d88efca51cf7d45ef7b407de2e9a88e125a9e5e0081f6209b897dc9cbf5b\n",
            "  Stored in directory: /root/.cache/pip/wheels/68/f5/09/1dcfa8613b095bb326caadfb4b111d7fc945875948b75f5c14\n",
            "  Building wheel for dlx (setup.py) ... \u001b[?25l\u001b[?25hdone\n",
            "  Created wheel for dlx: filename=dlx-1.0.4-cp36-none-any.whl size=5710 sha256=069f3776b458fed58df8a5150a80eb8114e3deef299a79f26086edfc7eaa41c3\n",
            "  Stored in directory: /root/.cache/pip/wheels/bb/ba/15/fdd0deb104df3254912998150ba9245668db06b00af5912d1a\n",
            "  Building wheel for docplex (setup.py) ... \u001b[?25l\u001b[?25hdone\n",
            "  Created wheel for docplex: filename=docplex-2.11.176-cp36-none-any.whl size=618499 sha256=155722f209fee6330fa5f554efc2db3685f0a36a07e6316922268f7dacdfed8f\n",
            "  Stored in directory: /root/.cache/pip/wheels/67/f9/a4/a1ea7f35c16adca0337cc3d996bdebd489ed4244896a9d089d\n",
            "  Building wheel for docloud (setup.py) ... \u001b[?25l\u001b[?25hdone\n",
            "  Created wheel for docloud: filename=docloud-1.0.375-cp36-none-any.whl size=19479 sha256=cc76ee10aa2c9dc42e92c240fef4e9c2417af430409e30f431461f392fd2ab54\n",
            "  Stored in directory: /root/.cache/pip/wheels/4e/24/19/9b0e57545d7543ecec35c5faff78c058bf0c2506369c8b1d31\n",
            "  Building wheel for inflection (setup.py) ... \u001b[?25l\u001b[?25hdone\n",
            "  Created wheel for inflection: filename=inflection-0.3.1-cp36-none-any.whl size=6076 sha256=4e5ae58a6b9d1b38c2f02a74e0a727711ff4b80a9322c1da1f5c5f71de8264d8\n",
            "  Stored in directory: /root/.cache/pip/wheels/9f/5a/d3/6fc3bf6516d2a3eb7e18f9f28b472110b59325f3f258fe9211\n",
            "Successfully built qiskit qiskit-ibmq-provider marshmallow-polyfield dlx docplex docloud inflection\n",
            "\u001b[31mERROR: datascience 0.10.6 has requirement folium==0.2.1, but you'll have folium 0.8.3 which is incompatible.\u001b[0m\n",
            "Installing collected packages: ply, sympy, marshmallow, marshmallow-polyfield, qiskit-terra, qiskit-aer, nest-asyncio, cryptography, ntlm-auth, requests-ntlm, websockets, qiskit-ibmq-provider, qiskit-ignis, pyscf, dlx, docloud, docplex, inflection, more-itertools, pyOpenSSL, ndg-httpsclient, quandl, qiskit-aqua, qiskit\n",
            "  Found existing installation: sympy 1.1.1\n",
            "    Uninstalling sympy-1.1.1:\n",
            "      Successfully uninstalled sympy-1.1.1\n",
            "  Found existing installation: more-itertools 7.2.0\n",
            "    Uninstalling more-itertools-7.2.0:\n",
            "      Successfully uninstalled more-itertools-7.2.0\n",
            "Successfully installed cryptography-2.8 dlx-1.0.4 docloud-1.0.375 docplex-2.11.176 inflection-0.3.1 marshmallow-3.2.2 marshmallow-polyfield-5.7 more-itertools-5.0.0 ndg-httpsclient-0.5.1 nest-asyncio-1.0.0 ntlm-auth-1.4.0 ply-3.11 pyOpenSSL-19.1.0 pyscf-1.6.5 qiskit-0.13.0 qiskit-aer-0.3.2 qiskit-aqua-0.6.1 qiskit-ibmq-provider-0.3.3 qiskit-ignis-0.2.0 qiskit-terra-0.10.0 quandl-3.4.8 requests-ntlm-1.1.0 sympy-1.4 websockets-7.0\n"
          ],
          "name": "stdout"
        }
      ]
    },
    {
      "cell_type": "code",
      "metadata": {
        "id": "o0aEbxKR5tFs",
        "colab_type": "code",
        "colab": {}
      },
      "source": [
        "import numpy as np\n",
        "from qiskit import QuantumCircuit, ClassicalRegister, QuantumRegister, execute, BasicAer\n",
        "from qiskit.tools.visualization import circuit_drawer\n",
        "np.set_printoptions(precision=7, suppress=True)\n",
        "\n",
        "backend_statevector = BasicAer.get_backend('statevector_simulator')\n",
        "q, c = QuantumRegister(1), ClassicalRegister(1)"
      ],
      "execution_count": 0,
      "outputs": []
    },
    {
      "cell_type": "code",
      "metadata": {
        "id": "TSpXOlIq1Utg",
        "colab_type": "code",
        "colab": {
          "base_uri": "https://localhost:8080/",
          "height": 177
        },
        "outputId": "3b74bb76-3b62-4e03-851d-be3409fdfba3"
      },
      "source": [
        "X = np.array([[0, 1], [1, 0]])\n",
        "\n",
        "print(\"X X†\\n\")\n",
        "print(X.dot(X.T.conj()))\n",
        "\n",
        "print(\"\\nX† X\\n\")\n",
        "print(X.T.conj().dot(X))"
      ],
      "execution_count": 45,
      "outputs": [
        {
          "output_type": "stream",
          "text": [
            "X X†\n",
            "\n",
            "[[1 0]\n",
            " [0 1]]\n",
            "\n",
            "X† X\n",
            "\n",
            "[[1 0]\n",
            " [0 1]]\n"
          ],
          "name": "stdout"
        }
      ]
    },
    {
      "cell_type": "code",
      "metadata": {
        "id": "lWdxx6XW1ldG",
        "colab_type": "code",
        "colab": {
          "base_uri": "https://localhost:8080/",
          "height": 70
        },
        "outputId": "fef16231-cb7d-477b-eaa5-42e2e637888e"
      },
      "source": [
        "zero_ket = np.array([[1], [0]])\n",
        "\n",
        "print(\"The norm of the state |0> before applying X = %f\\n\" % np.linalg.norm(zero_ket))\n",
        "print(\"The norm of the state after applying X = %f\" % np.linalg.norm(X.dot(zero_ket)))"
      ],
      "execution_count": 46,
      "outputs": [
        {
          "output_type": "stream",
          "text": [
            "The norm of the state |0> before applying X = 1.000000\n",
            "\n",
            "The norm of the state after applying X = 1.000000\n"
          ],
          "name": "stdout"
        }
      ]
    },
    {
      "cell_type": "code",
      "metadata": {
        "id": "jJYHfyt31pao",
        "colab_type": "code",
        "colab": {
          "base_uri": "https://localhost:8080/",
          "height": 35
        },
        "outputId": "bba7ce46-f156-4fe0-e39e-59194862f3bc"
      },
      "source": [
        "circuit = QuantumCircuit(q, c)\n",
        "circuit.x(q[0])\n",
        "circuit.x(q[0])\n",
        "job = execute(circuit, backend_statevector)\n",
        "print(job.result().get_statevector(circuit))"
      ],
      "execution_count": 47,
      "outputs": [
        {
          "output_type": "stream",
          "text": [
            "[1.+0.j 0.+0.j]\n"
          ],
          "name": "stdout"
        }
      ]
    },
    {
      "cell_type": "code",
      "metadata": {
        "id": "Zg7ZvgJZ1sS8",
        "colab_type": "code",
        "colab": {
          "base_uri": "https://localhost:8080/",
          "height": 124
        },
        "outputId": "a0daeac4-086d-4af4-d7f9-6249ec9292d7"
      },
      "source": [
        "def mixed_state(densityMatrix, visibility):\n",
        "    maximally_mixed_state = np.eye(4) / 2**2\n",
        "    return (visibility * densityMatrix) + (1 - visibility) * maximally_mixed_state\n",
        "\n",
        "øKet = np.array([[1], [0], [0], [1]]) / np.sqrt(2)\n",
        "øBra = øKet.T.conj()\n",
        "\n",
        "øRho = øKet.dot(øBra)\n",
        "print('density matrix of |ø>\\n\\n', øRho)"
      ],
      "execution_count": 48,
      "outputs": [
        {
          "output_type": "stream",
          "text": [
            "density matrix of |ø>\n",
            "\n",
            " [[0.5 0.  0.  0.5]\n",
            " [0.  0.  0.  0. ]\n",
            " [0.  0.  0.  0. ]\n",
            " [0.5 0.  0.  0.5]]\n"
          ],
          "name": "stdout"
        }
      ]
    },
    {
      "cell_type": "code",
      "metadata": {
        "id": "Ph_UlAEF1xDC",
        "colab_type": "code",
        "colab": {
          "base_uri": "https://localhost:8080/",
          "height": 284
        },
        "outputId": "494ac0d9-42de-469d-9387-2d89a9cf7edb"
      },
      "source": [
        "print(\"Maximum visibility is a pure state:\")\n",
        "print(mixed_state(øRho, 1.0))\n",
        "\n",
        "print(\"The state is still entangled with visibility 0.8:\")\n",
        "print(mixed_state(øRho, 0.5))\n",
        "\n",
        "print(\"No coherence left:\")\n",
        "print(mixed_state(øRho, 0))"
      ],
      "execution_count": 50,
      "outputs": [
        {
          "output_type": "stream",
          "text": [
            "Maximum visibility is a pure state:\n",
            "[[0.5 0.  0.  0.5]\n",
            " [0.  0.  0.  0. ]\n",
            " [0.  0.  0.  0. ]\n",
            " [0.5 0.  0.  0.5]]\n",
            "The state is still entangled with visibility 0.8:\n",
            "[[0.375 0.    0.    0.25 ]\n",
            " [0.    0.125 0.    0.   ]\n",
            " [0.    0.    0.125 0.   ]\n",
            " [0.25  0.    0.    0.375]]\n",
            "No coherence left:\n",
            "[[0.25 0.   0.   0.  ]\n",
            " [0.   0.25 0.   0.  ]\n",
            " [0.   0.   0.25 0.  ]\n",
            " [0.   0.   0.   0.25]]\n"
          ],
          "name": "stdout"
        }
      ]
    },
    {
      "cell_type": "code",
      "metadata": {
        "id": "2i2Bbina11g9",
        "colab_type": "code",
        "colab": {
          "base_uri": "https://localhost:8080/",
          "height": 280
        },
        "outputId": "6659cc8e-dc8e-4ec9-c291-508dfe337bae"
      },
      "source": [
        "import matplotlib.pyplot as plt\n",
        "\n",
        "temperatures = [.5, 5, 2000]\n",
        "energies = np.linspace(0, 20, 100)\n",
        "\n",
        "fig, ax = plt.subplots()\n",
        "\n",
        "for i, T in enumerate(temperatures):\n",
        "    probabilities = np.exp(-energies/T)\n",
        "    Z = probabilities.sum()\n",
        "    probabilities /= Z\n",
        "    ax.plot(energies, probabilities, linewidth=3, label = \"$T_\" + str(i+1)+\"$\")\n",
        "\n",
        "ax.set_xlim(0, 20); ax.set_ylim(0, 1.2 * probabilities.max())\n",
        "ax.set_xticks([]); ax.set_yticks([])\n",
        "ax.set_xlabel('Energy'); ax.set_ylabel('Probability'); ax.legend()"
      ],
      "execution_count": 51,
      "outputs": [
        {
          "output_type": "execute_result",
          "data": {
            "text/plain": [
              "<matplotlib.legend.Legend at 0x7f01bbf9ad30>"
            ]
          },
          "metadata": {
            "tags": []
          },
          "execution_count": 51
        },
        {
          "output_type": "display_data",
          "data": {
            "image/png": "[encoded data removed]",
            "text/plain": [
              "<Figure size 432x288 with 1 Axes>"
            ]
          },
          "metadata": {
            "tags": []
          }
        }
      ]
    },
    {
      "cell_type": "code",
      "metadata": {
        "id": "InEAF2NI19_L",
        "colab_type": "code",
        "colab": {}
      },
      "source": [
        ""
      ],
      "execution_count": 0,
      "outputs": []
    },
    {
      "cell_type": "code",
      "metadata": {
        "id": "_-bc2Aa72Bb9",
        "colab_type": "code",
        "colab": {}
      },
      "source": [
        ""
      ],
      "execution_count": 0,
      "outputs": []
    },
    {
      "cell_type": "code",
      "metadata": {
        "id": "kbmr0Xg42FJS",
        "colab_type": "code",
        "colab": {}
      },
      "source": [
        ""
      ],
      "execution_count": 0,
      "outputs": []
    },
    {
      "cell_type": "code",
      "metadata": {
        "id": "0gkJO6cK2Jv1",
        "colab_type": "code",
        "colab": {}
      },
      "source": [
        ""
      ],
      "execution_count": 0,
      "outputs": []
    },
    {
      "cell_type": "code",
      "metadata": {
        "id": "9tpXOl9W2Mkw",
        "colab_type": "code",
        "colab": {}
      },
      "source": [
        ""
      ],
      "execution_count": 0,
      "outputs": []
    },
    {
      "cell_type": "code",
      "metadata": {
        "id": "9sLHzQGL2U6u",
        "colab_type": "code",
        "colab": {}
      },
      "source": [
        ""
      ],
      "execution_count": 0,
      "outputs": []
    }
  ]
}