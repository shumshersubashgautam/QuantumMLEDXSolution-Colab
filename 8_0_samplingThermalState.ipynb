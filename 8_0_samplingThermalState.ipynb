{
  "nbformat": 4,
  "nbformat_minor": 0,
  "metadata": {
    "colab": {
      "name": "8.0:samplingThermalState.ipynb",
      "provenance": [],
      "include_colab_link": true
    },
    "kernelspec": {
      "name": "python3",
      "display_name": "Python 3"
    },
    "accelerator": "GPU"
  },
  "cells": [
    {
      "cell_type": "markdown",
      "metadata": {
        "id": "view-in-github",
        "colab_type": "text"
      },
      "source": [
        "<a href=\"https://colab.research.google.com/github/shumshersubashgautam/QuantumMLEDXSolution-Colab/blob/master/8_0_samplingThermalState.ipynb\" target=\"_parent\"><img src=\"https://colab.research.google.com/assets/colab-badge.svg\" alt=\"Open In Colab\"/></a>"
      ]
    },
    {
      "cell_type": "code",
      "metadata": {
        "id": "tc8Z3BJTRFIH",
        "colab_type": "code",
        "colab": {}
      },
      "source": [
        "import itertools\n",
        "import matplotlib.pyplot as plt\n",
        "import numpy as np\n",
        "import dimod\n",
        "np.set_printoptions(precision=7, suppress=True)\n",
        "from functools import reduce, partial\n",
        "from scipy.optimize import minimize\n",
        "\n",
        "from qiskit import BasicAer, QuantumRegister, QuantumCircuit, ClassicalRegister, execute\n",
        "from qiskit.quantum_info import Pauli\n",
        "from qiskit.aqua import get_aer_backend, QuantumInstance\n",
        "from qiskit.aqua.operator import Operator\n",
        "from qiskit.aqua.components.initial_states import Custom\n"
      ],
      "execution_count": 0,
      "outputs": []
    },
    {
      "cell_type": "code",
      "metadata": {
        "id": "rZekFichSamK",
        "colab_type": "code",
        "outputId": "d7204b29-78fa-47c3-9306-d5e5f04930a7",
        "colab": {
          "base_uri": "https://localhost:8080/",
          "height": 1000
        }
      },
      "source": [
        "!pip install qiskit"
      ],
      "execution_count": 0,
      "outputs": [
        {
          "output_type": "stream",
          "text": [
            "Collecting qiskit\n",
            "  Downloading https://files.pythonhosted.org/packages/9e/2d/4c09bc1292a3be92f8c003b8491215ac9a0d81b014384e95a659a58ddf57/qiskit-0.13.0.tar.gz\n",
            "Collecting qiskit-terra==0.10.0\n",
            "\u001b[?25l  Downloading https://files.pythonhosted.org/packages/09/97/1be77cc1b22f3bd341024b1bae89d71ca9ee147ac047f793364cadc873a8/qiskit_terra-0.10.0-cp36-cp36m-manylinux1_x86_64.whl (1.6MB)\n",
            "\u001b[K     |████████████████████████████████| 1.6MB 2.8MB/s \n",
            "\u001b[?25hCollecting qiskit-aer==0.3.2\n",
            "\u001b[?25l  Downloading https://files.pythonhosted.org/packages/57/aa/8f6d5515f6e70e41d9f7e5ee2b3ce18cabe5fb21001a169757d1f1f8ff1f/qiskit_aer-0.3.2-cp36-cp36m-manylinux2010_x86_64.whl (17.3MB)\n",
            "\u001b[K     |████████████████████████████████| 17.3MB 40.2MB/s \n",
            "\u001b[?25hCollecting qiskit-ibmq-provider==0.3.3\n",
            "\u001b[?25l  Downloading https://files.pythonhosted.org/packages/cb/6a/ae5f648a565492dd6a39d2472e8940434f2df36c9c4422a39bc9535bfe01/qiskit-ibmq-provider-0.3.3.tar.gz (57kB)\n",
            "\u001b[K     |████████████████████████████████| 61kB 8.0MB/s \n",
            "\u001b[?25hCollecting qiskit-ignis==0.2.0\n",
            "\u001b[?25l  Downloading https://files.pythonhosted.org/packages/78/f2/f4f89c65d2c13f473092f7e800519836611ddeeaab8d4591a70555b26a37/qiskit_ignis-0.2.0-py3-none-any.whl (100kB)\n",
            "\u001b[K     |████████████████████████████████| 102kB 12.2MB/s \n",
            "\u001b[?25hCollecting qiskit-aqua==0.6.1\n",
            "\u001b[?25l  Downloading https://files.pythonhosted.org/packages/47/2b/632c195974804d17dca01554caa013dd0c3023f4e4e6b91213c3381ce514/qiskit_aqua-0.6.1-py3-none-any.whl (979kB)\n",
            "\u001b[K     |████████████████████████████████| 983kB 40.2MB/s \n",
            "\u001b[?25hRequirement already satisfied: numpy>=1.13 in /usr/local/lib/python3.6/dist-packages (from qiskit-terra==0.10.0->qiskit) (1.17.4)\n",
            "Requirement already satisfied: networkx>=2.2 in /usr/local/lib/python3.6/dist-packages (from qiskit-terra==0.10.0->qiskit) (2.4)\n",
            "Collecting marshmallow<4,>=3\n",
            "\u001b[?25l  Downloading https://files.pythonhosted.org/packages/e1/ca/406bf7b2d42da406bf1474e231b23c21e16007fea7e213f1fbc9bcd62cc8/marshmallow-3.2.2-py2.py3-none-any.whl (45kB)\n",
            "\u001b[K     |████████████████████████████████| 51kB 6.2MB/s \n",
            "\u001b[?25hCollecting ply>=3.10\n",
            "\u001b[?25l  Downloading https://files.pythonhosted.org/packages/a3/58/35da89ee790598a0700ea49b2a66594140f44dec458c07e8e3d4979137fc/ply-3.11-py2.py3-none-any.whl (49kB)\n",
            "\u001b[K     |████████████████████████████████| 51kB 4.6MB/s \n",
            "\u001b[?25hRequirement already satisfied: jsonschema>=2.6 in /usr/local/lib/python3.6/dist-packages (from qiskit-terra==0.10.0->qiskit) (2.6.0)\n",
            "Collecting marshmallow-polyfield<6,>=5.7\n",
            "  Downloading https://files.pythonhosted.org/packages/d7/6c/416e7e529d03362bb57bb4be16a0bb1ada6325b12adf3e31fec4c10ef1b1/marshmallow-polyfield-5.7.tar.gz\n",
            "Collecting sympy>=1.3\n",
            "\u001b[?25l  Downloading https://files.pythonhosted.org/packages/21/21/f4105795ca7f35c541d82c5b06be684dd2f5cb4f508fb487cd7aea4de776/sympy-1.4-py2.py3-none-any.whl (5.3MB)\n",
            "\u001b[K     |████████████████████████████████| 5.3MB 29.8MB/s \n",
            "\u001b[?25hRequirement already satisfied: psutil>=5 in /usr/local/lib/python3.6/dist-packages (from qiskit-terra==0.10.0->qiskit) (5.4.8)\n",
            "Requirement already satisfied: scipy>=1.0 in /usr/local/lib/python3.6/dist-packages (from qiskit-terra==0.10.0->qiskit) (1.3.2)\n",
            "Collecting nest-asyncio==1.0.0\n",
            "  Downloading https://files.pythonhosted.org/packages/62/18/4c6a895c925e8822e72535d774861e9ca07089c4b938ed20002b1aaab66a/nest_asyncio-1.0.0-py3-none-any.whl\n",
            "Requirement already satisfied: requests>=2.19 in /usr/local/lib/python3.6/dist-packages (from qiskit-ibmq-provider==0.3.3->qiskit) (2.21.0)\n",
            "Collecting requests-ntlm>=1.1.0\n",
            "  Downloading https://files.pythonhosted.org/packages/03/4b/8b9a1afde8072c4d5710d9fa91433d504325821b038e00237dc8d6d833dc/requests_ntlm-1.1.0-py2.py3-none-any.whl\n",
            "Collecting websockets<8,>=7\n",
            "\u001b[?25l  Downloading https://files.pythonhosted.org/packages/43/71/8bfa882b9c502c36e5c9ef6732969533670d2b039cbf95a82ced8f762b80/websockets-7.0-cp36-cp36m-manylinux1_x86_64.whl (63kB)\n",
            "\u001b[K     |████████████████████████████████| 71kB 9.1MB/s \n",
            "\u001b[?25hRequirement already satisfied: setuptools>=40.1.0 in /usr/local/lib/python3.6/dist-packages (from qiskit-ignis==0.2.0->qiskit) (41.6.0)\n",
            "Requirement already satisfied: scikit-learn>=0.20.0 in /usr/local/lib/python3.6/dist-packages (from qiskit-aqua==0.6.1->qiskit) (0.21.3)\n",
            "Collecting pyscf; sys_platform != \"win32\"\n",
            "\u001b[?25l  Downloading https://files.pythonhosted.org/packages/0e/ce/c20e3d841eb489a83d8d8c63af48d0a407acbcea35fa37c0d08710072a6d/pyscf-1.6.5-cp36-cp36m-manylinux1_x86_64.whl (21.7MB)\n",
            "\u001b[K     |████████████████████████████████| 21.7MB 425kB/s \n",
            "\u001b[?25hCollecting dlx\n",
            "  Downloading https://files.pythonhosted.org/packages/54/c0/b8fb5bb727e983b6f5251433ef941b48f38c65bb0bd6ec509e9185bcd406/dlx-1.0.4.tar.gz\n",
            "Collecting docplex\n",
            "\u001b[?25l  Downloading https://files.pythonhosted.org/packages/77/6b/b8a71573c8cca835cd2d6b36ae341ab93ab44bd27208fe20d5bf3c00c990/docplex-2.11.176.tar.gz (557kB)\n",
            "\u001b[K     |████████████████████████████████| 563kB 43.9MB/s \n",
            "\u001b[?25hRequirement already satisfied: h5py in /usr/local/lib/python3.6/dist-packages (from qiskit-aqua==0.6.1->qiskit) (2.8.0)\n",
            "Collecting quandl\n",
            "  Downloading https://files.pythonhosted.org/packages/12/64/6314547cb01fa75697ddba6d6d43a9f1d023c1730ffc6abf3db7a0c89222/Quandl-3.4.8-py2.py3-none-any.whl\n",
            "Requirement already satisfied: fastdtw in /usr/local/lib/python3.6/dist-packages (from qiskit-aqua==0.6.1->qiskit) (0.3.4)\n",
            "Requirement already satisfied: cvxopt in /usr/local/lib/python3.6/dist-packages (from qiskit-aqua==0.6.1->qiskit) (1.2.3)\n",
            "Requirement already satisfied: decorator>=4.3.0 in /usr/local/lib/python3.6/dist-packages (from networkx>=2.2->qiskit-terra==0.10.0->qiskit) (4.4.1)\n",
            "Requirement already satisfied: six in /usr/local/lib/python3.6/dist-packages (from marshmallow-polyfield<6,>=5.7->qiskit-terra==0.10.0->qiskit) (1.12.0)\n",
            "Requirement already satisfied: mpmath>=0.19 in /usr/local/lib/python3.6/dist-packages (from sympy>=1.3->qiskit-terra==0.10.0->qiskit) (1.1.0)\n",
            "Requirement already satisfied: chardet<3.1.0,>=3.0.2 in /usr/local/lib/python3.6/dist-packages (from requests>=2.19->qiskit-ibmq-provider==0.3.3->qiskit) (3.0.4)\n",
            "Requirement already satisfied: urllib3<1.25,>=1.21.1 in /usr/local/lib/python3.6/dist-packages (from requests>=2.19->qiskit-ibmq-provider==0.3.3->qiskit) (1.24.3)\n",
            "Requirement already satisfied: certifi>=2017.4.17 in /usr/local/lib/python3.6/dist-packages (from requests>=2.19->qiskit-ibmq-provider==0.3.3->qiskit) (2019.9.11)\n",
            "Requirement already satisfied: idna<2.9,>=2.5 in /usr/local/lib/python3.6/dist-packages (from requests>=2.19->qiskit-ibmq-provider==0.3.3->qiskit) (2.8)\n",
            "Collecting ntlm-auth>=1.0.2\n",
            "  Downloading https://files.pythonhosted.org/packages/50/09/5e397eb18685b14fd8b209e26cdb4fa6451c82c1bcc651fef05fa73e7b27/ntlm_auth-1.4.0-py2.py3-none-any.whl\n",
            "Collecting cryptography>=1.3\n",
            "\u001b[?25l  Downloading https://files.pythonhosted.org/packages/ca/9a/7cece52c46546e214e10811b36b2da52ce1ea7fa203203a629b8dfadad53/cryptography-2.8-cp34-abi3-manylinux2010_x86_64.whl (2.3MB)\n",
            "\u001b[K     |████████████████████████████████| 2.3MB 28.8MB/s \n",
            "\u001b[?25hRequirement already satisfied: joblib>=0.11 in /usr/local/lib/python3.6/dist-packages (from scikit-learn>=0.20.0->qiskit-aqua==0.6.1->qiskit) (0.14.0)\n",
            "Collecting docloud>=1.0.375\n",
            "  Downloading https://files.pythonhosted.org/packages/89/1c/fcb7ea86ae5cb7137a22f00bcaa785de2d102bd4a2b16383ec4a877a835b/docloud-1.0.375.tar.gz\n",
            "Requirement already satisfied: pyasn1 in /usr/local/lib/python3.6/dist-packages (from quandl->qiskit-aqua==0.6.1->qiskit) (0.4.7)\n",
            "Collecting pyOpenSSL\n",
            "\u001b[?25l  Downloading https://files.pythonhosted.org/packages/9e/de/f8342b68fa9e981d348039954657bdf681b2ab93de27443be51865ffa310/pyOpenSSL-19.1.0-py2.py3-none-any.whl (53kB)\n",
            "\u001b[K     |████████████████████████████████| 61kB 8.6MB/s \n",
            "\u001b[?25hRequirement already satisfied: pandas>=0.14 in /usr/local/lib/python3.6/dist-packages (from quandl->qiskit-aqua==0.6.1->qiskit) (0.25.3)\n",
            "Requirement already satisfied: python-dateutil in /usr/local/lib/python3.6/dist-packages (from quandl->qiskit-aqua==0.6.1->qiskit) (2.6.1)\n",
            "Collecting inflection>=0.3.1\n",
            "  Downloading https://files.pythonhosted.org/packages/d5/35/a6eb45b4e2356fe688b21570864d4aa0d0a880ce387defe9c589112077f8/inflection-0.3.1.tar.gz\n",
            "Collecting more-itertools<=5.0.0\n",
            "\u001b[?25l  Downloading https://files.pythonhosted.org/packages/a4/a6/42f17d065bda1fac255db13afc94c93dbfb64393eae37c749b4cb0752fc7/more_itertools-5.0.0-py3-none-any.whl (52kB)\n",
            "\u001b[K     |████████████████████████████████| 61kB 8.4MB/s \n",
            "\u001b[?25hCollecting ndg-httpsclient\n",
            "  Downloading https://files.pythonhosted.org/packages/fb/67/c2f508c00ed2a6911541494504b7cac16fe0b0473912568df65fd1801132/ndg_httpsclient-0.5.1-py3-none-any.whl\n",
            "Requirement already satisfied: cffi!=1.11.3,>=1.8 in /usr/local/lib/python3.6/dist-packages (from cryptography>=1.3->requests-ntlm>=1.1.0->qiskit-ibmq-provider==0.3.3->qiskit) (1.13.2)\n",
            "Requirement already satisfied: pytz>=2017.2 in /usr/local/lib/python3.6/dist-packages (from pandas>=0.14->quandl->qiskit-aqua==0.6.1->qiskit) (2018.9)\n",
            "Requirement already satisfied: pycparser in /usr/local/lib/python3.6/dist-packages (from cffi!=1.11.3,>=1.8->cryptography>=1.3->requests-ntlm>=1.1.0->qiskit-ibmq-provider==0.3.3->qiskit) (2.19)\n",
            "Building wheels for collected packages: qiskit, qiskit-ibmq-provider, marshmallow-polyfield, dlx, docplex, docloud, inflection\n",
            "  Building wheel for qiskit (setup.py) ... \u001b[?25l\u001b[?25hdone\n",
            "  Created wheel for qiskit: filename=qiskit-0.13.0-cp36-none-any.whl size=1399 sha256=ddd9b6ee2bf07ec98fabdf3bb25a0c902f06657fa782e09aa425f2ea7768c740\n",
            "  Stored in directory: /root/.cache/pip/wheels/4e/f0/27/e914f739445603aa0229efc92a205fbbe3535aa1054b5a1f67\n",
            "  Building wheel for qiskit-ibmq-provider (setup.py) ... \u001b[?25l\u001b[?25hdone\n",
            "  Created wheel for qiskit-ibmq-provider: filename=qiskit_ibmq_provider-0.3.3-cp36-none-any.whl size=85719 sha256=abf4c17f840ddc855eb2a934f981d62c2fb9c445e8296ba2befaf17b01fbca61\n",
            "  Stored in directory: /root/.cache/pip/wheels/52/ff/94/ed9ed05fff0099b4de0a27df50fcf3bc7a0db91b356819dc1c\n",
            "  Building wheel for marshmallow-polyfield (setup.py) ... \u001b[?25l\u001b[?25hdone\n",
            "  Created wheel for marshmallow-polyfield: filename=marshmallow_polyfield-5.7-cp36-none-any.whl size=8580 sha256=652092c3285c199abdff211d7c2e426142b929ec11764b1a763a0355c2952924\n",
            "  Stored in directory: /root/.cache/pip/wheels/68/f5/09/1dcfa8613b095bb326caadfb4b111d7fc945875948b75f5c14\n",
            "  Building wheel for dlx (setup.py) ... \u001b[?25l\u001b[?25hdone\n",
            "  Created wheel for dlx: filename=dlx-1.0.4-cp36-none-any.whl size=5710 sha256=42cc481934796ce901bfdc8d5cd35f3165e2c13111087a4b687d5835b336f6bf\n",
            "  Stored in directory: /root/.cache/pip/wheels/bb/ba/15/fdd0deb104df3254912998150ba9245668db06b00af5912d1a\n",
            "  Building wheel for docplex (setup.py) ... \u001b[?25l\u001b[?25hdone\n",
            "  Created wheel for docplex: filename=docplex-2.11.176-cp36-none-any.whl size=618499 sha256=b4abc70f2f3d6568ebd3d7a9be2e7944990aee3732056799895586789be738cf\n",
            "  Stored in directory: /root/.cache/pip/wheels/67/f9/a4/a1ea7f35c16adca0337cc3d996bdebd489ed4244896a9d089d\n",
            "  Building wheel for docloud (setup.py) ... \u001b[?25l\u001b[?25hdone\n",
            "  Created wheel for docloud: filename=docloud-1.0.375-cp36-none-any.whl size=19479 sha256=c9049f06e4057126030f2cb0d4b84c84e6dfc008456aeababb683f4024c2c39e\n",
            "  Stored in directory: /root/.cache/pip/wheels/4e/24/19/9b0e57545d7543ecec35c5faff78c058bf0c2506369c8b1d31\n",
            "  Building wheel for inflection (setup.py) ... \u001b[?25l\u001b[?25hdone\n",
            "  Created wheel for inflection: filename=inflection-0.3.1-cp36-none-any.whl size=6076 sha256=9bba1e3b82ce9f20ceff78ec9abde7306a886b9e4c347ce41a99b1ef41d46cb6\n",
            "  Stored in directory: /root/.cache/pip/wheels/9f/5a/d3/6fc3bf6516d2a3eb7e18f9f28b472110b59325f3f258fe9211\n",
            "Successfully built qiskit qiskit-ibmq-provider marshmallow-polyfield dlx docplex docloud inflection\n",
            "\u001b[31mERROR: datascience 0.10.6 has requirement folium==0.2.1, but you'll have folium 0.8.3 which is incompatible.\u001b[0m\n",
            "Installing collected packages: marshmallow, ply, marshmallow-polyfield, sympy, qiskit-terra, qiskit-aer, nest-asyncio, ntlm-auth, cryptography, requests-ntlm, websockets, qiskit-ibmq-provider, qiskit-ignis, pyscf, dlx, docloud, docplex, pyOpenSSL, inflection, more-itertools, ndg-httpsclient, quandl, qiskit-aqua, qiskit\n",
            "  Found existing installation: sympy 1.1.1\n",
            "    Uninstalling sympy-1.1.1:\n",
            "      Successfully uninstalled sympy-1.1.1\n",
            "  Found existing installation: more-itertools 7.2.0\n",
            "    Uninstalling more-itertools-7.2.0:\n",
            "      Successfully uninstalled more-itertools-7.2.0\n",
            "Successfully installed cryptography-2.8 dlx-1.0.4 docloud-1.0.375 docplex-2.11.176 inflection-0.3.1 marshmallow-3.2.2 marshmallow-polyfield-5.7 more-itertools-5.0.0 ndg-httpsclient-0.5.1 nest-asyncio-1.0.0 ntlm-auth-1.4.0 ply-3.11 pyOpenSSL-19.1.0 pyscf-1.6.5 qiskit-0.13.0 qiskit-aer-0.3.2 qiskit-aqua-0.6.1 qiskit-ibmq-provider-0.3.3 qiskit-ignis-0.2.0 qiskit-terra-0.10.0 quandl-3.4.8 requests-ntlm-1.1.0 sympy-1.4 websockets-7.0\n"
          ],
          "name": "stdout"
        }
      ]
    },
    {
      "cell_type": "code",
      "metadata": {
        "id": "uEdTOC_0R8pV",
        "colab_type": "code",
        "outputId": "8c115dda-ae72-4363-e082-bfdbdaf64f98",
        "colab": {
          "base_uri": "https://localhost:8080/",
          "height": 106
        }
      },
      "source": [
        "!git clone https://github.com/Ranlot/edX---Quantum-Machine-Learning.git"
      ],
      "execution_count": 0,
      "outputs": [
        {
          "output_type": "stream",
          "text": [
            "Cloning into 'edX---Quantum-Machine-Learning'...\n",
            "remote: Enumerating objects: 112, done.\u001b[K\n",
            "remote: Total 112 (delta 0), reused 0 (delta 0), pack-reused 112\u001b[K\n",
            "Receiving objects: 100% (112/112), 75.45 MiB | 11.52 MiB/s, done.\n",
            "Resolving deltas: 100% (31/31), done.\n"
          ],
          "name": "stdout"
        }
      ]
    },
    {
      "cell_type": "code",
      "metadata": {
        "id": "N03y5pftSGC1",
        "colab_type": "code",
        "outputId": "59f09911-e86c-4a2a-97ac-fca92a25cf13",
        "colab": {
          "base_uri": "https://localhost:8080/",
          "height": 35
        }
      },
      "source": [
        "cd /content/edX---Quantum-Machine-Learning"
      ],
      "execution_count": 0,
      "outputs": [
        {
          "output_type": "stream",
          "text": [
            "/content/edX---Quantum-Machine-Learning\n"
          ],
          "name": "stdout"
        }
      ]
    },
    {
      "cell_type": "code",
      "metadata": {
        "id": "EH-Xz6Q8RiRn",
        "colab_type": "code",
        "outputId": "b51a1544-f1f7-435c-825a-6a8eea975781",
        "colab": {
          "base_uri": "https://localhost:8080/",
          "height": 161
        }
      },
      "source": [
        "!pip install dimod "
      ],
      "execution_count": 0,
      "outputs": [
        {
          "output_type": "stream",
          "text": [
            "Collecting dimod\n",
            "\u001b[?25l  Downloading https://files.pythonhosted.org/packages/34/f9/8d555d19342b05324ea091edb4cedcb5fd13c542f34d7705be4397853331/dimod-0.8.17-cp36-cp36m-manylinux1_x86_64.whl (832kB)\n",
            "\r\u001b[K     |▍                               | 10kB 4.9MB/s eta 0:00:01\r\u001b[K     |▉                               | 20kB 1.4MB/s eta 0:00:01\r\u001b[K     |█▏                              | 30kB 2.1MB/s eta 0:00:01\r\u001b[K     |█▋                              | 40kB 1.5MB/s eta 0:00:01\r\u001b[K     |██                              | 51kB 1.9MB/s eta 0:00:01\r\u001b[K     |██▍                             | 61kB 2.3MB/s eta 0:00:01\r\u001b[K     |██▊                             | 71kB 2.6MB/s eta 0:00:01\r\u001b[K     |███▏                            | 81kB 2.9MB/s eta 0:00:01\r\u001b[K     |███▌                            | 92kB 2.4MB/s eta 0:00:01\r\u001b[K     |████                            | 102kB 2.6MB/s eta 0:00:01\r\u001b[K     |████▎                           | 112kB 2.6MB/s eta 0:00:01\r\u001b[K     |████▊                           | 122kB 2.6MB/s eta 0:00:01\r\u001b[K     |█████▏                          | 133kB 2.6MB/s eta 0:00:01\r\u001b[K     |█████▌                          | 143kB 2.6MB/s eta 0:00:01\r\u001b[K     |██████                          | 153kB 2.6MB/s eta 0:00:01\r\u001b[K     |██████▎                         | 163kB 2.6MB/s eta 0:00:01\r\u001b[K     |██████▊                         | 174kB 2.6MB/s eta 0:00:01\r\u001b[K     |███████                         | 184kB 2.6MB/s eta 0:00:01\r\u001b[K     |███████▌                        | 194kB 2.6MB/s eta 0:00:01\r\u001b[K     |███████▉                        | 204kB 2.6MB/s eta 0:00:01\r\u001b[K     |████████▎                       | 215kB 2.6MB/s eta 0:00:01\r\u001b[K     |████████▋                       | 225kB 2.6MB/s eta 0:00:01\r\u001b[K     |█████████                       | 235kB 2.6MB/s eta 0:00:01\r\u001b[K     |█████████▌                      | 245kB 2.6MB/s eta 0:00:01\r\u001b[K     |█████████▉                      | 256kB 2.6MB/s eta 0:00:01\r\u001b[K     |██████████▎                     | 266kB 2.6MB/s eta 0:00:01\r\u001b[K     |██████████▋                     | 276kB 2.6MB/s eta 0:00:01\r\u001b[K     |███████████                     | 286kB 2.6MB/s eta 0:00:01\r\u001b[K     |███████████▍                    | 296kB 2.6MB/s eta 0:00:01\r\u001b[K     |███████████▉                    | 307kB 2.6MB/s eta 0:00:01\r\u001b[K     |████████████▏                   | 317kB 2.6MB/s eta 0:00:01\r\u001b[K     |████████████▋                   | 327kB 2.6MB/s eta 0:00:01\r\u001b[K     |█████████████                   | 337kB 2.6MB/s eta 0:00:01\r\u001b[K     |█████████████▍                  | 348kB 2.6MB/s eta 0:00:01\r\u001b[K     |█████████████▉                  | 358kB 2.6MB/s eta 0:00:01\r\u001b[K     |██████████████▏                 | 368kB 2.6MB/s eta 0:00:01\r\u001b[K     |██████████████▋                 | 378kB 2.6MB/s eta 0:00:01\r\u001b[K     |███████████████                 | 389kB 2.6MB/s eta 0:00:01\r\u001b[K     |███████████████▍                | 399kB 2.6MB/s eta 0:00:01\r\u001b[K     |███████████████▊                | 409kB 2.6MB/s eta 0:00:01\r\u001b[K     |████████████████▏               | 419kB 2.6MB/s eta 0:00:01\r\u001b[K     |████████████████▌               | 430kB 2.6MB/s eta 0:00:01\r\u001b[K     |█████████████████               | 440kB 2.6MB/s eta 0:00:01\r\u001b[K     |█████████████████▎              | 450kB 2.6MB/s eta 0:00:01\r\u001b[K     |█████████████████▊              | 460kB 2.6MB/s eta 0:00:01\r\u001b[K     |██████████████████▏             | 471kB 2.6MB/s eta 0:00:01\r\u001b[K     |██████████████████▌             | 481kB 2.6MB/s eta 0:00:01\r\u001b[K     |███████████████████             | 491kB 2.6MB/s eta 0:00:01\r\u001b[K     |███████████████████▎            | 501kB 2.6MB/s eta 0:00:01\r\u001b[K     |███████████████████▊            | 512kB 2.6MB/s eta 0:00:01\r\u001b[K     |████████████████████            | 522kB 2.6MB/s eta 0:00:01\r\u001b[K     |████████████████████▌           | 532kB 2.6MB/s eta 0:00:01\r\u001b[K     |████████████████████▉           | 542kB 2.6MB/s eta 0:00:01\r\u001b[K     |█████████████████████▎          | 552kB 2.6MB/s eta 0:00:01\r\u001b[K     |█████████████████████▋          | 563kB 2.6MB/s eta 0:00:01\r\u001b[K     |██████████████████████          | 573kB 2.6MB/s eta 0:00:01\r\u001b[K     |██████████████████████▍         | 583kB 2.6MB/s eta 0:00:01\r\u001b[K     |██████████████████████▉         | 593kB 2.6MB/s eta 0:00:01\r\u001b[K     |███████████████████████▎        | 604kB 2.6MB/s eta 0:00:01\r\u001b[K     |███████████████████████▋        | 614kB 2.6MB/s eta 0:00:01\r\u001b[K     |████████████████████████        | 624kB 2.6MB/s eta 0:00:01\r\u001b[K     |████████████████████████▍       | 634kB 2.6MB/s eta 0:00:01\r\u001b[K     |████████████████████████▉       | 645kB 2.6MB/s eta 0:00:01\r\u001b[K     |█████████████████████████▏      | 655kB 2.6MB/s eta 0:00:01\r\u001b[K     |█████████████████████████▋      | 665kB 2.6MB/s eta 0:00:01\r\u001b[K     |██████████████████████████      | 675kB 2.6MB/s eta 0:00:01\r\u001b[K     |██████████████████████████▍     | 686kB 2.6MB/s eta 0:00:01\r\u001b[K     |██████████████████████████▊     | 696kB 2.6MB/s eta 0:00:01\r\u001b[K     |███████████████████████████▏    | 706kB 2.6MB/s eta 0:00:01\r\u001b[K     |███████████████████████████▋    | 716kB 2.6MB/s eta 0:00:01\r\u001b[K     |████████████████████████████    | 727kB 2.6MB/s eta 0:00:01\r\u001b[K     |████████████████████████████▍   | 737kB 2.6MB/s eta 0:00:01\r\u001b[K     |████████████████████████████▊   | 747kB 2.6MB/s eta 0:00:01\r\u001b[K     |█████████████████████████████▏  | 757kB 2.6MB/s eta 0:00:01\r\u001b[K     |█████████████████████████████▌  | 768kB 2.6MB/s eta 0:00:01\r\u001b[K     |██████████████████████████████  | 778kB 2.6MB/s eta 0:00:01\r\u001b[K     |██████████████████████████████▎ | 788kB 2.6MB/s eta 0:00:01\r\u001b[K     |██████████████████████████████▊ | 798kB 2.6MB/s eta 0:00:01\r\u001b[K     |███████████████████████████████ | 808kB 2.6MB/s eta 0:00:01\r\u001b[K     |███████████████████████████████▌| 819kB 2.6MB/s eta 0:00:01\r\u001b[K     |████████████████████████████████| 829kB 2.6MB/s eta 0:00:01\r\u001b[K     |████████████████████████████████| 839kB 2.6MB/s \n",
            "\u001b[?25hRequirement already satisfied: numpy<2.0.0,>=1.15.0 in /usr/local/lib/python3.6/dist-packages (from dimod) (1.17.4)\n",
            "Requirement already satisfied: six<2.0.0,>=1.10.0 in /usr/local/lib/python3.6/dist-packages (from dimod) (1.12.0)\n",
            "Installing collected packages: dimod\n",
            "Successfully installed dimod-0.8.17\n"
          ],
          "name": "stdout"
        }
      ]
    },
    {
      "cell_type": "code",
      "metadata": {
        "id": "R82AJNGdRzD0",
        "colab_type": "code",
        "outputId": "1a733ca3-9294-4886-c707-d3b652819ebc",
        "colab": {
          "base_uri": "https://localhost:8080/",
          "height": 1000
        }
      },
      "source": [
        "!pip install -r requirements.txt"
      ],
      "execution_count": 0,
      "outputs": [
        {
          "output_type": "stream",
          "text": [
            "Collecting appnope==0.1.0\n",
            "  Downloading https://files.pythonhosted.org/packages/87/a9/7985e6a53402f294c8f0e8eff3151a83f1fb901fa92909bb3ff29b4d22af/appnope-0.1.0-py2.py3-none-any.whl\n",
            "Collecting asn1crypto==0.24.0\n",
            "\u001b[?25l  Downloading https://files.pythonhosted.org/packages/ea/cd/35485615f45f30a510576f1a56d1e0a7ad7bd8ab5ed7cdc600ef7cd06222/asn1crypto-0.24.0-py2.py3-none-any.whl (101kB)\n",
            "\u001b[K     |████████████████████████████████| 102kB 2.4MB/s \n",
            "\u001b[?25hRequirement already satisfied: backcall==0.1.0 in /usr/local/lib/python3.6/dist-packages (from -r requirements.txt (line 3)) (0.1.0)\n",
            "Requirement already satisfied: bleach==3.1.0 in /usr/local/lib/python3.6/dist-packages (from -r requirements.txt (line 4)) (3.1.0)\n",
            "Collecting certifi==2018.11.29\n",
            "\u001b[?25l  Downloading https://files.pythonhosted.org/packages/9f/e0/accfc1b56b57e9750eba272e24c4dddeac86852c2bebd1236674d7887e8a/certifi-2018.11.29-py2.py3-none-any.whl (154kB)\n",
            "\u001b[K     |████████████████████████████████| 163kB 8.5MB/s \n",
            "\u001b[?25hCollecting cffi==1.11.5\n",
            "\u001b[?25l  Downloading https://files.pythonhosted.org/packages/6d/c0/47db8f624f3e4e2f3f27be03a93379d1ba16a1450a7b1aacfa0366e2c0dd/cffi-1.11.5-cp36-cp36m-manylinux1_x86_64.whl (421kB)\n",
            "\u001b[K     |████████████████████████████████| 430kB 37.4MB/s \n",
            "\u001b[?25hRequirement already satisfied: chardet==3.0.4 in /usr/local/lib/python3.6/dist-packages (from -r requirements.txt (line 7)) (3.0.4)\n",
            "Collecting cmake==3.13.3\n",
            "\u001b[?25l  Downloading https://files.pythonhosted.org/packages/45/c4/e69313ade2a3e992e7178744b0e56bdd8f23e79e15066a68cf490504beed/cmake-3.13.3-cp36-cp36m-manylinux1_x86_64.whl (15.9MB)\n",
            "\u001b[K     |████████████████████████████████| 15.9MB 21.6MB/s \n",
            "\u001b[?25hCollecting cryptography==2.5\n",
            "\u001b[?25l  Downloading https://files.pythonhosted.org/packages/98/71/e632e222f34632e0527dd41799f7847305e701f38f512d81bdf96009bca4/cryptography-2.5-cp34-abi3-manylinux1_x86_64.whl (2.4MB)\n",
            "\u001b[K     |████████████████████████████████| 2.4MB 24.9MB/s \n",
            "\u001b[?25hRequirement already satisfied: cvxopt==1.2.3 in /usr/local/lib/python3.6/dist-packages (from -r requirements.txt (line 10)) (1.2.3)\n",
            "Requirement already satisfied: cycler==0.10.0 in /usr/local/lib/python3.6/dist-packages (from -r requirements.txt (line 11)) (0.10.0)\n",
            "Collecting decorator==4.3.2\n",
            "  Downloading https://files.pythonhosted.org/packages/f1/cd/7c8240007e9716b14679bc217a1baefa4432aa30394f7e2ec40a52b1a708/decorator-4.3.2-py2.py3-none-any.whl\n",
            "Collecting defusedxml==0.5.0\n",
            "  Downloading https://files.pythonhosted.org/packages/87/1c/17f3e3935a913dfe2a5ca85fa5ccbef366bfd82eb318b1f75dadbf0affca/defusedxml-0.5.0-py2.py3-none-any.whl\n",
            "Collecting dimod==0.8.5\n",
            "\u001b[?25l  Downloading https://files.pythonhosted.org/packages/d1/a4/993e5084f608c42fa559b0d8facd36696747a25e532d17354904741742c2/dimod-0.8.5-cp36-cp36m-manylinux1_x86_64.whl (802kB)\n",
            "\u001b[K     |████████████████████████████████| 808kB 38.9MB/s \n",
            "\u001b[?25hCollecting dwave-networkx==0.7.1\n",
            "\u001b[?25l  Downloading https://files.pythonhosted.org/packages/ce/2b/34463199016d3d2af38a56c56494ea0642e339a6e48d13370029a1ed92ff/dwave_networkx-0.7.1-py2.py3-none-any.whl (76kB)\n",
            "\u001b[K     |████████████████████████████████| 81kB 8.4MB/s \n",
            "\u001b[?25hRequirement already satisfied: entrypoints==0.3 in /usr/local/lib/python3.6/dist-packages (from -r requirements.txt (line 16)) (0.3)\n",
            "Collecting h5py==2.9.0\n",
            "\u001b[?25l  Downloading https://files.pythonhosted.org/packages/30/99/d7d4fbf2d02bb30fb76179911a250074b55b852d34e98dd452a9f394ac06/h5py-2.9.0-cp36-cp36m-manylinux1_x86_64.whl (2.8MB)\n",
            "\u001b[K     |████████████████████████████████| 2.8MB 26.3MB/s \n",
            "\u001b[?25hRequirement already satisfied: idna==2.8 in /usr/local/lib/python3.6/dist-packages (from -r requirements.txt (line 18)) (2.8)\n",
            "Collecting ipykernel==5.1.0\n",
            "\u001b[?25l  Downloading https://files.pythonhosted.org/packages/d8/b0/f0be5c5ab335196f5cce96e5b889a4fcf5bfe462eb0acc05cd7e2caf65eb/ipykernel-5.1.0-py3-none-any.whl (113kB)\n",
            "\u001b[K     |████████████████████████████████| 122kB 25.5MB/s \n",
            "\u001b[?25hCollecting ipython==7.2.0\n",
            "\u001b[?25l  Downloading https://files.pythonhosted.org/packages/f0/b4/a9ea018c73a84ee6280b2e94a1a6af8d63e45903eac2da0640fa63bca4db/ipython-7.2.0-py3-none-any.whl (765kB)\n",
            "\u001b[K     |████████████████████████████████| 768kB 37.4MB/s \n",
            "\u001b[?25hRequirement already satisfied: ipython-genutils==0.2.0 in /usr/local/lib/python3.6/dist-packages (from -r requirements.txt (line 21)) (0.2.0)\n",
            "Collecting ipywidgets==7.4.2\n",
            "\u001b[?25l  Downloading https://files.pythonhosted.org/packages/30/9a/a008c7b1183fac9e52066d80a379b3c64eab535bd9d86cdc29a0b766fd82/ipywidgets-7.4.2-py2.py3-none-any.whl (111kB)\n",
            "\u001b[K     |████████████████████████████████| 112kB 39.0MB/s \n",
            "\u001b[?25hCollecting jedi==0.13.2\n",
            "\u001b[?25l  Downloading https://files.pythonhosted.org/packages/c2/bc/54d53f5bc4658380d0eca9055d72be4df45e5bfd91a4bac97da224a92553/jedi-0.13.2-py2.py3-none-any.whl (177kB)\n",
            "\u001b[K     |████████████████████████████████| 184kB 44.0MB/s \n",
            "\u001b[?25hCollecting Jinja2==2.10.1\n",
            "\u001b[?25l  Downloading https://files.pythonhosted.org/packages/1d/e7/fd8b501e7a6dfe492a433deb7b9d833d39ca74916fa8bc63dd1a4947a671/Jinja2-2.10.1-py2.py3-none-any.whl (124kB)\n",
            "\u001b[K     |████████████████████████████████| 133kB 44.5MB/s \n",
            "\u001b[?25hRequirement already satisfied: jsonschema==2.6.0 in /usr/local/lib/python3.6/dist-packages (from -r requirements.txt (line 25)) (2.6.0)\n",
            "Requirement already satisfied: jupyter==1.0.0 in /usr/local/lib/python3.6/dist-packages (from -r requirements.txt (line 26)) (1.0.0)\n",
            "Collecting jupyter-client==5.2.4\n",
            "\u001b[?25l  Downloading https://files.pythonhosted.org/packages/3b/c3/3043fe9ffd140d03c9d091a056794ccdc427c56ec19b8eea74f9ea0a498f/jupyter_client-5.2.4-py2.py3-none-any.whl (89kB)\n",
            "\u001b[K     |████████████████████████████████| 92kB 11.7MB/s \n",
            "\u001b[?25hCollecting jupyter-console==6.0.0\n",
            "  Downloading https://files.pythonhosted.org/packages/cb/ee/6374ae8c21b7d0847f9c3722dcdfac986b8e54fa9ad9ea66e1eb6320d2b8/jupyter_console-6.0.0-py2.py3-none-any.whl\n",
            "Collecting jupyter-core==4.4.0\n",
            "\u001b[?25l  Downloading https://files.pythonhosted.org/packages/1d/44/065d2d7bae7bebc06f1dd70d23c36da8c50c0f08b4236716743d706762a8/jupyter_core-4.4.0-py2.py3-none-any.whl (126kB)\n",
            "\u001b[K     |████████████████████████████████| 133kB 43.2MB/s \n",
            "\u001b[?25hCollecting kiwisolver==1.0.1\n",
            "\u001b[?25l  Downloading https://files.pythonhosted.org/packages/69/a7/88719d132b18300b4369fbffa741841cfd36d1e637e1990f27929945b538/kiwisolver-1.0.1-cp36-cp36m-manylinux1_x86_64.whl (949kB)\n",
            "\u001b[K     |████████████████████████████████| 952kB 42.2MB/s \n",
            "\u001b[?25hCollecting MarkupSafe==1.1.0\n",
            "  Downloading https://files.pythonhosted.org/packages/08/04/f2191b50fb7f0712f03f064b71d8b4605190f2178ba02e975a87f7b89a0d/MarkupSafe-1.1.0-cp36-cp36m-manylinux1_x86_64.whl\n",
            "Collecting marshmallow==2.18.0\n",
            "\u001b[?25l  Downloading https://files.pythonhosted.org/packages/9a/3c/4cc463c53136dc503f9ee234c4a6592e1c7411cb362f844e80df70361f29/marshmallow-2.18.0-py2.py3-none-any.whl (50kB)\n",
            "\u001b[K     |████████████████████████████████| 51kB 6.4MB/s \n",
            "\u001b[?25hCollecting marshmallow-polyfield==3.2\n",
            "  Downloading https://files.pythonhosted.org/packages/fa/ba/6406b8cce3e42b2838d234310c3605627083bbb8f71dcc312c616480fe92/marshmallow_polyfield-3.2-py2.py3-none-any.whl\n",
            "Collecting matplotlib==3.0.2\n",
            "\u001b[?25l  Downloading https://files.pythonhosted.org/packages/71/07/16d781df15be30df4acfd536c479268f1208b2dfbc91e9ca5d92c9caf673/matplotlib-3.0.2-cp36-cp36m-manylinux1_x86_64.whl (12.9MB)\n",
            "\u001b[K     |████████████████████████████████| 12.9MB 24.9MB/s \n",
            "\u001b[?25hCollecting minorminer==0.1.8\n",
            "\u001b[?25l  Downloading https://files.pythonhosted.org/packages/9e/87/98fdb28c7cb16fc791ce4961d220383f8e20ceacacf5c11a6152a200abd3/minorminer-0.1.8-cp36-cp36m-manylinux1_x86_64.whl (2.3MB)\n",
            "\u001b[K     |████████████████████████████████| 2.3MB 27.9MB/s \n",
            "\u001b[?25hRequirement already satisfied: mistune==0.8.4 in /usr/local/lib/python3.6/dist-packages (from -r requirements.txt (line 36)) (0.8.4)\n",
            "Requirement already satisfied: mpmath==1.1.0 in /usr/local/lib/python3.6/dist-packages (from -r requirements.txt (line 37)) (1.1.0)\n",
            "Collecting nbconvert==5.4.1\n",
            "\u001b[?25l  Downloading https://files.pythonhosted.org/packages/b8/39/1e67fea74dc9577cc49f9863fe3ec824e525d1304ab6027d95a94cd586f5/nbconvert-5.4.1-py2.py3-none-any.whl (407kB)\n",
            "\u001b[K     |████████████████████████████████| 409kB 48.2MB/s \n",
            "\u001b[?25hRequirement already satisfied: nbformat==4.4.0 in /usr/local/lib/python3.6/dist-packages (from -r requirements.txt (line 39)) (4.4.0)\n",
            "Collecting networkx==2.2\n",
            "\u001b[?25l  Downloading https://files.pythonhosted.org/packages/f3/f4/7e20ef40b118478191cec0b58c3192f822cace858c19505c7670961b76b2/networkx-2.2.zip (1.7MB)\n",
            "\u001b[K     |████████████████████████████████| 1.7MB 34.8MB/s \n",
            "\u001b[?25hCollecting notebook==5.7.8\n",
            "\u001b[?25l  Downloading https://files.pythonhosted.org/packages/f6/36/89ebfffc9dd8c8dbd81c1ffb53e3d4233ee666414c143959477cb07cc5f5/notebook-5.7.8-py2.py3-none-any.whl (9.0MB)\n",
            "\u001b[K     |████████████████████████████████| 9.0MB 1.2MB/s \n",
            "\u001b[?25hCollecting ntlm-auth==1.2.0\n",
            "  Downloading https://files.pythonhosted.org/packages/8e/5b/4047779fb456b0de503c4acb7b166becf2567efb772abb53998440791d3c/ntlm_auth-1.2.0-py2.py3-none-any.whl\n",
            "Collecting numpy==1.16.1\n",
            "\u001b[?25l  Downloading https://files.pythonhosted.org/packages/f5/bf/4981bcbee43934f0adb8f764a1e70ab0ee5a448f6505bd04a87a2fda2a8b/numpy-1.16.1-cp36-cp36m-manylinux1_x86_64.whl (17.3MB)\n",
            "\u001b[K     |████████████████████████████████| 17.3MB 844kB/s \n",
            "\u001b[?25hCollecting pandas==0.24.1\n",
            "\u001b[?25l  Downloading https://files.pythonhosted.org/packages/e6/de/a0d3defd8f338eaf53ef716e40ef6d6c277c35d50e09b586e170169cdf0d/pandas-0.24.1-cp36-cp36m-manylinux1_x86_64.whl (10.1MB)\n",
            "\u001b[K     |████████████████████████████████| 10.1MB 1.6MB/s \n",
            "\u001b[?25hRequirement already satisfied: pandocfilters==1.4.2 in /usr/local/lib/python3.6/dist-packages (from -r requirements.txt (line 45)) (1.4.2)\n",
            "Collecting parso==0.3.3\n",
            "\u001b[?25l  Downloading https://files.pythonhosted.org/packages/f9/95/917fbfaca4c173651cb8f02bd50712414a0e2a154c8b7077a80027c0864b/parso-0.3.3-py2.py3-none-any.whl (93kB)\n",
            "\u001b[K     |████████████████████████████████| 102kB 1.3MB/s \n",
            "\u001b[?25hCollecting pexpect==4.6.0\n",
            "\u001b[?25l  Downloading https://files.pythonhosted.org/packages/89/e6/b5a1de8b0cc4e07ca1b305a4fcc3f9806025c1b651ea302646341222f88b/pexpect-4.6.0-py2.py3-none-any.whl (57kB)\n",
            "\u001b[K     |████████████████████████████████| 61kB 3.5MB/s \n",
            "\u001b[?25hRequirement already satisfied: pickleshare==0.7.5 in /usr/local/lib/python3.6/dist-packages (from -r requirements.txt (line 48)) (0.7.5)\n",
            "Collecting Pillow==5.4.1\n",
            "\u001b[?25l  Downloading https://files.pythonhosted.org/packages/85/5e/e91792f198bbc5a0d7d3055ad552bc4062942d27eaf75c3e2783cf64eae5/Pillow-5.4.1-cp36-cp36m-manylinux1_x86_64.whl (2.0MB)\n",
            "\u001b[K     |████████████████████████████████| 2.0MB 1.2MB/s \n",
            "\u001b[?25hRequirement already satisfied: ply==3.11 in /usr/local/lib/python3.6/dist-packages (from -r requirements.txt (line 50)) (3.11)\n",
            "Collecting prometheus-client==0.5.0\n",
            "  Downloading https://files.pythonhosted.org/packages/bc/e1/3cddac03c8992815519c5f50493097f6508fa153d067b494db8ab5e9c4ce/prometheus_client-0.5.0.tar.gz\n",
            "Collecting prompt-toolkit==2.0.8\n",
            "\u001b[?25l  Downloading https://files.pythonhosted.org/packages/65/c2/e676da701cda11b32ff42eceb44aa7d8934b597d604bb5e94c0283def064/prompt_toolkit-2.0.8-py3-none-any.whl (342kB)\n",
            "\u001b[K     |████████████████████████████████| 348kB 1.4MB/s \n",
            "\u001b[?25hCollecting psutil==5.5.0\n",
            "\u001b[?25l  Downloading https://files.pythonhosted.org/packages/6e/a0/833bcbcede5141cc5615e50c7cc5b960ce93d9c9b885fbe3b7d36e48a2d4/psutil-5.5.0.tar.gz (425kB)\n",
            "\u001b[K     |████████████████████████████████| 430kB 934kB/s \n",
            "\u001b[?25hRequirement already satisfied: ptyprocess==0.6.0 in /usr/local/lib/python3.6/dist-packages (from -r requirements.txt (line 54)) (0.6.0)\n",
            "Requirement already satisfied: pycparser==2.19 in /usr/local/lib/python3.6/dist-packages (from -r requirements.txt (line 55)) (2.19)\n",
            "Collecting Pygments==2.3.1\n",
            "\u001b[?25l  Downloading https://files.pythonhosted.org/packages/13/e5/6d710c9cf96c31ac82657bcfb441df328b22df8564d58d0c4cd62612674c/Pygments-2.3.1-py2.py3-none-any.whl (849kB)\n",
            "\u001b[K     |████████████████████████████████| 849kB 936kB/s \n",
            "\u001b[?25hCollecting pyobjc-core==5.1.2\n",
            "\u001b[?25l  Downloading https://files.pythonhosted.org/packages/9c/2d/a8755387a39d514d7fe87eb0d2e8e69cc799194b24c9cb4fef5375c8ec22/pyobjc-core-5.1.2.tar.gz (794kB)\n",
            "\u001b[K     |████████████████████████████████| 798kB 1.7MB/s \n",
            "\u001b[31mERROR: Command errored out with exit status 1: python setup.py egg_info Check the logs for full command output.\u001b[0m\n",
            "\u001b[?25h"
          ],
          "name": "stdout"
        }
      ]
    },
    {
      "cell_type": "code",
      "metadata": {
        "id": "Bhthp2-BTCRc",
        "colab_type": "code",
        "outputId": "15a0d9ea-4270-49bc-be66-1ae3a3888bf9",
        "colab": {
          "base_uri": "https://localhost:8080/",
          "height": 784
        }
      },
      "source": [
        "!pip install qiskit-aqua"
      ],
      "execution_count": 0,
      "outputs": [
        {
          "output_type": "stream",
          "text": [
            "Requirement already satisfied: qiskit-aqua in /usr/local/lib/python3.6/dist-packages (0.6.1)\n",
            "Requirement already satisfied: sympy>=1.3 in /usr/local/lib/python3.6/dist-packages (from qiskit-aqua) (1.4)\n",
            "Requirement already satisfied: qiskit-ignis<0.3.0,>=0.2.0 in /usr/local/lib/python3.6/dist-packages (from qiskit-aqua) (0.2.0)\n",
            "Requirement already satisfied: pyscf; sys_platform != \"win32\" in /usr/local/lib/python3.6/dist-packages (from qiskit-aqua) (1.6.5)\n",
            "Requirement already satisfied: scikit-learn>=0.20.0 in /usr/local/lib/python3.6/dist-packages (from qiskit-aqua) (0.21.3)\n",
            "Requirement already satisfied: docplex in /usr/local/lib/python3.6/dist-packages (from qiskit-aqua) (2.11.176)\n",
            "Requirement already satisfied: setuptools>=40.1.0 in /usr/local/lib/python3.6/dist-packages (from qiskit-aqua) (41.6.0)\n",
            "Requirement already satisfied: scipy>=1.0 in /usr/local/lib/python3.6/dist-packages (from qiskit-aqua) (1.3.2)\n",
            "Requirement already satisfied: h5py in /usr/local/lib/python3.6/dist-packages (from qiskit-aqua) (2.8.0)\n",
            "Requirement already satisfied: qiskit-terra>=0.9.0 in /usr/local/lib/python3.6/dist-packages (from qiskit-aqua) (0.10.0)\n",
            "Requirement already satisfied: numpy>=1.13 in /usr/local/lib/python3.6/dist-packages (from qiskit-aqua) (1.17.4)\n",
            "Requirement already satisfied: dlx in /usr/local/lib/python3.6/dist-packages (from qiskit-aqua) (1.0.4)\n",
            "Requirement already satisfied: quandl in /usr/local/lib/python3.6/dist-packages (from qiskit-aqua) (3.4.8)\n",
            "Requirement already satisfied: jsonschema>=2.6 in /usr/local/lib/python3.6/dist-packages (from qiskit-aqua) (2.6.0)\n",
            "Requirement already satisfied: fastdtw in /usr/local/lib/python3.6/dist-packages (from qiskit-aqua) (0.3.4)\n",
            "Requirement already satisfied: cvxopt in /usr/local/lib/python3.6/dist-packages (from qiskit-aqua) (1.2.3)\n",
            "Requirement already satisfied: psutil>=5 in /usr/local/lib/python3.6/dist-packages (from qiskit-aqua) (5.4.8)\n",
            "Requirement already satisfied: networkx>=2.2 in /usr/local/lib/python3.6/dist-packages (from qiskit-aqua) (2.4)\n",
            "Requirement already satisfied: mpmath>=0.19 in /usr/local/lib/python3.6/dist-packages (from sympy>=1.3->qiskit-aqua) (1.1.0)\n",
            "Requirement already satisfied: joblib>=0.11 in /usr/local/lib/python3.6/dist-packages (from scikit-learn>=0.20.0->qiskit-aqua) (0.14.0)\n",
            "Requirement already satisfied: six in /usr/local/lib/python3.6/dist-packages (from docplex->qiskit-aqua) (1.12.0)\n",
            "Requirement already satisfied: docloud>=1.0.375 in /usr/local/lib/python3.6/dist-packages (from docplex->qiskit-aqua) (1.0.375)\n",
            "Requirement already satisfied: requests in /usr/local/lib/python3.6/dist-packages (from docplex->qiskit-aqua) (2.21.0)\n",
            "Requirement already satisfied: marshmallow<4,>=3 in /usr/local/lib/python3.6/dist-packages (from qiskit-terra>=0.9.0->qiskit-aqua) (3.2.2)\n",
            "Requirement already satisfied: ply>=3.10 in /usr/local/lib/python3.6/dist-packages (from qiskit-terra>=0.9.0->qiskit-aqua) (3.11)\n",
            "Requirement already satisfied: marshmallow-polyfield<6,>=5.7 in /usr/local/lib/python3.6/dist-packages (from qiskit-terra>=0.9.0->qiskit-aqua) (5.7)\n",
            "Requirement already satisfied: pyasn1 in /usr/local/lib/python3.6/dist-packages (from quandl->qiskit-aqua) (0.4.7)\n",
            "Requirement already satisfied: python-dateutil in /usr/local/lib/python3.6/dist-packages (from quandl->qiskit-aqua) (2.6.1)\n",
            "Requirement already satisfied: ndg-httpsclient in /usr/local/lib/python3.6/dist-packages (from quandl->qiskit-aqua) (0.5.1)\n",
            "Requirement already satisfied: inflection>=0.3.1 in /usr/local/lib/python3.6/dist-packages (from quandl->qiskit-aqua) (0.3.1)\n",
            "Requirement already satisfied: pandas>=0.14 in /usr/local/lib/python3.6/dist-packages (from quandl->qiskit-aqua) (0.25.3)\n",
            "Requirement already satisfied: pyOpenSSL in /usr/local/lib/python3.6/dist-packages (from quandl->qiskit-aqua) (19.1.0)\n",
            "Requirement already satisfied: more-itertools<=5.0.0 in /usr/local/lib/python3.6/dist-packages (from quandl->qiskit-aqua) (5.0.0)\n",
            "Requirement already satisfied: decorator>=4.3.0 in /usr/local/lib/python3.6/dist-packages (from networkx>=2.2->qiskit-aqua) (4.4.1)\n",
            "Requirement already satisfied: certifi>=2017.4.17 in /usr/local/lib/python3.6/dist-packages (from requests->docplex->qiskit-aqua) (2019.9.11)\n",
            "Requirement already satisfied: idna<2.9,>=2.5 in /usr/local/lib/python3.6/dist-packages (from requests->docplex->qiskit-aqua) (2.8)\n",
            "Requirement already satisfied: urllib3<1.25,>=1.21.1 in /usr/local/lib/python3.6/dist-packages (from requests->docplex->qiskit-aqua) (1.24.3)\n",
            "Requirement already satisfied: chardet<3.1.0,>=3.0.2 in /usr/local/lib/python3.6/dist-packages (from requests->docplex->qiskit-aqua) (3.0.4)\n",
            "Requirement already satisfied: pytz>=2017.2 in /usr/local/lib/python3.6/dist-packages (from pandas>=0.14->quandl->qiskit-aqua) (2018.9)\n",
            "Requirement already satisfied: cryptography>=2.8 in /usr/local/lib/python3.6/dist-packages (from pyOpenSSL->quandl->qiskit-aqua) (2.8)\n",
            "Requirement already satisfied: cffi!=1.11.3,>=1.8 in /usr/local/lib/python3.6/dist-packages (from cryptography>=2.8->pyOpenSSL->quandl->qiskit-aqua) (1.13.2)\n",
            "Requirement already satisfied: pycparser in /usr/local/lib/python3.6/dist-packages (from cffi!=1.11.3,>=1.8->cryptography>=2.8->pyOpenSSL->quandl->qiskit-aqua) (2.19)\n"
          ],
          "name": "stdout"
        }
      ]
    },
    {
      "cell_type": "code",
      "metadata": {
        "id": "IHbS-ROXTl_x",
        "colab_type": "code",
        "outputId": "69b25300-aec1-445a-aeb6-d54427fa4e1f",
        "colab": {
          "base_uri": "https://localhost:8080/",
          "height": 784
        }
      },
      "source": [
        "!pip install qiskit_aqua"
      ],
      "execution_count": 0,
      "outputs": [
        {
          "output_type": "stream",
          "text": [
            "Requirement already satisfied: qiskit_aqua in /usr/local/lib/python3.6/dist-packages (0.6.1)\n",
            "Requirement already satisfied: qiskit-terra>=0.9.0 in /usr/local/lib/python3.6/dist-packages (from qiskit_aqua) (0.10.0)\n",
            "Requirement already satisfied: psutil>=5 in /usr/local/lib/python3.6/dist-packages (from qiskit_aqua) (5.4.8)\n",
            "Requirement already satisfied: dlx in /usr/local/lib/python3.6/dist-packages (from qiskit_aqua) (1.0.4)\n",
            "Requirement already satisfied: jsonschema>=2.6 in /usr/local/lib/python3.6/dist-packages (from qiskit_aqua) (2.6.0)\n",
            "Requirement already satisfied: quandl in /usr/local/lib/python3.6/dist-packages (from qiskit_aqua) (3.4.8)\n",
            "Requirement already satisfied: scikit-learn>=0.20.0 in /usr/local/lib/python3.6/dist-packages (from qiskit_aqua) (0.21.3)\n",
            "Requirement already satisfied: h5py in /usr/local/lib/python3.6/dist-packages (from qiskit_aqua) (2.8.0)\n",
            "Requirement already satisfied: qiskit-ignis<0.3.0,>=0.2.0 in /usr/local/lib/python3.6/dist-packages (from qiskit_aqua) (0.2.0)\n",
            "Requirement already satisfied: sympy>=1.3 in /usr/local/lib/python3.6/dist-packages (from qiskit_aqua) (1.4)\n",
            "Requirement already satisfied: numpy>=1.13 in /usr/local/lib/python3.6/dist-packages (from qiskit_aqua) (1.17.4)\n",
            "Requirement already satisfied: pyscf; sys_platform != \"win32\" in /usr/local/lib/python3.6/dist-packages (from qiskit_aqua) (1.6.5)\n",
            "Requirement already satisfied: cvxopt in /usr/local/lib/python3.6/dist-packages (from qiskit_aqua) (1.2.3)\n",
            "Requirement already satisfied: docplex in /usr/local/lib/python3.6/dist-packages (from qiskit_aqua) (2.11.176)\n",
            "Requirement already satisfied: fastdtw in /usr/local/lib/python3.6/dist-packages (from qiskit_aqua) (0.3.4)\n",
            "Requirement already satisfied: setuptools>=40.1.0 in /usr/local/lib/python3.6/dist-packages (from qiskit_aqua) (41.6.0)\n",
            "Requirement already satisfied: scipy>=1.0 in /usr/local/lib/python3.6/dist-packages (from qiskit_aqua) (1.3.2)\n",
            "Requirement already satisfied: networkx>=2.2 in /usr/local/lib/python3.6/dist-packages (from qiskit_aqua) (2.4)\n",
            "Requirement already satisfied: marshmallow<4,>=3 in /usr/local/lib/python3.6/dist-packages (from qiskit-terra>=0.9.0->qiskit_aqua) (3.2.2)\n",
            "Requirement already satisfied: ply>=3.10 in /usr/local/lib/python3.6/dist-packages (from qiskit-terra>=0.9.0->qiskit_aqua) (3.11)\n",
            "Requirement already satisfied: marshmallow-polyfield<6,>=5.7 in /usr/local/lib/python3.6/dist-packages (from qiskit-terra>=0.9.0->qiskit_aqua) (5.7)\n",
            "Requirement already satisfied: requests>=2.7.0 in /usr/local/lib/python3.6/dist-packages (from quandl->qiskit_aqua) (2.21.0)\n",
            "Requirement already satisfied: inflection>=0.3.1 in /usr/local/lib/python3.6/dist-packages (from quandl->qiskit_aqua) (0.3.1)\n",
            "Requirement already satisfied: ndg-httpsclient in /usr/local/lib/python3.6/dist-packages (from quandl->qiskit_aqua) (0.5.1)\n",
            "Requirement already satisfied: six in /usr/local/lib/python3.6/dist-packages (from quandl->qiskit_aqua) (1.12.0)\n",
            "Requirement already satisfied: pyasn1 in /usr/local/lib/python3.6/dist-packages (from quandl->qiskit_aqua) (0.4.7)\n",
            "Requirement already satisfied: more-itertools<=5.0.0 in /usr/local/lib/python3.6/dist-packages (from quandl->qiskit_aqua) (5.0.0)\n",
            "Requirement already satisfied: python-dateutil in /usr/local/lib/python3.6/dist-packages (from quandl->qiskit_aqua) (2.6.1)\n",
            "Requirement already satisfied: pandas>=0.14 in /usr/local/lib/python3.6/dist-packages (from quandl->qiskit_aqua) (0.25.3)\n",
            "Requirement already satisfied: pyOpenSSL in /usr/local/lib/python3.6/dist-packages (from quandl->qiskit_aqua) (19.1.0)\n",
            "Requirement already satisfied: joblib>=0.11 in /usr/local/lib/python3.6/dist-packages (from scikit-learn>=0.20.0->qiskit_aqua) (0.14.0)\n",
            "Requirement already satisfied: mpmath>=0.19 in /usr/local/lib/python3.6/dist-packages (from sympy>=1.3->qiskit_aqua) (1.1.0)\n",
            "Requirement already satisfied: docloud>=1.0.375 in /usr/local/lib/python3.6/dist-packages (from docplex->qiskit_aqua) (1.0.375)\n",
            "Requirement already satisfied: decorator>=4.3.0 in /usr/local/lib/python3.6/dist-packages (from networkx>=2.2->qiskit_aqua) (4.4.1)\n",
            "Requirement already satisfied: certifi>=2017.4.17 in /usr/local/lib/python3.6/dist-packages (from requests>=2.7.0->quandl->qiskit_aqua) (2019.9.11)\n",
            "Requirement already satisfied: chardet<3.1.0,>=3.0.2 in /usr/local/lib/python3.6/dist-packages (from requests>=2.7.0->quandl->qiskit_aqua) (3.0.4)\n",
            "Requirement already satisfied: urllib3<1.25,>=1.21.1 in /usr/local/lib/python3.6/dist-packages (from requests>=2.7.0->quandl->qiskit_aqua) (1.24.3)\n",
            "Requirement already satisfied: idna<2.9,>=2.5 in /usr/local/lib/python3.6/dist-packages (from requests>=2.7.0->quandl->qiskit_aqua) (2.8)\n",
            "Requirement already satisfied: pytz>=2017.2 in /usr/local/lib/python3.6/dist-packages (from pandas>=0.14->quandl->qiskit_aqua) (2018.9)\n",
            "Requirement already satisfied: cryptography>=2.8 in /usr/local/lib/python3.6/dist-packages (from pyOpenSSL->quandl->qiskit_aqua) (2.8)\n",
            "Requirement already satisfied: cffi!=1.11.3,>=1.8 in /usr/local/lib/python3.6/dist-packages (from cryptography>=2.8->pyOpenSSL->quandl->qiskit_aqua) (1.13.2)\n",
            "Requirement already satisfied: pycparser in /usr/local/lib/python3.6/dist-packages (from cffi!=1.11.3,>=1.8->cryptography>=2.8->pyOpenSSL->quandl->qiskit_aqua) (2.19)\n"
          ],
          "name": "stdout"
        }
      ]
    },
    {
      "cell_type": "code",
      "metadata": {
        "id": "lV2aZyVdTvAH",
        "colab_type": "code",
        "outputId": "db1b2015-d42e-40f3-ccd7-9f766be3f3cf",
        "colab": {
          "base_uri": "https://localhost:8080/",
          "height": 55
        }
      },
      "source": [
        "n_spins = 10\n",
        "\n",
        "h = {v: np.random.uniform(-2, 2) for v in range(n_spins)}\n",
        "J = {}\n",
        "\n",
        "allPermutations = list(itertools.combinations(h, 2))\n",
        "\n",
        "print(h)"
      ],
      "execution_count": 0,
      "outputs": [
        {
          "output_type": "stream",
          "text": [
            "{0: -1.8456097481768117, 1: 1.0149058895570064, 2: -1.7055190822961044, 3: -1.9705337374744438, 4: 0.17073068351297627, 5: 1.115578648686514, 6: -0.5658716598629483, 7: 0.933888811776701, 8: 1.2306449834869286, 9: 0.31553918093456446}\n"
          ],
          "name": "stdout"
        }
      ]
    },
    {
      "cell_type": "code",
      "metadata": {
        "id": "Z18-wf8pVbDi",
        "colab_type": "code",
        "outputId": "2e6c2d43-91fe-497b-9d73-367ebd113d8d",
        "colab": {
          "base_uri": "https://localhost:8080/",
          "height": 55
        }
      },
      "source": [
        "for i, j in allPermutations:\n",
        "    if np.random.random() < .01:\n",
        "        J[(i, j)] = np.random.uniform(-1, 1)\n",
        "\n",
        "model = dimod.BinaryQuadraticModel(h, J, 0.0, dimod.SPIN)\n",
        "sampler = dimod.SimulatedAnnealingSampler()\n",
        "\n",
        "print(model)"
      ],
      "execution_count": 0,
      "outputs": [
        {
          "output_type": "stream",
          "text": [
            "BinaryQuadraticModel({0: -1.8456097481768117, 1: 1.0149058895570064, 2: -1.7055190822961044, 3: -1.9705337374744438, 4: 0.17073068351297627, 5: 1.115578648686514, 6: -0.5658716598629483, 7: 0.933888811776701, 8: 1.2306449834869286, 9: 0.31553918093456446}, {(0, 7): -0.7506037142448618, (1, 7): 0.7989457168607246}, 0.0, Vartype.SPIN)\n"
          ],
          "name": "stdout"
        }
      ]
    },
    {
      "cell_type": "code",
      "metadata": {
        "id": "npdmpZlRWrzd",
        "colab_type": "code",
        "colab": {}
      },
      "source": [
        "n_samples = 1000\n",
        "\n",
        "def thermalSampler(T):\n",
        "    beta = 1 / T\n",
        "    response = sampler.sample(model, beta_range=[beta, beta], num_reads = n_samples)\n",
        "    return [{'sample': sample.sample, 'energy': sample.energy} for sample in response.data()]"
      ],
      "execution_count": 0,
      "outputs": []
    },
    {
      "cell_type": "code",
      "metadata": {
        "id": "DK7b-SteWwi0",
        "colab_type": "code",
        "colab": {}
      },
      "source": [
        "sampledData1 = thermalSampler(1)\n",
        "sampledData10 = thermalSampler(10)\n",
        "sampledData100 = thermalSampler(100)"
      ],
      "execution_count": 0,
      "outputs": []
    },
    {
      "cell_type": "code",
      "metadata": {
        "id": "XAtrWHnHW0ru",
        "colab_type": "code",
        "colab": {}
      },
      "source": [
        "def verifEnergy(sampledData):\n",
        "    selectedSample = np.random.randint(0, n_samples)\n",
        "\n",
        "    individualSpins = sum([x * y for x, y in zip(h.values(), sampledData[selectedSample]['sample'].values())])\n",
        "\n",
        "    twoSpinCoupling = sum([J[(i, j)] * sampledData[selectedSample]['sample'][i] * sampledData[selectedSample]['sample'][j] \n",
        "                       for i, j in J])\n",
        "\n",
        "    totalEnergy = individualSpins + twoSpinCoupling\n",
        "    print('expected = %f\\tverification = %f' % (sampledData[selectedSample]['energy'], totalEnergy))"
      ],
      "execution_count": 0,
      "outputs": []
    },
    {
      "cell_type": "code",
      "metadata": {
        "id": "kyfeKgdzXBay",
        "colab_type": "code",
        "outputId": "df24fda5-6c12-4064-d8ae-01ad661555a0",
        "colab": {
          "base_uri": "https://localhost:8080/",
          "height": 70
        }
      },
      "source": [
        "verifEnergy(sampledData1)\n",
        "verifEnergy(sampledData10)\n",
        "verifEnergy(sampledData100)"
      ],
      "execution_count": 0,
      "outputs": [
        {
          "output_type": "stream",
          "text": [
            "expected = -9.919516\tverification = -9.919516\n",
            "expected = -5.224136\tverification = -5.224136\n",
            "expected = 0.284028\tverification = 0.284028\n"
          ],
          "name": "stdout"
        }
      ]
    },
    {
      "cell_type": "code",
      "metadata": {
        "id": "rDSpVQV4XE13",
        "colab_type": "code",
        "colab": {}
      },
      "source": [
        "def plot_probabilities(energy_samples, temperatures):\n",
        "    fig, ax = plt.subplots()\n",
        "    for i, (energies, T) in enumerate(zip(energy_samples, temperatures)):\n",
        "        probabilities = np.exp(-np.array(sorted(energies))/T)\n",
        "        Z = probabilities.sum()\n",
        "        probabilities /= Z\n",
        "        ax.plot(energies, probabilities, linewidth=3, label = \"$T_\" + str(i+1)+\"$\")\n",
        "    minimum_energy = min([min(energies) for energies in energy_samples])\n",
        "    maximum_energy = max([max(energies) for energies in energy_samples])\n",
        "    ax.set_xlim(minimum_energy, maximum_energy)\n",
        "    ax.set_xticks([]); ax.set_yticks([])\n",
        "    ax.set_xlabel('Energy'); ax.set_ylabel('Probability'); ax.legend()\n",
        "    plt.show()"
      ],
      "execution_count": 0,
      "outputs": []
    },
    {
      "cell_type": "code",
      "metadata": {
        "id": "1e2gXBrFXIvu",
        "colab_type": "code",
        "outputId": "79601626-3507-4559-cd14-d52de921b6e3",
        "colab": {
          "base_uri": "https://localhost:8080/",
          "height": 262
        }
      },
      "source": [
        "\n",
        "energies1   = [sampledData['energy'] for sampledData in sampledData1]\n",
        "energies10  = [sampledData['energy'] for sampledData in sampledData10]\n",
        "energies100 = [sampledData['energy'] for sampledData in sampledData100]\n",
        "\n",
        "plot_probabilities([energies1, energies10, energies100], [1, 10, 100])"
      ],
      "execution_count": 0,
      "outputs": [
        {
          "output_type": "display_data",
          "data": {
            "image/png": "[encoded data removed]",
            "text/plain": [
              "<Figure size 432x288 with 1 Axes>"
            ]
          },
          "metadata": {
            "tags": []
          }
        }
      ]
    },
    {
      "cell_type": "code",
      "metadata": {
        "id": "pMJ6vFe-XNpu",
        "colab_type": "code",
        "colab": {}
      },
      "source": [
        "\n",
        "n_qubits = 2\n",
        "n_system = n_qubits * 2\n",
        "T = 1000\n"
      ],
      "execution_count": 0,
      "outputs": []
    },
    {
      "cell_type": "code",
      "metadata": {
        "id": "2y5WzmyhXSZc",
        "colab_type": "code",
        "colab": {}
      },
      "source": [
        "weights = np.array([[0,1],[0,0]])\n",
        "p = 1"
      ],
      "execution_count": 0,
      "outputs": []
    },
    {
      "cell_type": "code",
      "metadata": {
        "id": "Jjn20e_8XY4Q",
        "colab_type": "code",
        "colab": {}
      },
      "source": [
        "def pauli_z(qubit, coeff):\n",
        "    eye = np.eye((n_system))\n",
        "    return Operator([[coeff, Pauli(eye[qubit], np.zeros(n_system))]])\n",
        "\n",
        "def pauli_x(qubit, coeff):\n",
        "    eye = np.eye((n_qubits))\n",
        "    return Operator([[coeff, Pauli(np.zeros(n_qubits), eye[qubit])]])\n",
        "\n",
        "def product_pauli_z(q1, q2, coeff):\n",
        "    eye = np.eye((n_system))\n",
        "    return Operator([[coeff, Pauli(eye[q1], np.zeros(n_system)) * Pauli(eye[q2], np.zeros(n_system))]])\n",
        "\n",
        "def ising_hamiltonian(weights):\n",
        "    H = reduce(lambda x,y:x+y,\n",
        "            [product_pauli_z(i,j, -weights[i,j])\n",
        "             for (i,j) in itertools.product(range(n_qubits), range(n_qubits))])\n",
        "    H.to_matrix()\n",
        "    return H"
      ],
      "execution_count": 0,
      "outputs": []
    },
    {
      "cell_type": "code",
      "metadata": {
        "id": "zw_yqdyjXcU6",
        "colab_type": "code",
        "outputId": "27dd5037-1768-482a-ce01-66a5c5ed6b99",
        "colab": {
          "base_uri": "https://localhost:8080/",
          "height": 535
        }
      },
      "source": [
        "Hc = ising_hamiltonian(weights)"
      ],
      "execution_count": 0,
      "outputs": [
        {
          "output_type": "stream",
          "text": [
            "/usr/local/lib/python3.6/dist-packages/qiskit/aqua/operator.py:62: DeprecationWarning: The `Operator` class is deprecated and will be removed after 0.6. Use the class for each representation instead, including `MatrixOperator`, `WeightedPauliOperator` and `TPBGroupedWeightedPauliOperator`\n",
            "  DeprecationWarning)\n",
            "/usr/local/lib/python3.6/dist-packages/qiskit/aqua/operator.py:369: DeprecationWarning: The `Operator` class is deprecated and will be removed after 0.6. Use the class for each representation instead, including `MatrixOperator`, `WeightedPauliOperator` and `TPBGroupedWeightedPauliOperator`\n",
            "  DeprecationWarning)\n",
            "/usr/local/lib/python3.6/dist-packages/qiskit/aqua/operator.py:267: DeprecationWarning: The `Operator` class is deprecated and will be removed after 0.6. Use the class for each representation instead, including `MatrixOperator`, `WeightedPauliOperator` and `TPBGroupedWeightedPauliOperator`\n",
            "  DeprecationWarning)\n",
            "/usr/local/lib/python3.6/dist-packages/qiskit/aqua/operator.py:62: DeprecationWarning: The `Operator` class is deprecated and will be removed after 0.6. Use the class for each representation instead, including `MatrixOperator`, `WeightedPauliOperator` and `TPBGroupedWeightedPauliOperator`\n",
            "  DeprecationWarning)\n",
            "/usr/local/lib/python3.6/dist-packages/qiskit/aqua/operator.py:369: DeprecationWarning: The `Operator` class is deprecated and will be removed after 0.6. Use the class for each representation instead, including `MatrixOperator`, `WeightedPauliOperator` and `TPBGroupedWeightedPauliOperator`\n",
            "  DeprecationWarning)\n",
            "/usr/local/lib/python3.6/dist-packages/qiskit/aqua/operator.py:267: DeprecationWarning: The `Operator` class is deprecated and will be removed after 0.6. Use the class for each representation instead, including `MatrixOperator`, `WeightedPauliOperator` and `TPBGroupedWeightedPauliOperator`\n",
            "  DeprecationWarning)\n",
            "/usr/local/lib/python3.6/dist-packages/qiskit/aqua/operator.py:62: DeprecationWarning: The `Operator` class is deprecated and will be removed after 0.6. Use the class for each representation instead, including `MatrixOperator`, `WeightedPauliOperator` and `TPBGroupedWeightedPauliOperator`\n",
            "  DeprecationWarning)\n",
            "/usr/local/lib/python3.6/dist-packages/qiskit/aqua/operator.py:369: DeprecationWarning: The `Operator` class is deprecated and will be removed after 0.6. Use the class for each representation instead, including `MatrixOperator`, `WeightedPauliOperator` and `TPBGroupedWeightedPauliOperator`\n",
            "  DeprecationWarning)\n",
            "/usr/local/lib/python3.6/dist-packages/qiskit/aqua/operator.py:267: DeprecationWarning: The `Operator` class is deprecated and will be removed after 0.6. Use the class for each representation instead, including `MatrixOperator`, `WeightedPauliOperator` and `TPBGroupedWeightedPauliOperator`\n",
            "  DeprecationWarning)\n",
            "/usr/local/lib/python3.6/dist-packages/qiskit/aqua/operator.py:62: DeprecationWarning: The `Operator` class is deprecated and will be removed after 0.6. Use the class for each representation instead, including `MatrixOperator`, `WeightedPauliOperator` and `TPBGroupedWeightedPauliOperator`\n",
            "  DeprecationWarning)\n",
            "/usr/local/lib/python3.6/dist-packages/qiskit/aqua/operator.py:369: DeprecationWarning: The `Operator` class is deprecated and will be removed after 0.6. Use the class for each representation instead, including `MatrixOperator`, `WeightedPauliOperator` and `TPBGroupedWeightedPauliOperator`\n",
            "  DeprecationWarning)\n",
            "/usr/local/lib/python3.6/dist-packages/qiskit/aqua/operator.py:267: DeprecationWarning: The `Operator` class is deprecated and will be removed after 0.6. Use the class for each representation instead, including `MatrixOperator`, `WeightedPauliOperator` and `TPBGroupedWeightedPauliOperator`\n",
            "  DeprecationWarning)\n",
            "/usr/local/lib/python3.6/dist-packages/qiskit/aqua/operator.py:965: DeprecationWarning: The `Operator` class is deprecated and will be removed after 0.6. Use the class for each representation instead, including `MatrixOperator`, `WeightedPauliOperator` and `TPBGroupedWeightedPauliOperator`\n",
            "  DeprecationWarning)\n",
            "/usr/local/lib/python3.6/dist-packages/qiskit/aqua/operator.py:369: DeprecationWarning: The `Operator` class is deprecated and will be removed after 0.6. Use the class for each representation instead, including `MatrixOperator`, `WeightedPauliOperator` and `TPBGroupedWeightedPauliOperator`\n",
            "  DeprecationWarning)\n"
          ],
          "name": "stderr"
        }
      ]
    },
    {
      "cell_type": "code",
      "metadata": {
        "id": "ROQqZrHyXfpE",
        "colab_type": "code",
        "colab": {}
      },
      "source": [
        "qr, cr = QuantumRegister(n_system), ClassicalRegister(n_qubits)\n",
        "backend = BasicAer.get_backend('qasm_simulator')"
      ],
      "execution_count": 0,
      "outputs": []
    },
    {
      "cell_type": "code",
      "metadata": {
        "id": "A8M8qsggXlts",
        "colab_type": "code",
        "colab": {}
      },
      "source": [
        "def prepare_init_state(T):\n",
        "    circuit_init = QuantumCircuit(qr, cr)\n",
        "    α = 2 * np.arctan(np.exp(- 1/(2*T)))\n",
        "    for i in range(n_qubits):\n",
        "        circuit_init.rx(α, qr[n_qubits+i])\n",
        "        circuit_init.cx(qr[n_qubits+i], qr[i])\n",
        "    return circuit_init"
      ],
      "execution_count": 0,
      "outputs": []
    },
    {
      "cell_type": "code",
      "metadata": {
        "id": "xxSvxjDsXxRG",
        "colab_type": "code",
        "colab": {}
      },
      "source": [
        "def evolve(hamiltonian, angle, quantum_registers):\n",
        "    return hamiltonian.evolve(None, angle, 'circuit', 1,\n",
        "                              quantum_registers=quantum_registers,\n",
        "                              expansion_mode='suzuki',\n",
        "                              expansion_order=3)\n",
        "\n",
        "def create_circuit(beta, gamma, circuit_init):\n",
        "    Hm = reduce(lambda x, y: x+y,\n",
        "            [pauli_x(i, 1) for i in range(n_qubits)])\n",
        "    Hm.to_matrix()\n",
        "    \n",
        "    circuit_evolv = reduce(lambda x,y: x+y, [evolve(Hc, beta[i], qr) + evolve(Hm, gamma[i], qr)\n",
        "                                             for i in range(p)])\n",
        "    \n",
        "    circuit = circuit_init + circuit_evolv\n",
        "    return circuit\n",
        "\n",
        "def evaluate_circuit(beta_gamma, circuit_init):\n",
        "    circuit = create_circuit(beta_gamma[:p], beta_gamma[p:], circuit_init)\n",
        "    return np.real(Hc.eval(\"matrix\", circuit, get_aer_backend('statevector_simulator'))[0])\n",
        "    \n",
        "def run_qaoa(circuit_init):\n",
        "    beta_init = np.random.uniform(0, np.pi*2, p)\n",
        "    gamma_init = np.random.uniform(0, np.pi*2, p)\n",
        "    evaluate = partial(evaluate_circuit, circuit_init=circuit_init)\n",
        "    result = minimize(evaluate, np.concatenate([beta_init, gamma_init]), method='L-BFGS-B')\n",
        "    \n",
        "    circuit = create_circuit(result['x'][:p], result['x'][p:], circuit_init)\n",
        "\n",
        "    return result[\"fun\"], circuit\n",
        "\n",
        "def get_thermal_state(T):\n",
        "    circuit_init = prepare_init_state(T)\n",
        "    return run_qaoa(circuit_init)"
      ],
      "execution_count": 0,
      "outputs": []
    },
    {
      "cell_type": "code",
      "metadata": {
        "id": "hDorzV7KX04s",
        "colab_type": "code",
        "outputId": "83358a7d-765b-4d5e-c190-d6d97536074f",
        "colab": {
          "base_uri": "https://localhost:8080/",
          "height": 1000
        }
      },
      "source": [
        "cost, thermal_state = get_thermal_state(T)\n",
        "print(\"Result of QAOA\", cost)"
      ],
      "execution_count": 0,
      "outputs": [
        {
          "output_type": "stream",
          "text": [
            "/usr/local/lib/python3.6/dist-packages/qiskit/aqua/operator.py:62: DeprecationWarning: The `Operator` class is deprecated and will be removed after 0.6. Use the class for each representation instead, including `MatrixOperator`, `WeightedPauliOperator` and `TPBGroupedWeightedPauliOperator`\n",
            "  DeprecationWarning)\n",
            "/usr/local/lib/python3.6/dist-packages/qiskit/aqua/operator.py:369: DeprecationWarning: The `Operator` class is deprecated and will be removed after 0.6. Use the class for each representation instead, including `MatrixOperator`, `WeightedPauliOperator` and `TPBGroupedWeightedPauliOperator`\n",
            "  DeprecationWarning)\n",
            "/usr/local/lib/python3.6/dist-packages/qiskit/aqua/operator.py:267: DeprecationWarning: The `Operator` class is deprecated and will be removed after 0.6. Use the class for each representation instead, including `MatrixOperator`, `WeightedPauliOperator` and `TPBGroupedWeightedPauliOperator`\n",
            "  DeprecationWarning)\n",
            "/usr/local/lib/python3.6/dist-packages/qiskit/aqua/operator.py:62: DeprecationWarning: The `Operator` class is deprecated and will be removed after 0.6. Use the class for each representation instead, including `MatrixOperator`, `WeightedPauliOperator` and `TPBGroupedWeightedPauliOperator`\n",
            "  DeprecationWarning)\n",
            "/usr/local/lib/python3.6/dist-packages/qiskit/aqua/operator.py:369: DeprecationWarning: The `Operator` class is deprecated and will be removed after 0.6. Use the class for each representation instead, including `MatrixOperator`, `WeightedPauliOperator` and `TPBGroupedWeightedPauliOperator`\n",
            "  DeprecationWarning)\n",
            "/usr/local/lib/python3.6/dist-packages/qiskit/aqua/operator.py:267: DeprecationWarning: The `Operator` class is deprecated and will be removed after 0.6. Use the class for each representation instead, including `MatrixOperator`, `WeightedPauliOperator` and `TPBGroupedWeightedPauliOperator`\n",
            "  DeprecationWarning)\n",
            "/usr/local/lib/python3.6/dist-packages/qiskit/aqua/operator.py:965: DeprecationWarning: The `Operator` class is deprecated and will be removed after 0.6. Use the class for each representation instead, including `MatrixOperator`, `WeightedPauliOperator` and `TPBGroupedWeightedPauliOperator`\n",
            "  DeprecationWarning)\n",
            "/usr/local/lib/python3.6/dist-packages/qiskit/aqua/operator.py:369: DeprecationWarning: The `Operator` class is deprecated and will be removed after 0.6. Use the class for each representation instead, including `MatrixOperator`, `WeightedPauliOperator` and `TPBGroupedWeightedPauliOperator`\n",
            "  DeprecationWarning)\n",
            "/usr/local/lib/python3.6/dist-packages/qiskit/aqua/operator.py:1550: DeprecationWarning: The `Operator` class is deprecated and will be removed after 0.6. Use the class for each representation instead, including `MatrixOperator`, `WeightedPauliOperator` and `TPBGroupedWeightedPauliOperator`\n",
            "  DeprecationWarning)\n",
            "/usr/local/lib/python3.6/dist-packages/qiskit/aqua/operator.py:1303: DeprecationWarning: The `Operator` class is deprecated and will be removed after 0.6. Use the class for each representation instead, including `MatrixOperator`, `WeightedPauliOperator` and `TPBGroupedWeightedPauliOperator`\n",
            "  DeprecationWarning)\n",
            "/usr/local/lib/python3.6/dist-packages/qiskit/aqua/operator.py:1339: DeprecationWarning: The `Operator` class is deprecated and will be removed after 0.6. Use the class for each representation instead, including `MatrixOperator`, `WeightedPauliOperator` and `TPBGroupedWeightedPauliOperator`\n",
            "  DeprecationWarning)\n",
            "/usr/local/lib/python3.6/dist-packages/qiskit/aqua/operator.py:1550: DeprecationWarning: The `Operator` class is deprecated and will be removed after 0.6. Use the class for each representation instead, including `MatrixOperator`, `WeightedPauliOperator` and `TPBGroupedWeightedPauliOperator`\n",
            "  DeprecationWarning)\n",
            "/usr/local/lib/python3.6/dist-packages/qiskit/aqua/operator.py:1303: DeprecationWarning: The `Operator` class is deprecated and will be removed after 0.6. Use the class for each representation instead, including `MatrixOperator`, `WeightedPauliOperator` and `TPBGroupedWeightedPauliOperator`\n",
            "  DeprecationWarning)\n",
            "/usr/local/lib/python3.6/dist-packages/qiskit/aqua/operator.py:467: DeprecationWarning: The `Operator` class is deprecated and will be removed after 0.6. Use the class for each representation instead, including `MatrixOperator`, `WeightedPauliOperator` and `TPBGroupedWeightedPauliOperator`\n",
            "  DeprecationWarning)\n",
            "/usr/local/lib/python3.6/dist-packages/qiskit/aqua/operator.py:1339: DeprecationWarning: The `Operator` class is deprecated and will be removed after 0.6. Use the class for each representation instead, including `MatrixOperator`, `WeightedPauliOperator` and `TPBGroupedWeightedPauliOperator`\n",
            "  DeprecationWarning)\n",
            "/usr/local/lib/python3.6/dist-packages/qiskit/aqua/operator.py:920: DeprecationWarning: The `Operator` class is deprecated and will be removed after 0.6. Use the class for each representation instead, including `MatrixOperator`, `WeightedPauliOperator` and `TPBGroupedWeightedPauliOperator`\n",
            "  DeprecationWarning)\n",
            "/usr/local/lib/python3.6/dist-packages/qiskit/aqua/operator.py:689: DeprecationWarning: The `Operator` class is deprecated and will be removed after 0.6. Use the class for each representation instead, including `MatrixOperator`, `WeightedPauliOperator` and `TPBGroupedWeightedPauliOperator`\n",
            "  DeprecationWarning)\n"
          ],
          "name": "stderr"
        },
        {
          "output_type": "error",
          "ename": "AquaError",
          "evalue": "ignored",
          "traceback": [
            "\u001b[0;31m---------------------------------------------------------------------------\u001b[0m",
            "\u001b[0;31mAquaError\u001b[0m                                 Traceback (most recent call last)",
            "\u001b[0;32m<ipython-input-33-fc3fe6e9e660>\u001b[0m in \u001b[0;36m<module>\u001b[0;34m()\u001b[0m\n\u001b[0;32m----> 1\u001b[0;31m \u001b[0mcost\u001b[0m\u001b[0;34m,\u001b[0m \u001b[0mthermal_state\u001b[0m \u001b[0;34m=\u001b[0m \u001b[0mget_thermal_state\u001b[0m\u001b[0;34m(\u001b[0m\u001b[0mT\u001b[0m\u001b[0;34m)\u001b[0m\u001b[0;34m\u001b[0m\u001b[0;34m\u001b[0m\u001b[0m\n\u001b[0m\u001b[1;32m      2\u001b[0m \u001b[0mprint\u001b[0m\u001b[0;34m(\u001b[0m\u001b[0;34m\"Result of QAOA\"\u001b[0m\u001b[0;34m,\u001b[0m \u001b[0mcost\u001b[0m\u001b[0;34m)\u001b[0m\u001b[0;34m\u001b[0m\u001b[0;34m\u001b[0m\u001b[0m\n",
            "\u001b[0;32m<ipython-input-31-7d36a92610ee>\u001b[0m in \u001b[0;36mget_thermal_state\u001b[0;34m(T)\u001b[0m\n\u001b[1;32m     32\u001b[0m \u001b[0;32mdef\u001b[0m \u001b[0mget_thermal_state\u001b[0m\u001b[0;34m(\u001b[0m\u001b[0mT\u001b[0m\u001b[0;34m)\u001b[0m\u001b[0;34m:\u001b[0m\u001b[0;34m\u001b[0m\u001b[0;34m\u001b[0m\u001b[0m\n\u001b[1;32m     33\u001b[0m     \u001b[0mcircuit_init\u001b[0m \u001b[0;34m=\u001b[0m \u001b[0mprepare_init_state\u001b[0m\u001b[0;34m(\u001b[0m\u001b[0mT\u001b[0m\u001b[0;34m)\u001b[0m\u001b[0;34m\u001b[0m\u001b[0;34m\u001b[0m\u001b[0m\n\u001b[0;32m---> 34\u001b[0;31m     \u001b[0;32mreturn\u001b[0m \u001b[0mrun_qaoa\u001b[0m\u001b[0;34m(\u001b[0m\u001b[0mcircuit_init\u001b[0m\u001b[0;34m)\u001b[0m\u001b[0;34m\u001b[0m\u001b[0;34m\u001b[0m\u001b[0m\n\u001b[0m",
            "\u001b[0;32m<ipython-input-31-7d36a92610ee>\u001b[0m in \u001b[0;36mrun_qaoa\u001b[0;34m(circuit_init)\u001b[0m\n\u001b[1;32m     24\u001b[0m     \u001b[0mgamma_init\u001b[0m \u001b[0;34m=\u001b[0m \u001b[0mnp\u001b[0m\u001b[0;34m.\u001b[0m\u001b[0mrandom\u001b[0m\u001b[0;34m.\u001b[0m\u001b[0muniform\u001b[0m\u001b[0;34m(\u001b[0m\u001b[0;36m0\u001b[0m\u001b[0;34m,\u001b[0m \u001b[0mnp\u001b[0m\u001b[0;34m.\u001b[0m\u001b[0mpi\u001b[0m\u001b[0;34m*\u001b[0m\u001b[0;36m2\u001b[0m\u001b[0;34m,\u001b[0m \u001b[0mp\u001b[0m\u001b[0;34m)\u001b[0m\u001b[0;34m\u001b[0m\u001b[0;34m\u001b[0m\u001b[0m\n\u001b[1;32m     25\u001b[0m     \u001b[0mevaluate\u001b[0m \u001b[0;34m=\u001b[0m \u001b[0mpartial\u001b[0m\u001b[0;34m(\u001b[0m\u001b[0mevaluate_circuit\u001b[0m\u001b[0;34m,\u001b[0m \u001b[0mcircuit_init\u001b[0m\u001b[0;34m=\u001b[0m\u001b[0mcircuit_init\u001b[0m\u001b[0;34m)\u001b[0m\u001b[0;34m\u001b[0m\u001b[0;34m\u001b[0m\u001b[0m\n\u001b[0;32m---> 26\u001b[0;31m     \u001b[0mresult\u001b[0m \u001b[0;34m=\u001b[0m \u001b[0mminimize\u001b[0m\u001b[0;34m(\u001b[0m\u001b[0mevaluate\u001b[0m\u001b[0;34m,\u001b[0m \u001b[0mnp\u001b[0m\u001b[0;34m.\u001b[0m\u001b[0mconcatenate\u001b[0m\u001b[0;34m(\u001b[0m\u001b[0;34m[\u001b[0m\u001b[0mbeta_init\u001b[0m\u001b[0;34m,\u001b[0m \u001b[0mgamma_init\u001b[0m\u001b[0;34m]\u001b[0m\u001b[0;34m)\u001b[0m\u001b[0;34m,\u001b[0m \u001b[0mmethod\u001b[0m\u001b[0;34m=\u001b[0m\u001b[0;34m'L-BFGS-B'\u001b[0m\u001b[0;34m)\u001b[0m\u001b[0;34m\u001b[0m\u001b[0;34m\u001b[0m\u001b[0m\n\u001b[0m\u001b[1;32m     27\u001b[0m \u001b[0;34m\u001b[0m\u001b[0m\n\u001b[1;32m     28\u001b[0m     \u001b[0mcircuit\u001b[0m \u001b[0;34m=\u001b[0m \u001b[0mcreate_circuit\u001b[0m\u001b[0;34m(\u001b[0m\u001b[0mresult\u001b[0m\u001b[0;34m[\u001b[0m\u001b[0;34m'x'\u001b[0m\u001b[0;34m]\u001b[0m\u001b[0;34m[\u001b[0m\u001b[0;34m:\u001b[0m\u001b[0mp\u001b[0m\u001b[0;34m]\u001b[0m\u001b[0;34m,\u001b[0m \u001b[0mresult\u001b[0m\u001b[0;34m[\u001b[0m\u001b[0;34m'x'\u001b[0m\u001b[0;34m]\u001b[0m\u001b[0;34m[\u001b[0m\u001b[0mp\u001b[0m\u001b[0;34m:\u001b[0m\u001b[0;34m]\u001b[0m\u001b[0;34m,\u001b[0m \u001b[0mcircuit_init\u001b[0m\u001b[0;34m)\u001b[0m\u001b[0;34m\u001b[0m\u001b[0;34m\u001b[0m\u001b[0m\n",
            "\u001b[0;32m/usr/local/lib/python3.6/dist-packages/scipy/optimize/_minimize.py\u001b[0m in \u001b[0;36mminimize\u001b[0;34m(fun, x0, args, method, jac, hess, hessp, bounds, constraints, tol, callback, options)\u001b[0m\n\u001b[1;32m    598\u001b[0m     \u001b[0;32melif\u001b[0m \u001b[0mmeth\u001b[0m \u001b[0;34m==\u001b[0m \u001b[0;34m'l-bfgs-b'\u001b[0m\u001b[0;34m:\u001b[0m\u001b[0;34m\u001b[0m\u001b[0;34m\u001b[0m\u001b[0m\n\u001b[1;32m    599\u001b[0m         return _minimize_lbfgsb(fun, x0, args, jac, bounds,\n\u001b[0;32m--> 600\u001b[0;31m                                 callback=callback, **options)\n\u001b[0m\u001b[1;32m    601\u001b[0m     \u001b[0;32melif\u001b[0m \u001b[0mmeth\u001b[0m \u001b[0;34m==\u001b[0m \u001b[0;34m'tnc'\u001b[0m\u001b[0;34m:\u001b[0m\u001b[0;34m\u001b[0m\u001b[0;34m\u001b[0m\u001b[0m\n\u001b[1;32m    602\u001b[0m         return _minimize_tnc(fun, x0, args, jac, bounds, callback=callback,\n",
            "\u001b[0;32m/usr/local/lib/python3.6/dist-packages/scipy/optimize/lbfgsb.py\u001b[0m in \u001b[0;36m_minimize_lbfgsb\u001b[0;34m(fun, x0, args, jac, bounds, disp, maxcor, ftol, gtol, eps, maxfun, maxiter, iprint, callback, maxls, **unknown_options)\u001b[0m\n\u001b[1;32m    333\u001b[0m             \u001b[0;31m# until the completion of the current minimization iteration.\u001b[0m\u001b[0;34m\u001b[0m\u001b[0;34m\u001b[0m\u001b[0;34m\u001b[0m\u001b[0m\n\u001b[1;32m    334\u001b[0m             \u001b[0;31m# Overwrite f and g:\u001b[0m\u001b[0;34m\u001b[0m\u001b[0;34m\u001b[0m\u001b[0;34m\u001b[0m\u001b[0m\n\u001b[0;32m--> 335\u001b[0;31m             \u001b[0mf\u001b[0m\u001b[0;34m,\u001b[0m \u001b[0mg\u001b[0m \u001b[0;34m=\u001b[0m \u001b[0mfunc_and_grad\u001b[0m\u001b[0;34m(\u001b[0m\u001b[0mx\u001b[0m\u001b[0;34m)\u001b[0m\u001b[0;34m\u001b[0m\u001b[0;34m\u001b[0m\u001b[0m\n\u001b[0m\u001b[1;32m    336\u001b[0m         \u001b[0;32melif\u001b[0m \u001b[0mtask_str\u001b[0m\u001b[0;34m.\u001b[0m\u001b[0mstartswith\u001b[0m\u001b[0;34m(\u001b[0m\u001b[0;34mb'NEW_X'\u001b[0m\u001b[0;34m)\u001b[0m\u001b[0;34m:\u001b[0m\u001b[0;34m\u001b[0m\u001b[0;34m\u001b[0m\u001b[0m\n\u001b[1;32m    337\u001b[0m             \u001b[0;31m# new iteration\u001b[0m\u001b[0;34m\u001b[0m\u001b[0;34m\u001b[0m\u001b[0;34m\u001b[0m\u001b[0m\n",
            "\u001b[0;32m/usr/local/lib/python3.6/dist-packages/scipy/optimize/lbfgsb.py\u001b[0m in \u001b[0;36mfunc_and_grad\u001b[0;34m(x)\u001b[0m\n\u001b[1;32m    278\u001b[0m     \u001b[0;32mif\u001b[0m \u001b[0mjac\u001b[0m \u001b[0;32mis\u001b[0m \u001b[0;32mNone\u001b[0m\u001b[0;34m:\u001b[0m\u001b[0;34m\u001b[0m\u001b[0;34m\u001b[0m\u001b[0m\n\u001b[1;32m    279\u001b[0m         \u001b[0;32mdef\u001b[0m \u001b[0mfunc_and_grad\u001b[0m\u001b[0;34m(\u001b[0m\u001b[0mx\u001b[0m\u001b[0;34m)\u001b[0m\u001b[0;34m:\u001b[0m\u001b[0;34m\u001b[0m\u001b[0;34m\u001b[0m\u001b[0m\n\u001b[0;32m--> 280\u001b[0;31m             \u001b[0mf\u001b[0m \u001b[0;34m=\u001b[0m \u001b[0mfun\u001b[0m\u001b[0;34m(\u001b[0m\u001b[0mx\u001b[0m\u001b[0;34m,\u001b[0m \u001b[0;34m*\u001b[0m\u001b[0margs\u001b[0m\u001b[0;34m)\u001b[0m\u001b[0;34m\u001b[0m\u001b[0;34m\u001b[0m\u001b[0m\n\u001b[0m\u001b[1;32m    281\u001b[0m             \u001b[0mg\u001b[0m \u001b[0;34m=\u001b[0m \u001b[0m_approx_fprime_helper\u001b[0m\u001b[0;34m(\u001b[0m\u001b[0mx\u001b[0m\u001b[0;34m,\u001b[0m \u001b[0mfun\u001b[0m\u001b[0;34m,\u001b[0m \u001b[0mepsilon\u001b[0m\u001b[0;34m,\u001b[0m \u001b[0margs\u001b[0m\u001b[0;34m=\u001b[0m\u001b[0margs\u001b[0m\u001b[0;34m,\u001b[0m \u001b[0mf0\u001b[0m\u001b[0;34m=\u001b[0m\u001b[0mf\u001b[0m\u001b[0;34m)\u001b[0m\u001b[0;34m\u001b[0m\u001b[0;34m\u001b[0m\u001b[0m\n\u001b[1;32m    282\u001b[0m             \u001b[0;32mreturn\u001b[0m \u001b[0mf\u001b[0m\u001b[0;34m,\u001b[0m \u001b[0mg\u001b[0m\u001b[0;34m\u001b[0m\u001b[0;34m\u001b[0m\u001b[0m\n",
            "\u001b[0;32m/usr/local/lib/python3.6/dist-packages/scipy/optimize/optimize.py\u001b[0m in \u001b[0;36mfunction_wrapper\u001b[0;34m(*wrapper_args)\u001b[0m\n\u001b[1;32m    325\u001b[0m     \u001b[0;32mdef\u001b[0m \u001b[0mfunction_wrapper\u001b[0m\u001b[0;34m(\u001b[0m\u001b[0;34m*\u001b[0m\u001b[0mwrapper_args\u001b[0m\u001b[0;34m)\u001b[0m\u001b[0;34m:\u001b[0m\u001b[0;34m\u001b[0m\u001b[0;34m\u001b[0m\u001b[0m\n\u001b[1;32m    326\u001b[0m         \u001b[0mncalls\u001b[0m\u001b[0;34m[\u001b[0m\u001b[0;36m0\u001b[0m\u001b[0;34m]\u001b[0m \u001b[0;34m+=\u001b[0m \u001b[0;36m1\u001b[0m\u001b[0;34m\u001b[0m\u001b[0;34m\u001b[0m\u001b[0m\n\u001b[0;32m--> 327\u001b[0;31m         \u001b[0;32mreturn\u001b[0m \u001b[0mfunction\u001b[0m\u001b[0;34m(\u001b[0m\u001b[0;34m*\u001b[0m\u001b[0;34m(\u001b[0m\u001b[0mwrapper_args\u001b[0m \u001b[0;34m+\u001b[0m \u001b[0margs\u001b[0m\u001b[0;34m)\u001b[0m\u001b[0;34m)\u001b[0m\u001b[0;34m\u001b[0m\u001b[0;34m\u001b[0m\u001b[0m\n\u001b[0m\u001b[1;32m    328\u001b[0m \u001b[0;34m\u001b[0m\u001b[0m\n\u001b[1;32m    329\u001b[0m     \u001b[0;32mreturn\u001b[0m \u001b[0mncalls\u001b[0m\u001b[0;34m,\u001b[0m \u001b[0mfunction_wrapper\u001b[0m\u001b[0;34m\u001b[0m\u001b[0;34m\u001b[0m\u001b[0m\n",
            "\u001b[0;32m<ipython-input-31-7d36a92610ee>\u001b[0m in \u001b[0;36mevaluate_circuit\u001b[0;34m(beta_gamma, circuit_init)\u001b[0m\n\u001b[1;32m     18\u001b[0m \u001b[0;32mdef\u001b[0m \u001b[0mevaluate_circuit\u001b[0m\u001b[0;34m(\u001b[0m\u001b[0mbeta_gamma\u001b[0m\u001b[0;34m,\u001b[0m \u001b[0mcircuit_init\u001b[0m\u001b[0;34m)\u001b[0m\u001b[0;34m:\u001b[0m\u001b[0;34m\u001b[0m\u001b[0;34m\u001b[0m\u001b[0m\n\u001b[1;32m     19\u001b[0m     \u001b[0mcircuit\u001b[0m \u001b[0;34m=\u001b[0m \u001b[0mcreate_circuit\u001b[0m\u001b[0;34m(\u001b[0m\u001b[0mbeta_gamma\u001b[0m\u001b[0;34m[\u001b[0m\u001b[0;34m:\u001b[0m\u001b[0mp\u001b[0m\u001b[0;34m]\u001b[0m\u001b[0;34m,\u001b[0m \u001b[0mbeta_gamma\u001b[0m\u001b[0;34m[\u001b[0m\u001b[0mp\u001b[0m\u001b[0;34m:\u001b[0m\u001b[0;34m]\u001b[0m\u001b[0;34m,\u001b[0m \u001b[0mcircuit_init\u001b[0m\u001b[0;34m)\u001b[0m\u001b[0;34m\u001b[0m\u001b[0;34m\u001b[0m\u001b[0m\n\u001b[0;32m---> 20\u001b[0;31m     \u001b[0;32mreturn\u001b[0m \u001b[0mnp\u001b[0m\u001b[0;34m.\u001b[0m\u001b[0mreal\u001b[0m\u001b[0;34m(\u001b[0m\u001b[0mHc\u001b[0m\u001b[0;34m.\u001b[0m\u001b[0meval\u001b[0m\u001b[0;34m(\u001b[0m\u001b[0;34m\"matrix\"\u001b[0m\u001b[0;34m,\u001b[0m \u001b[0mcircuit\u001b[0m\u001b[0;34m,\u001b[0m \u001b[0mget_aer_backend\u001b[0m\u001b[0;34m(\u001b[0m\u001b[0;34m'statevector_simulator'\u001b[0m\u001b[0;34m)\u001b[0m\u001b[0;34m)\u001b[0m\u001b[0;34m[\u001b[0m\u001b[0;36m0\u001b[0m\u001b[0;34m]\u001b[0m\u001b[0;34m)\u001b[0m\u001b[0;34m\u001b[0m\u001b[0;34m\u001b[0m\u001b[0m\n\u001b[0m\u001b[1;32m     21\u001b[0m \u001b[0;34m\u001b[0m\u001b[0m\n\u001b[1;32m     22\u001b[0m \u001b[0;32mdef\u001b[0m \u001b[0mrun_qaoa\u001b[0m\u001b[0;34m(\u001b[0m\u001b[0mcircuit_init\u001b[0m\u001b[0;34m)\u001b[0m\u001b[0;34m:\u001b[0m\u001b[0;34m\u001b[0m\u001b[0;34m\u001b[0m\u001b[0m\n",
            "\u001b[0;32m/usr/local/lib/python3.6/dist-packages/qiskit/aqua/operator.py\u001b[0m in \u001b[0;36meval\u001b[0;34m(self, operator_mode, input_circuit, backend, backend_config, compile_config, run_config, qjob_config, noise_config)\u001b[0m\n\u001b[1;32m    936\u001b[0m                 \u001b[0mrun_config\u001b[0m\u001b[0;34m.\u001b[0m\u001b[0mshots\u001b[0m \u001b[0;34m=\u001b[0m \u001b[0;36m1\u001b[0m\u001b[0;34m\u001b[0m\u001b[0;34m\u001b[0m\u001b[0m\n\u001b[1;32m    937\u001b[0m \u001b[0;34m\u001b[0m\u001b[0m\n\u001b[0;32m--> 938\u001b[0;31m             \u001b[0mcircuits\u001b[0m \u001b[0;34m=\u001b[0m \u001b[0mself\u001b[0m\u001b[0;34m.\u001b[0m\u001b[0mconstruct_evaluation_circuit\u001b[0m\u001b[0;34m(\u001b[0m\u001b[0moperator_mode\u001b[0m\u001b[0;34m,\u001b[0m \u001b[0minput_circuit\u001b[0m\u001b[0;34m,\u001b[0m \u001b[0mbackend\u001b[0m\u001b[0;34m)\u001b[0m\u001b[0;34m\u001b[0m\u001b[0;34m\u001b[0m\u001b[0m\n\u001b[0m\u001b[1;32m    939\u001b[0m             result = compile_and_run_circuits(circuits, backend=backend, backend_config=backend_config,\n\u001b[1;32m    940\u001b[0m                                               \u001b[0mcompile_config\u001b[0m\u001b[0;34m=\u001b[0m\u001b[0mcompile_config\u001b[0m\u001b[0;34m,\u001b[0m \u001b[0mrun_config\u001b[0m\u001b[0;34m=\u001b[0m\u001b[0mrun_config\u001b[0m\u001b[0;34m,\u001b[0m\u001b[0;34m\u001b[0m\u001b[0;34m\u001b[0m\u001b[0m\n",
            "\u001b[0;32m/usr/local/lib/python3.6/dist-packages/qiskit/aqua/operator.py\u001b[0m in \u001b[0;36mconstruct_evaluation_circuit\u001b[0;34m(self, operator_mode, input_circuit, backend, qr, cr, use_simulator_operator_mode)\u001b[0m\n\u001b[1;32m    691\u001b[0m             \u001b[0mqr\u001b[0m \u001b[0;34m=\u001b[0m \u001b[0mfind_regs_by_name\u001b[0m\u001b[0;34m(\u001b[0m\u001b[0minput_circuit\u001b[0m\u001b[0;34m,\u001b[0m \u001b[0;34m'q'\u001b[0m\u001b[0;34m)\u001b[0m\u001b[0;34m\u001b[0m\u001b[0;34m\u001b[0m\u001b[0m\n\u001b[1;32m    692\u001b[0m             \u001b[0;32mif\u001b[0m \u001b[0mqr\u001b[0m \u001b[0;32mis\u001b[0m \u001b[0;32mNone\u001b[0m\u001b[0;34m:\u001b[0m\u001b[0;34m\u001b[0m\u001b[0;34m\u001b[0m\u001b[0m\n\u001b[0;32m--> 693\u001b[0;31m                 raise AquaError(\"Either providing the quantum register (qr) explicitly\"\n\u001b[0m\u001b[1;32m    694\u001b[0m                                 \"or used `q` as the name in the input circuit.\")\n\u001b[1;32m    695\u001b[0m         \u001b[0;32melse\u001b[0m\u001b[0;34m:\u001b[0m\u001b[0;34m\u001b[0m\u001b[0;34m\u001b[0m\u001b[0m\n",
            "\u001b[0;31mAquaError\u001b[0m: 'Either providing the quantum register (qr) explicitlyor used `q` as the name in the input circuit.'"
          ]
        }
      ]
    },
    {
      "cell_type": "code",
      "metadata": {
        "id": "A0RUxgNNX3y0",
        "colab_type": "code",
        "colab": {}
      },
      "source": [
        "def get_energy(spin_configuration):\n",
        "    x = spin_configuration.reshape(-1, 1)\n",
        "    return np.sum([[-weights[i,j] * x[i] * x[j] for j in range(n_qubits)] for i in range(n_qubits)])\n",
        "\n",
        "def get_energy_distribution(thermal_state):\n",
        "    for i in range(n_qubits):\n",
        "        thermal_state.measure(qr[i], cr[i])\n",
        "    \n",
        "    job = execute(thermal_state, backend, shots=5000)\n",
        "    results = job.result().get_counts(thermal_state)\n",
        "    \n",
        "    list_spin_configs = np.array(np.concatenate([[list(spin_config)] * results[spin_config] for spin_config in results]), dtype=\"int\")\n",
        "    list_spin_configs[list_spin_configs == 0] = -1\n",
        "    list_energy = np.array([get_energy(spin_config) for spin_config in list_spin_configs])\n",
        "    return list_energy"
      ],
      "execution_count": 0,
      "outputs": []
    },
    {
      "cell_type": "code",
      "metadata": {
        "id": "aaCKVsMuYNi1",
        "colab_type": "code",
        "outputId": "8f9311a7-ce9e-4333-a1d5-21b7464e99e5",
        "colab": {
          "base_uri": "https://localhost:8080/",
          "height": 186
        }
      },
      "source": [
        "list_energy = get_energy_distribution(thermal_state)\n",
        "hist = plt.hist(list_energy, density=True)"
      ],
      "execution_count": 0,
      "outputs": [
        {
          "output_type": "error",
          "ename": "NameError",
          "evalue": "ignored",
          "traceback": [
            "\u001b[0;31m---------------------------------------------------------------------------\u001b[0m",
            "\u001b[0;31mNameError\u001b[0m                                 Traceback (most recent call last)",
            "\u001b[0;32m<ipython-input-35-dc8d76f5536a>\u001b[0m in \u001b[0;36m<module>\u001b[0;34m()\u001b[0m\n\u001b[0;32m----> 1\u001b[0;31m \u001b[0mlist_energy\u001b[0m \u001b[0;34m=\u001b[0m \u001b[0mget_energy_distribution\u001b[0m\u001b[0;34m(\u001b[0m\u001b[0mthermal_state\u001b[0m\u001b[0;34m)\u001b[0m\u001b[0;34m\u001b[0m\u001b[0;34m\u001b[0m\u001b[0m\n\u001b[0m\u001b[1;32m      2\u001b[0m \u001b[0mhist\u001b[0m \u001b[0;34m=\u001b[0m \u001b[0mplt\u001b[0m\u001b[0;34m.\u001b[0m\u001b[0mhist\u001b[0m\u001b[0;34m(\u001b[0m\u001b[0mlist_energy\u001b[0m\u001b[0;34m,\u001b[0m \u001b[0mdensity\u001b[0m\u001b[0;34m=\u001b[0m\u001b[0;32mTrue\u001b[0m\u001b[0;34m)\u001b[0m\u001b[0;34m\u001b[0m\u001b[0;34m\u001b[0m\u001b[0m\n",
            "\u001b[0;31mNameError\u001b[0m: name 'thermal_state' is not defined"
          ]
        }
      ]
    },
    {
      "cell_type": "code",
      "metadata": {
        "id": "ka8WD1NjYQTa",
        "colab_type": "code",
        "colab": {}
      },
      "source": [
        "import sklearn\n",
        "from sklearn.ensemble import AdaBoostClassifier\n",
        "from sklearn.linear_model import Perceptron\n",
        "from sklearn.svm import SVC\n",
        "import sklearn.metrics\n",
        "import sklearn.datasets\n",
        "import numpy as np\n",
        "import matplotlib.pyplot as plt\n",
        "\n",
        "import dimod\n",
        "from qiskit.quantum_info import Pauli\n",
        "from qiskit.aqua import Operator\n",
        "from qiskit.aqua import get_aer_backend, QuantumInstance\n",
        "from qiskit.aqua.algorithms import QAOA\n",
        "from qiskit.aqua.components.optimizers import COBYLA"
      ],
      "execution_count": 0,
      "outputs": []
    },
    {
      "cell_type": "code",
      "metadata": {
        "id": "iV9EL3eoZVg3",
        "colab_type": "code",
        "outputId": "aac45107-00a2-4a5c-db45-0cbd7c8a94e3",
        "colab": {
          "base_uri": "https://localhost:8080/",
          "height": 361
        }
      },
      "source": [
        "c1 = np.random.rand(50, 2) / 5\n",
        "c2 = (-0.6, 0.5) + np.random.rand(50, 2) / 5\n",
        "\n",
        "data = np.concatenate((c1, c2))\n",
        "labels = np.array([0] * 50 + [1] *50)\n",
        "plt.figure(figsize=(6, 6))\n",
        "plt.subplot(111, xticks=[], yticks=[])\n",
        "plt.scatter(data[:50, 0], data[:50, 1], color='navy')\n",
        "plt.scatter(data[50:, 0], data[50:, 1], color='c');"
      ],
      "execution_count": 0,
      "outputs": [
        {
          "output_type": "display_data",
          "data": {
            "image/png": "[encoded data removed]",
            "text/plain": [
              "<Figure size 432x432 with 1 Axes>"
            ]
          },
          "metadata": {
            "tags": []
          }
        }
      ]
    },
    {
      "cell_type": "code",
      "metadata": {
        "id": "irQtToprZaXL",
        "colab_type": "code",
        "colab": {}
      },
      "source": [
        "idx = np.arange(len(labels))\n",
        "np.random.shuffle(idx)\n",
        "\n",
        "# train on a random 2/3 and test on the remaining 1/3\n",
        "\n",
        "idx_train, idx_test = idx[:2 * len(idx) // 3], idx[2 * len(idx) // 3:]\n",
        "\n",
        "X_train, X_test = data[idx_train], data[idx_test]\n",
        "y_train, y_test = labels[idx_train], labels[idx_test]"
      ],
      "execution_count": 0,
      "outputs": []
    },
    {
      "cell_type": "code",
      "metadata": {
        "id": "eGI3lC-FZgjM",
        "colab_type": "code",
        "colab": {}
      },
      "source": [
        "metric = sklearn.metrics.accuracy_score"
      ],
      "execution_count": 0,
      "outputs": []
    },
    {
      "cell_type": "code",
      "metadata": {
        "id": "Ew7tdXDZZkiD",
        "colab_type": "code",
        "outputId": "649f2860-fc86-4677-98b5-f99be06fd28a",
        "colab": {
          "base_uri": "https://localhost:8080/",
          "height": 52
        }
      },
      "source": [
        "model_1 = Perceptron(max_iter=1000, tol=1e-3)\n",
        "model_1.fit(X_train, y_train)\n",
        "print('accuracy (train): %5.2f'%(metric(y_train, model_1.predict(X_train))))\n",
        "print('accuracy (test): %5.2f'%(metric(y_test, model_1.predict(X_test))))"
      ],
      "execution_count": 0,
      "outputs": [
        {
          "output_type": "stream",
          "text": [
            "accuracy (train):  1.00\n",
            "accuracy (test):  1.00\n"
          ],
          "name": "stdout"
        }
      ]
    },
    {
      "cell_type": "code",
      "metadata": {
        "id": "IMEkxuL_Zn94",
        "colab_type": "code",
        "outputId": "01c35c68-c9fd-4cff-fce0-86c5c62e05ce",
        "colab": {
          "base_uri": "https://localhost:8080/",
          "height": 70
        }
      },
      "source": [
        "model_2 = SVC(kernel='linear', C=1)\n",
        "model_2.fit(X_train, y_train)\n",
        "print('accuracy (train): %5.2f'%(metric(y_train, model_2.predict(X_train))))\n",
        "print('accuracy (test): %5.2f'%(metric(y_test, model_2.predict(X_test))))\n",
        "print('Number of support vectors:', sum(model_2.n_support_))"
      ],
      "execution_count": 0,
      "outputs": [
        {
          "output_type": "stream",
          "text": [
            "accuracy (train):  1.00\n",
            "accuracy (test):  1.00\n",
            "Number of support vectors: 12\n"
          ],
          "name": "stdout"
        }
      ]
    },
    {
      "cell_type": "code",
      "metadata": {
        "id": "TqYmpwrBZtQ2",
        "colab_type": "code",
        "outputId": "a98970b1-5b6d-465c-d262-f72026437513",
        "colab": {
          "base_uri": "https://localhost:8080/",
          "height": 70
        }
      },
      "source": [
        "model_2 = SVC(kernel='linear', C=1)\n",
        "model_2.fit(X_train, y_train)\n",
        "print('accuracy (train): %5.2f'%(metric(y_train, model_2.predict(X_train))))\n",
        "print('accuracy (test): %5.2f'%(metric(y_test, model_2.predict(X_test))))\n",
        "print('Number of support vectors:', sum(model_2.n_support_))"
      ],
      "execution_count": 0,
      "outputs": [
        {
          "output_type": "stream",
          "text": [
            "accuracy (train):  1.00\n",
            "accuracy (test):  1.00\n",
            "Number of support vectors: 12\n"
          ],
          "name": "stdout"
        }
      ]
    },
    {
      "cell_type": "code",
      "metadata": {
        "id": "w0ZDm0sXakeJ",
        "colab_type": "code",
        "outputId": "f4b87740-c64e-42d2-fde1-06b1a7ab35d9",
        "colab": {
          "base_uri": "https://localhost:8080/",
          "height": 70
        }
      },
      "source": [
        "model_2 = SVC(kernel='linear', C=0.01)\n",
        "model_2.fit(X_train, y_train)\n",
        "print('accuracy (train): %5.2f'%(metric(y_train, model_2.predict(X_train))))\n",
        "print('accuracy (test): %5.2f'%(metric(y_test, model_2.predict(X_test))))\n",
        "print('Number of support vectors:', sum(model_2.n_support_))"
      ],
      "execution_count": 0,
      "outputs": [
        {
          "output_type": "stream",
          "text": [
            "accuracy (train):  0.56\n",
            "accuracy (test):  0.38\n",
            "Number of support vectors: 58\n"
          ],
          "name": "stdout"
        }
      ]
    },
    {
      "cell_type": "code",
      "metadata": {
        "id": "30JwKbTuaqlL",
        "colab_type": "code",
        "colab": {}
      },
      "source": [
        "metric = sklearn.metrics.accuracy_score"
      ],
      "execution_count": 0,
      "outputs": []
    },
    {
      "cell_type": "code",
      "metadata": {
        "id": "h192GWp9at6b",
        "colab_type": "code",
        "outputId": "e4474d43-0faf-4ecb-fc1e-3a048bf5fca9",
        "colab": {
          "base_uri": "https://localhost:8080/",
          "height": 361
        }
      },
      "source": [
        "np.random.seed(0)\n",
        "\n",
        "data, labels = sklearn.datasets.make_circles()\n",
        "idx = np.arange(len(labels))\n",
        "np.random.shuffle(idx)\n",
        "\n",
        "# train on a random 2/3 and test on the remaining 1/3\n",
        "\n",
        "idx_train, idx_test = idx[: 2 * len(idx) // 3], idx[2 * len(idx) // 3:]\n",
        "\n",
        "X_train, X_test = data[idx_train], data[idx_test]\n",
        "\n",
        "# binary -> spin\n",
        "y_train, y_test = 2 * labels[idx_train] - 1, 2 * labels[idx_test] - 1\n",
        "\n",
        "scaler, normalizer = sklearn.preprocessing.StandardScaler(), sklearn.preprocessing.Normalizer()\n",
        "\n",
        "X_train = scaler.fit_transform(X_train)\n",
        "X_train = normalizer.fit_transform(X_train)\n",
        "\n",
        "X_test = scaler.fit_transform(X_test)\n",
        "X_test = normalizer.fit_transform(X_test)\n",
        "\n",
        "plt.figure(figsize=(6, 6))\n",
        "plt.subplot(111, xticks=[], yticks=[])\n",
        "plt.scatter(data[labels == 0, 0], data[labels == 0, 1], color='navy')\n",
        "plt.scatter(data[labels == 1, 0], data[labels == 1, 1], color='c');"
      ],
      "execution_count": 0,
      "outputs": [
        {
          "output_type": "display_data",
          "data": {
            "image/png": "[encoded data removed]",
            "text/plain": [
              "<Figure size 432x432 with 1 Axes>"
            ]
          },
          "metadata": {
            "tags": []
          }
        }
      ]
    },
    {
      "cell_type": "code",
      "metadata": {
        "id": "mhS0v09daxD9",
        "colab_type": "code",
        "outputId": "1d3e7d44-405c-4f52-8734-809f63f291eb",
        "colab": {
          "base_uri": "https://localhost:8080/",
          "height": 52
        }
      },
      "source": [
        "model_1 = Perceptron(max_iter=1000, tol=1e-3)\n",
        "model_1.fit(X_train, y_train)\n",
        "print('accuracy (train): %5.2f'%(metric(y_train, model_1.predict(X_train))))\n",
        "print('accuracy (test): %5.2f'%(metric(y_test, model_1.predict(X_test))))"
      ],
      "execution_count": 0,
      "outputs": [
        {
          "output_type": "stream",
          "text": [
            "accuracy (train):  0.44\n",
            "accuracy (test):  0.65\n"
          ],
          "name": "stdout"
        }
      ]
    },
    {
      "cell_type": "code",
      "metadata": {
        "id": "NpOtACXga1a8",
        "colab_type": "code",
        "outputId": "59185d11-66a0-4acf-8b00-e9e1c7b7dafd",
        "colab": {
          "base_uri": "https://localhost:8080/",
          "height": 52
        }
      },
      "source": [
        "model_2 = SVC(kernel='rbf', gamma='auto')\n",
        "model_2.fit(X_train, y_train)\n",
        "print('accuracy (train): %5.2f'%(metric(y_train, model_2.predict(X_train))))\n",
        "print('accuracy (test): %5.2f'%(metric(y_test, model_2.predict(X_test))))"
      ],
      "execution_count": 0,
      "outputs": [
        {
          "output_type": "stream",
          "text": [
            "accuracy (train):  0.64\n",
            "accuracy (test):  0.24\n"
          ],
          "name": "stdout"
        }
      ]
    },
    {
      "cell_type": "code",
      "metadata": {
        "id": "pCjSMRJIa5fI",
        "colab_type": "code",
        "outputId": "4aeee741-e2f8-4892-ddb1-23a977699487",
        "colab": {
          "base_uri": "https://localhost:8080/",
          "height": 52
        }
      },
      "source": [
        "model_3 = AdaBoostClassifier(n_estimators=3)\n",
        "model_3.fit(X_train, y_train)\n",
        "print('accuracy (train): %5.2f'%(metric(y_train, model_3.predict(X_train))))\n",
        "print('accuracy (test): %5.2f'%(metric(y_test, model_3.predict(X_test))))"
      ],
      "execution_count": 0,
      "outputs": [
        {
          "output_type": "stream",
          "text": [
            "accuracy (train):  0.65\n",
            "accuracy (test):  0.29\n"
          ],
          "name": "stdout"
        }
      ]
    },
    {
      "cell_type": "code",
      "metadata": {
        "id": "ueJbd7uVa9vc",
        "colab_type": "code",
        "colab": {}
      },
      "source": [
        "models = [model_1, model_2, model_3]\n",
        "\n",
        "n_models = len(models)"
      ],
      "execution_count": 0,
      "outputs": []
    },
    {
      "cell_type": "code",
      "metadata": {
        "id": "rfX3mmeLbC9U",
        "colab_type": "code",
        "colab": {}
      },
      "source": [
        "predictions = np.array([h.predict(X_train) for h in models], dtype=np.float64)\n",
        "\n",
        "predictions *= 1/n_models"
      ],
      "execution_count": 0,
      "outputs": []
    },
    {
      "cell_type": "code",
      "metadata": {
        "id": "6YOcttgBbFw-",
        "colab_type": "code",
        "outputId": "3fc68700-0e9b-4df5-8317-0cb6037c129f",
        "colab": {
          "base_uri": "https://localhost:8080/",
          "height": 70
        }
      },
      "source": [
        "modAcc = lambda pred: sum([np.sign(x) == np.sign(y) for x, y in zip(pred, y_train)]) / len(y_train)\n",
        "mod1Acc = modAcc(predictions[0])\n",
        "mod2Acc = modAcc(predictions[1])\n",
        "mod3Acc = modAcc(predictions[2])\n",
        "print('model_1 = %.2f\\nmodel_2 = %.2f\\nmodel_3 = %.2f' % (mod1Acc, mod2Acc, mod3Acc))"
      ],
      "execution_count": 0,
      "outputs": [
        {
          "output_type": "stream",
          "text": [
            "model_1 = 0.44\n",
            "model_2 = 0.64\n",
            "model_3 = 0.65\n"
          ],
          "name": "stdout"
        }
      ]
    },
    {
      "cell_type": "code",
      "metadata": {
        "id": "MUsGkvGxbJ9D",
        "colab_type": "code",
        "colab": {}
      },
      "source": [
        "λ = 1"
      ],
      "execution_count": 0,
      "outputs": []
    },
    {
      "cell_type": "code",
      "metadata": {
        "id": "5BzF3hIzbNuL",
        "colab_type": "code",
        "colab": {}
      },
      "source": [
        "w = np.dot(predictions, predictions.T)"
      ],
      "execution_count": 0,
      "outputs": []
    },
    {
      "cell_type": "code",
      "metadata": {
        "id": "KWGctKM_bR49",
        "colab_type": "code",
        "colab": {}
      },
      "source": [
        "wii = len(X_train) / (n_models ** 2) + λ - 2 * np.dot(predictions, y_train)"
      ],
      "execution_count": 0,
      "outputs": []
    },
    {
      "cell_type": "code",
      "metadata": {
        "id": "iJpHWQribWSh",
        "colab_type": "code",
        "colab": {}
      },
      "source": [
        "w[np.diag_indices_from(w)] = wii"
      ],
      "execution_count": 0,
      "outputs": []
    },
    {
      "cell_type": "code",
      "metadata": {
        "id": "is7HLrvtbaEt",
        "colab_type": "code",
        "outputId": "86402ff3-dc6f-43a4-de06-e399d96f6169",
        "colab": {
          "base_uri": "https://localhost:8080/",
          "height": 124
        }
      },
      "source": [
        "W = {(i, j): w[i, j] for i in range(n_models) for j in range(i, n_models)}\n",
        "W"
      ],
      "execution_count": 0,
      "outputs": [
        {
          "output_type": "execute_result",
          "data": {
            "text/plain": [
              "{(0, 0): 13.666666666666664,\n",
              " (0, 1): -5.777777777777772,\n",
              " (0, 2): -3.7777777777777786,\n",
              " (1, 1): -3.666666666666666,\n",
              " (1, 2): 4.444444444444444,\n",
              " (2, 2): -5.0}"
            ]
          },
          "metadata": {
            "tags": []
          },
          "execution_count": 56
        }
      ]
    },
    {
      "cell_type": "code",
      "metadata": {
        "id": "Bg8JOJZ1bdnD",
        "colab_type": "code",
        "colab": {}
      },
      "source": [
        "sampler = dimod.SimulatedAnnealingSampler()\n",
        "response = sampler.sample_qubo(W, num_reads=10)\n",
        "weights = list(response.first.sample.values())"
      ],
      "execution_count": 0,
      "outputs": []
    },
    {
      "cell_type": "code",
      "metadata": {
        "id": "rK8N5dJMbh4W",
        "colab_type": "code",
        "outputId": "32a83211-efd3-401a-c23d-8f208b211a22",
        "colab": {
          "base_uri": "https://localhost:8080/",
          "height": 35
        }
      },
      "source": [
        "weights"
      ],
      "execution_count": 0,
      "outputs": [
        {
          "output_type": "execute_result",
          "data": {
            "text/plain": [
              "[0, 0, 1]"
            ]
          },
          "metadata": {
            "tags": []
          },
          "execution_count": 58
        }
      ]
    },
    {
      "cell_type": "code",
      "metadata": {
        "id": "k5h0NV5YbmCU",
        "colab_type": "code",
        "outputId": "1609449d-58c1-4ed6-93b0-d99f7d431042",
        "colab": {
          "base_uri": "https://localhost:8080/",
          "height": 70
        }
      },
      "source": [
        "h, J, offset = dimod.qubo_to_ising(W)\n",
        "\n",
        "print('h = %s' % h)\n",
        "print('J = %s' % J)\n",
        "print('constant offset applied to energy = %.2f' % offset)"
      ],
      "execution_count": 0,
      "outputs": [
        {
          "output_type": "stream",
          "text": [
            "h = {0: 4.444444444444445, 1: -2.166666666666665, 2: -2.333333333333334}\n",
            "J = {(0, 1): -1.444444444444443, (0, 2): -0.9444444444444446, (1, 2): 1.111111111111111}\n",
            "constant offset applied to energy = 1.22\n"
          ],
          "name": "stdout"
        }
      ]
    },
    {
      "cell_type": "code",
      "metadata": {
        "id": "CU0ld_QJbrOF",
        "colab_type": "code",
        "outputId": "4429c605-75fc-4d1b-8035-3cb15335e746",
        "colab": {
          "base_uri": "https://localhost:8080/",
          "height": 144
        }
      },
      "source": [
        "num_nodes = w.shape[0]\n",
        "\n",
        "Xvector = np.zeros(num_nodes)\n",
        "\n",
        "def logicVec(vecSize, *indices):\n",
        "    initVec = np.zeros(vecSize)\n",
        "    for index in indices:\n",
        "        assert index < vecSize\n",
        "        initVec[index] = 1\n",
        "    return initVec\n",
        "\n",
        "diagonal = [[h[i], Pauli(logicVec(num_nodes, i), Xvector)] for i in h]\n",
        "offDiagonal = [[J[i, j], Pauli(logicVec(num_nodes, i, j), Xvector)] for i, j in J]\n",
        "\n",
        "# note that the ORDER in the list is important\n",
        "\n",
        "# ising_model = Operator(paulis = diagonal + offDiagonal)\n",
        "ising_model = Operator([diagonal[0], offDiagonal[0], offDiagonal[1], diagonal[1], offDiagonal[2], diagonal[2]])"
      ],
      "execution_count": 0,
      "outputs": [
        {
          "output_type": "stream",
          "text": [
            "/usr/local/lib/python3.6/dist-packages/qiskit/aqua/operator.py:62: DeprecationWarning: The `Operator` class is deprecated and will be removed after 0.6. Use the class for each representation instead, including `MatrixOperator`, `WeightedPauliOperator` and `TPBGroupedWeightedPauliOperator`\n",
            "  DeprecationWarning)\n",
            "/usr/local/lib/python3.6/dist-packages/qiskit/aqua/operator.py:369: DeprecationWarning: The `Operator` class is deprecated and will be removed after 0.6. Use the class for each representation instead, including `MatrixOperator`, `WeightedPauliOperator` and `TPBGroupedWeightedPauliOperator`\n",
            "  DeprecationWarning)\n",
            "/usr/local/lib/python3.6/dist-packages/qiskit/aqua/operator.py:267: DeprecationWarning: The `Operator` class is deprecated and will be removed after 0.6. Use the class for each representation instead, including `MatrixOperator`, `WeightedPauliOperator` and `TPBGroupedWeightedPauliOperator`\n",
            "  DeprecationWarning)\n"
          ],
          "name": "stderr"
        }
      ]
    },
    {
      "cell_type": "code",
      "metadata": {
        "id": "uutZMXvRbxdR",
        "colab_type": "code",
        "outputId": "d8b3d6b6-63e4-4249-8298-7b81f6a223ee",
        "colab": {
          "base_uri": "https://localhost:8080/",
          "height": 357
        }
      },
      "source": [
        "qaoa = QAOA(ising_model, optimizer = COBYLA(), p=1, operator_mode='matrix')\n",
        "quantum_instance = QuantumInstance(get_aer_backend('statevector_simulator'), shots=100)\n",
        "result = qaoa.run(quantum_instance)"
      ],
      "execution_count": 0,
      "outputs": [
        {
          "output_type": "stream",
          "text": [
            "/usr/local/lib/python3.6/dist-packages/qiskit/aqua/operator.py:200: DeprecationWarning: The `Operator` class is deprecated and will be removed after 0.6. Use the class for each representation instead, including `MatrixOperator`, `WeightedPauliOperator` and `TPBGroupedWeightedPauliOperator`\n",
            "  DeprecationWarning)\n",
            "/usr/local/lib/python3.6/dist-packages/qiskit/aqua/operators/op_converter.py:92: DeprecationWarning: The `Operator` class is deprecated. Please use `WeightedPauliOperator` or `TPBGroupedWeightedPauliOperator` or `MatrixOperator` instead\n",
            "  DeprecationWarning)\n",
            "/usr/local/lib/python3.6/dist-packages/qiskit/aqua/operator.py:200: DeprecationWarning: The `Operator` class is deprecated and will be removed after 0.6. Use the class for each representation instead, including `MatrixOperator`, `WeightedPauliOperator` and `TPBGroupedWeightedPauliOperator`\n",
            "  DeprecationWarning)\n",
            "/usr/local/lib/python3.6/dist-packages/qiskit/aqua/operator.py:951: DeprecationWarning: The `Operator` class is deprecated and will be removed after 0.6. Use the class for each representation instead, including `MatrixOperator`, `WeightedPauliOperator` and `TPBGroupedWeightedPauliOperator`\n",
            "  DeprecationWarning)\n",
            "/usr/local/lib/python3.6/dist-packages/qiskit/aqua/algorithms/adaptive/vqe/vqe.py:105: DeprecationWarning: operator_mode option is deprecated and it will be removed after 0.6. Now the operator has its own mode, no need extra info to tell the VQE.\n",
            "  \"Now the operator has its own mode, no need extra info to tell the VQE.\", DeprecationWarning)\n",
            "/usr/local/lib/python3.6/dist-packages/qiskit/aqua/algorithms/adaptive/vqe/vqe.py:117: DeprecationWarning: operator should be type of BaseOperator, Operator type is deprecated and it will be removed after 0.6.\n",
            "  \"it will be removed after 0.6.\", DeprecationWarning)\n",
            "/usr/local/lib/python3.6/dist-packages/qiskit/aqua/operators/op_converter.py:92: DeprecationWarning: The `Operator` class is deprecated. Please use `WeightedPauliOperator` or `TPBGroupedWeightedPauliOperator` or `MatrixOperator` instead\n",
            "  DeprecationWarning)\n",
            "/usr/local/lib/python3.6/dist-packages/qiskit/aqua/operator.py:200: DeprecationWarning: The `Operator` class is deprecated and will be removed after 0.6. Use the class for each representation instead, including `MatrixOperator`, `WeightedPauliOperator` and `TPBGroupedWeightedPauliOperator`\n",
            "  DeprecationWarning)\n",
            "/usr/local/lib/python3.6/dist-packages/qiskit/aqua/operator.py:951: DeprecationWarning: The `Operator` class is deprecated and will be removed after 0.6. Use the class for each representation instead, including `MatrixOperator`, `WeightedPauliOperator` and `TPBGroupedWeightedPauliOperator`\n",
            "  DeprecationWarning)\n"
          ],
          "name": "stderr"
        }
      ]
    },
    {
      "cell_type": "code",
      "metadata": {
        "id": "yWcWP8CXb15t",
        "colab_type": "code",
        "colab": {}
      },
      "source": [
        "k = np.argmax(result['eigvecs'][0])\n",
        "weights = np.zeros(num_nodes)\n",
        "for i in range(num_nodes):\n",
        "    weights[i] = k % 2\n",
        "    k >>= 1"
      ],
      "execution_count": 0,
      "outputs": []
    },
    {
      "cell_type": "code",
      "metadata": {
        "id": "tjGrLsz8b5-u",
        "colab_type": "code",
        "outputId": "bb56f1d9-c1a6-4f7f-ded1-a2a8d23f32ed",
        "colab": {
          "base_uri": "https://localhost:8080/",
          "height": 35
        }
      },
      "source": [
        "weights"
      ],
      "execution_count": 0,
      "outputs": [
        {
          "output_type": "execute_result",
          "data": {
            "text/plain": [
              "array([0., 0., 0.])"
            ]
          },
          "metadata": {
            "tags": []
          },
          "execution_count": 67
        }
      ]
    },
    {
      "cell_type": "code",
      "metadata": {
        "id": "fDwRC4mVb9is",
        "colab_type": "code",
        "outputId": "9874b1cd-059d-4394-efaf-8d1190dbed48",
        "colab": {
          "base_uri": "https://localhost:8080/",
          "height": 52
        }
      },
      "source": [
        "def modelPrediction(modelID, dataSet):\n",
        "    modelPrediction = weights[modelID] * models[modelID].predict(dataSet)\n",
        "    avgPrediction = np.sum(modelPrediction) / len(dataSet)\n",
        "    return {'modelPrediction': modelPrediction, 'avgPrediction': avgPrediction}\n",
        "\n",
        "def ensembleRes(dataSet):\n",
        "    ensemblePreds = [modelPrediction(modelID, dataSet) for modelID in range(n_models)]\n",
        "    avgPred = sum([pred['avgPrediction'] for pred in ensemblePreds]) / n_models\n",
        "    accumulatePred = sum([pred['modelPrediction'] for pred in ensemblePreds])\n",
        "    return np.sign(accumulatePred - avgPred)\n",
        "\n",
        "print(metric(ensembleRes(X_train), y_train))\n",
        "print(metric(ensembleRes(X_test), y_test))"
      ],
      "execution_count": 0,
      "outputs": [
        {
          "output_type": "stream",
          "text": [
            "0.0\n",
            "0.0\n"
          ],
          "name": "stdout"
        }
      ]
    },
    {
      "cell_type": "code",
      "metadata": {
        "id": "JRidO1UAcB5T",
        "colab_type": "code",
        "colab": {}
      },
      "source": [
        "import numpy as np\n",
        "import matplotlib.pyplot as plt\n",
        "from mpl_toolkits.mplot3d import Axes3D\n",
        "from sklearn.metrics import pairwise_distances"
      ],
      "execution_count": 0,
      "outputs": []
    },
    {
      "cell_type": "code",
      "metadata": {
        "id": "kpAWUScCdSKo",
        "colab_type": "code",
        "colab": {
          "base_uri": "https://localhost:8080/",
          "height": 88
        },
        "outputId": "199eae24-b6c1-4143-df2a-7b315578fde5"
      },
      "source": [
        "n_instances = 4\n",
        "\n",
        "n_perClass = n_instances // 2\n",
        "\n",
        "# define 2 classes with a constant shift\n",
        "\n",
        "class_1 = np.random.rand(n_perClass, 3) / n_perClass\n",
        "class_2 = (0.6, 0.1, 0.05) + np.random.rand(n_perClass, 3) / n_perClass\n",
        "\n",
        "data = np.concatenate((class_1, class_2))\n",
        "\n",
        "data"
      ],
      "execution_count": 70,
      "outputs": [
        {
          "output_type": "execute_result",
          "data": {
            "text/plain": [
              "array([[0.1106313, 0.070632 , 0.04863  ],\n",
              "       [0.4920211, 0.1301705, 0.2685113],\n",
              "       [0.8239631, 0.1497845, 0.2261558],\n",
              "       [0.8346246, 0.5205701, 0.5023239]])"
            ]
          },
          "metadata": {
            "tags": []
          },
          "execution_count": 70
        }
      ]
    },
    {
      "cell_type": "code",
      "metadata": {
        "id": "07fJMng7dVkj",
        "colab_type": "code",
        "colab": {
          "base_uri": "https://localhost:8080/",
          "height": 266
        },
        "outputId": "adfdcf6c-514f-49fd-af12-296c99327d08"
      },
      "source": [
        "colors = [\"red\"] * n_perClass + [\"green\"] * n_perClass\n",
        "fig = plt.figure()\n",
        "ax = fig.add_subplot(111, projection='3d', xticks=[], yticks=[], zticks=[])\n",
        "ax.scatter(data[:, 0], data[:, 1], data[:, 2], c=colors)"
      ],
      "execution_count": 71,
      "outputs": [
        {
          "output_type": "execute_result",
          "data": {
            "text/plain": [
              "<mpl_toolkits.mplot3d.art3d.Path3DCollection at 0x7f5cd6494128>"
            ]
          },
          "metadata": {
            "tags": []
          },
          "execution_count": 71
        },
        {
          "output_type": "display_data",
          "data": {
            "image/png": "[encoded data removed]",
            "text/plain": [
              "<Figure size 432x288 with 1 Axes>"
            ]
          },
          "metadata": {
            "tags": []
          }
        }
      ]
    },
    {
      "cell_type": "code",
      "metadata": {
        "id": "bjtE8E1wdYjE",
        "colab_type": "code",
        "colab": {
          "base_uri": "https://localhost:8080/",
          "height": 88
        },
        "outputId": "206ed5f8-bd0b-4c44-f6ef-9e4dcd7d57e2"
      },
      "source": [
        "w = pairwise_distances(data)\n",
        "w"
      ],
      "execution_count": 72,
      "outputs": [
        {
          "output_type": "execute_result",
          "data": {
            "text/plain": [
              "array([[0.       , 0.4442418, 0.7393394, 0.9656338],\n",
              "       [0.4442418, 0.       , 0.3352076, 0.5696116],\n",
              "       [0.7393394, 0.3352076, 0.       , 0.4624547],\n",
              "       [0.9656338, 0.5696116, 0.4624547, 0.       ]])"
            ]
          },
          "metadata": {
            "tags": []
          },
          "execution_count": 72
        }
      ]
    },
    {
      "cell_type": "code",
      "metadata": {
        "id": "z-s0VLNodbep",
        "colab_type": "code",
        "colab": {
          "base_uri": "https://localhost:8080/",
          "height": 346
        },
        "outputId": "15bcf536-1a7a-46e5-86bf-6dfb756c3e8b"
      },
      "source": [
        "from qiskit.aqua import get_aer_backend, QuantumInstance\n",
        "from qiskit.aqua.algorithms import QAOA\n",
        "from qiskit.aqua.components.optimizers import COBYLA\n",
        "from qiskit.aqua.translators.ising import maxcut"
      ],
      "execution_count": 76,
      "outputs": [
        {
          "output_type": "error",
          "ename": "ImportError",
          "evalue": "ignored",
          "traceback": [
            "\u001b[0;31m---------------------------------------------------------------------------\u001b[0m",
            "\u001b[0;31mImportError\u001b[0m                               Traceback (most recent call last)",
            "\u001b[0;32m<ipython-input-76-3c7208cda6b1>\u001b[0m in \u001b[0;36m<module>\u001b[0;34m()\u001b[0m\n\u001b[1;32m      2\u001b[0m \u001b[0;32mfrom\u001b[0m \u001b[0mqiskit\u001b[0m\u001b[0;34m.\u001b[0m\u001b[0maqua\u001b[0m\u001b[0;34m.\u001b[0m\u001b[0malgorithms\u001b[0m \u001b[0;32mimport\u001b[0m \u001b[0mQAOA\u001b[0m\u001b[0;34m\u001b[0m\u001b[0;34m\u001b[0m\u001b[0m\n\u001b[1;32m      3\u001b[0m \u001b[0;32mfrom\u001b[0m \u001b[0mqiskit\u001b[0m\u001b[0;34m.\u001b[0m\u001b[0maqua\u001b[0m\u001b[0;34m.\u001b[0m\u001b[0mcomponents\u001b[0m\u001b[0;34m.\u001b[0m\u001b[0moptimizers\u001b[0m \u001b[0;32mimport\u001b[0m \u001b[0mCOBYLA\u001b[0m\u001b[0;34m\u001b[0m\u001b[0;34m\u001b[0m\u001b[0m\n\u001b[0;32m----> 4\u001b[0;31m \u001b[0;32mfrom\u001b[0m \u001b[0mqiskit\u001b[0m\u001b[0;34m.\u001b[0m\u001b[0maqua\u001b[0m\u001b[0;34m.\u001b[0m\u001b[0mtranslators\u001b[0m\u001b[0;34m.\u001b[0m\u001b[0mising\u001b[0m \u001b[0;32mimport\u001b[0m \u001b[0mmaxcut\u001b[0m\u001b[0;34m\u001b[0m\u001b[0;34m\u001b[0m\u001b[0m\n\u001b[0m",
            "\u001b[0;31mImportError\u001b[0m: cannot import name 'maxcut'",
            "",
            "\u001b[0;31m---------------------------------------------------------------------------\u001b[0;32m\nNOTE: If your import is failing due to a missing package, you can\nmanually install dependencies using either !pip or !apt.\n\nTo view examples of installing some common dependencies, click the\n\"Open Examples\" button below.\n\u001b[0;31m---------------------------------------------------------------------------\u001b[0m\n"
          ]
        }
      ]
    },
    {
      "cell_type": "code",
      "metadata": {
        "id": "SNDmxBd0dirV",
        "colab_type": "code",
        "colab": {
          "base_uri": "https://localhost:8080/",
          "height": 52
        },
        "outputId": "9999465b-f4c5-4056-a940-6d47388b3b8f"
      },
      "source": [
        "!pip install maxcut"
      ],
      "execution_count": 74,
      "outputs": [
        {
          "output_type": "stream",
          "text": [
            "\u001b[31mERROR: Could not find a version that satisfies the requirement maxcut (from versions: none)\u001b[0m\n",
            "\u001b[31mERROR: No matching distribution found for maxcut\u001b[0m\n"
          ],
          "name": "stdout"
        }
      ]
    },
    {
      "cell_type": "code",
      "metadata": {
        "id": "qBvVWPsOdlZc",
        "colab_type": "code",
        "colab": {}
      },
      "source": [
        ""
      ],
      "execution_count": 0,
      "outputs": []
    }
  ]
}