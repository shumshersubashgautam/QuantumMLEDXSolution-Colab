{
  "nbformat": 4,
  "nbformat_minor": 0,
  "metadata": {
    "colab": {
      "name": "kernelmethods(lotsprocessiapplied)part2.ipynb",
      "provenance": [],
      "include_colab_link": true
    },
    "kernelspec": {
      "name": "python3",
      "display_name": "Python 3"
    },
    "accelerator": "GPU"
  },
  "cells": [
    {
      "cell_type": "markdown",
      "metadata": {
        "id": "view-in-github",
        "colab_type": "text"
      },
      "source": [
        "<a href=\"https://colab.research.google.com/github/shumshersubashgautam/QuantumMLEDXSolution-Colab/blob/master/kernelmethods(lotsprocessiapplied)part2.ipynb\" target=\"_parent\"><img src=\"https://colab.research.google.com/assets/colab-badge.svg\" alt=\"Open In Colab\"/></a>"
      ]
    },
    {
      "cell_type": "code",
      "metadata": {
        "id": "wGPT0fXvBWo0",
        "colab_type": "code",
        "colab": {
          "base_uri": "https://localhost:8080/",
          "height": 106
        },
        "outputId": "e4627ae4-0e29-4b40-f0dc-7e5546341632"
      },
      "source": [
        "!git clone https://github.com/Ranlot/edX---Quantum-Machine-Learning.git"
      ],
      "execution_count": 1,
      "outputs": [
        {
          "output_type": "stream",
          "text": [
            "Cloning into 'edX---Quantum-Machine-Learning'...\n",
            "remote: Enumerating objects: 112, done.\u001b[K\n",
            "remote: Total 112 (delta 0), reused 0 (delta 0), pack-reused 112\u001b[K\n",
            "Receiving objects: 100% (112/112), 75.45 MiB | 12.87 MiB/s, done.\n",
            "Resolving deltas: 100% (31/31), done.\n"
          ],
          "name": "stdout"
        }
      ]
    },
    {
      "cell_type": "code",
      "metadata": {
        "id": "BTW6B6CrB2bQ",
        "colab_type": "code",
        "colab": {
          "base_uri": "https://localhost:8080/",
          "height": 1000
        },
        "outputId": "1968ee84-620c-4daa-d134-63bab3e850aa"
      },
      "source": [
        "!pip install -r requirements.txt"
      ],
      "execution_count": 3,
      "outputs": [
        {
          "output_type": "stream",
          "text": [
            "Collecting appnope==0.1.0\n",
            "  Downloading https://files.pythonhosted.org/packages/87/a9/7985e6a53402f294c8f0e8eff3151a83f1fb901fa92909bb3ff29b4d22af/appnope-0.1.0-py2.py3-none-any.whl\n",
            "Collecting asn1crypto==0.24.0\n",
            "\u001b[?25l  Downloading https://files.pythonhosted.org/packages/ea/cd/35485615f45f30a510576f1a56d1e0a7ad7bd8ab5ed7cdc600ef7cd06222/asn1crypto-0.24.0-py2.py3-none-any.whl (101kB)\n",
            "\u001b[K     |████████████████████████████████| 102kB 2.3MB/s \n",
            "\u001b[?25hRequirement already satisfied: backcall==0.1.0 in /usr/local/lib/python3.6/dist-packages (from -r requirements.txt (line 3)) (0.1.0)\n",
            "Requirement already satisfied: bleach==3.1.0 in /usr/local/lib/python3.6/dist-packages (from -r requirements.txt (line 4)) (3.1.0)\n",
            "Collecting certifi==2018.11.29\n",
            "\u001b[?25l  Downloading https://files.pythonhosted.org/packages/9f/e0/accfc1b56b57e9750eba272e24c4dddeac86852c2bebd1236674d7887e8a/certifi-2018.11.29-py2.py3-none-any.whl (154kB)\n",
            "\u001b[K     |████████████████████████████████| 163kB 9.0MB/s \n",
            "\u001b[?25hCollecting cffi==1.11.5\n",
            "\u001b[?25l  Downloading https://files.pythonhosted.org/packages/6d/c0/47db8f624f3e4e2f3f27be03a93379d1ba16a1450a7b1aacfa0366e2c0dd/cffi-1.11.5-cp36-cp36m-manylinux1_x86_64.whl (421kB)\n",
            "\u001b[K     |████████████████████████████████| 430kB 52.6MB/s \n",
            "\u001b[?25hRequirement already satisfied: chardet==3.0.4 in /usr/local/lib/python3.6/dist-packages (from -r requirements.txt (line 7)) (3.0.4)\n",
            "Collecting cmake==3.13.3\n",
            "\u001b[?25l  Downloading https://files.pythonhosted.org/packages/45/c4/e69313ade2a3e992e7178744b0e56bdd8f23e79e15066a68cf490504beed/cmake-3.13.3-cp36-cp36m-manylinux1_x86_64.whl (15.9MB)\n",
            "\u001b[K     |████████████████████████████████| 15.9MB 21.6MB/s \n",
            "\u001b[?25hCollecting cryptography==2.5\n",
            "\u001b[?25l  Downloading https://files.pythonhosted.org/packages/98/71/e632e222f34632e0527dd41799f7847305e701f38f512d81bdf96009bca4/cryptography-2.5-cp34-abi3-manylinux1_x86_64.whl (2.4MB)\n",
            "\u001b[K     |████████████████████████████████| 2.4MB 28.9MB/s \n",
            "\u001b[?25hRequirement already satisfied: cvxopt==1.2.3 in /usr/local/lib/python3.6/dist-packages (from -r requirements.txt (line 10)) (1.2.3)\n",
            "Requirement already satisfied: cycler==0.10.0 in /usr/local/lib/python3.6/dist-packages (from -r requirements.txt (line 11)) (0.10.0)\n",
            "Collecting decorator==4.3.2\n",
            "  Downloading https://files.pythonhosted.org/packages/f1/cd/7c8240007e9716b14679bc217a1baefa4432aa30394f7e2ec40a52b1a708/decorator-4.3.2-py2.py3-none-any.whl\n",
            "Collecting defusedxml==0.5.0\n",
            "  Downloading https://files.pythonhosted.org/packages/87/1c/17f3e3935a913dfe2a5ca85fa5ccbef366bfd82eb318b1f75dadbf0affca/defusedxml-0.5.0-py2.py3-none-any.whl\n",
            "Collecting dimod==0.8.5\n",
            "\u001b[?25l  Downloading https://files.pythonhosted.org/packages/d1/a4/993e5084f608c42fa559b0d8facd36696747a25e532d17354904741742c2/dimod-0.8.5-cp36-cp36m-manylinux1_x86_64.whl (802kB)\n",
            "\u001b[K     |████████████████████████████████| 808kB 35.5MB/s \n",
            "\u001b[?25hCollecting dwave-networkx==0.7.1\n",
            "\u001b[?25l  Downloading https://files.pythonhosted.org/packages/ce/2b/34463199016d3d2af38a56c56494ea0642e339a6e48d13370029a1ed92ff/dwave_networkx-0.7.1-py2.py3-none-any.whl (76kB)\n",
            "\u001b[K     |████████████████████████████████| 81kB 349kB/s \n",
            "\u001b[?25hRequirement already satisfied: entrypoints==0.3 in /usr/local/lib/python3.6/dist-packages (from -r requirements.txt (line 16)) (0.3)\n",
            "Collecting h5py==2.9.0\n",
            "\u001b[?25l  Downloading https://files.pythonhosted.org/packages/30/99/d7d4fbf2d02bb30fb76179911a250074b55b852d34e98dd452a9f394ac06/h5py-2.9.0-cp36-cp36m-manylinux1_x86_64.whl (2.8MB)\n",
            "\u001b[K     |████████████████████████████████| 2.8MB 33.9MB/s \n",
            "\u001b[?25hRequirement already satisfied: idna==2.8 in /usr/local/lib/python3.6/dist-packages (from -r requirements.txt (line 18)) (2.8)\n",
            "Collecting ipykernel==5.1.0\n",
            "\u001b[?25l  Downloading https://files.pythonhosted.org/packages/d8/b0/f0be5c5ab335196f5cce96e5b889a4fcf5bfe462eb0acc05cd7e2caf65eb/ipykernel-5.1.0-py3-none-any.whl (113kB)\n",
            "\u001b[K     |████████████████████████████████| 122kB 30.1MB/s \n",
            "\u001b[?25hCollecting ipython==7.2.0\n",
            "\u001b[?25l  Downloading https://files.pythonhosted.org/packages/f0/b4/a9ea018c73a84ee6280b2e94a1a6af8d63e45903eac2da0640fa63bca4db/ipython-7.2.0-py3-none-any.whl (765kB)\n",
            "\u001b[K     |████████████████████████████████| 768kB 36.2MB/s \n",
            "\u001b[?25hRequirement already satisfied: ipython-genutils==0.2.0 in /usr/local/lib/python3.6/dist-packages (from -r requirements.txt (line 21)) (0.2.0)\n",
            "Collecting ipywidgets==7.4.2\n",
            "\u001b[?25l  Downloading https://files.pythonhosted.org/packages/30/9a/a008c7b1183fac9e52066d80a379b3c64eab535bd9d86cdc29a0b766fd82/ipywidgets-7.4.2-py2.py3-none-any.whl (111kB)\n",
            "\u001b[K     |████████████████████████████████| 112kB 52.3MB/s \n",
            "\u001b[?25hCollecting jedi==0.13.2\n",
            "\u001b[?25l  Downloading https://files.pythonhosted.org/packages/c2/bc/54d53f5bc4658380d0eca9055d72be4df45e5bfd91a4bac97da224a92553/jedi-0.13.2-py2.py3-none-any.whl (177kB)\n",
            "\u001b[K     |████████████████████████████████| 184kB 50.9MB/s \n",
            "\u001b[?25hCollecting Jinja2==2.10.1\n",
            "\u001b[?25l  Downloading https://files.pythonhosted.org/packages/1d/e7/fd8b501e7a6dfe492a433deb7b9d833d39ca74916fa8bc63dd1a4947a671/Jinja2-2.10.1-py2.py3-none-any.whl (124kB)\n",
            "\u001b[K     |████████████████████████████████| 133kB 46.5MB/s \n",
            "\u001b[?25hRequirement already satisfied: jsonschema==2.6.0 in /usr/local/lib/python3.6/dist-packages (from -r requirements.txt (line 25)) (2.6.0)\n",
            "Requirement already satisfied: jupyter==1.0.0 in /usr/local/lib/python3.6/dist-packages (from -r requirements.txt (line 26)) (1.0.0)\n",
            "Collecting jupyter-client==5.2.4\n",
            "\u001b[?25l  Downloading https://files.pythonhosted.org/packages/3b/c3/3043fe9ffd140d03c9d091a056794ccdc427c56ec19b8eea74f9ea0a498f/jupyter_client-5.2.4-py2.py3-none-any.whl (89kB)\n",
            "\u001b[K     |████████████████████████████████| 92kB 11.9MB/s \n",
            "\u001b[?25hCollecting jupyter-console==6.0.0\n",
            "  Downloading https://files.pythonhosted.org/packages/cb/ee/6374ae8c21b7d0847f9c3722dcdfac986b8e54fa9ad9ea66e1eb6320d2b8/jupyter_console-6.0.0-py2.py3-none-any.whl\n",
            "Collecting jupyter-core==4.4.0\n",
            "\u001b[?25l  Downloading https://files.pythonhosted.org/packages/1d/44/065d2d7bae7bebc06f1dd70d23c36da8c50c0f08b4236716743d706762a8/jupyter_core-4.4.0-py2.py3-none-any.whl (126kB)\n",
            "\u001b[K     |████████████████████████████████| 133kB 52.2MB/s \n",
            "\u001b[?25hCollecting kiwisolver==1.0.1\n",
            "\u001b[?25l  Downloading https://files.pythonhosted.org/packages/69/a7/88719d132b18300b4369fbffa741841cfd36d1e637e1990f27929945b538/kiwisolver-1.0.1-cp36-cp36m-manylinux1_x86_64.whl (949kB)\n",
            "\u001b[K     |████████████████████████████████| 952kB 48.5MB/s \n",
            "\u001b[?25hCollecting MarkupSafe==1.1.0\n",
            "  Downloading https://files.pythonhosted.org/packages/08/04/f2191b50fb7f0712f03f064b71d8b4605190f2178ba02e975a87f7b89a0d/MarkupSafe-1.1.0-cp36-cp36m-manylinux1_x86_64.whl\n",
            "Collecting marshmallow==2.18.0\n",
            "\u001b[?25l  Downloading https://files.pythonhosted.org/packages/9a/3c/4cc463c53136dc503f9ee234c4a6592e1c7411cb362f844e80df70361f29/marshmallow-2.18.0-py2.py3-none-any.whl (50kB)\n",
            "\u001b[K     |████████████████████████████████| 51kB 7.2MB/s \n",
            "\u001b[?25hCollecting marshmallow-polyfield==3.2\n",
            "  Downloading https://files.pythonhosted.org/packages/fa/ba/6406b8cce3e42b2838d234310c3605627083bbb8f71dcc312c616480fe92/marshmallow_polyfield-3.2-py2.py3-none-any.whl\n",
            "Collecting matplotlib==3.0.2\n",
            "\u001b[?25l  Downloading https://files.pythonhosted.org/packages/71/07/16d781df15be30df4acfd536c479268f1208b2dfbc91e9ca5d92c9caf673/matplotlib-3.0.2-cp36-cp36m-manylinux1_x86_64.whl (12.9MB)\n",
            "\u001b[K     |████████████████████████████████| 12.9MB 28.9MB/s \n",
            "\u001b[?25hCollecting minorminer==0.1.8\n",
            "\u001b[?25l  Downloading https://files.pythonhosted.org/packages/9e/87/98fdb28c7cb16fc791ce4961d220383f8e20ceacacf5c11a6152a200abd3/minorminer-0.1.8-cp36-cp36m-manylinux1_x86_64.whl (2.3MB)\n",
            "\u001b[K     |████████████████████████████████| 2.3MB 27.6MB/s \n",
            "\u001b[?25hRequirement already satisfied: mistune==0.8.4 in /usr/local/lib/python3.6/dist-packages (from -r requirements.txt (line 36)) (0.8.4)\n",
            "Requirement already satisfied: mpmath==1.1.0 in /usr/local/lib/python3.6/dist-packages (from -r requirements.txt (line 37)) (1.1.0)\n",
            "Collecting nbconvert==5.4.1\n",
            "\u001b[?25l  Downloading https://files.pythonhosted.org/packages/b8/39/1e67fea74dc9577cc49f9863fe3ec824e525d1304ab6027d95a94cd586f5/nbconvert-5.4.1-py2.py3-none-any.whl (407kB)\n",
            "\u001b[K     |████████████████████████████████| 409kB 49.7MB/s \n",
            "\u001b[?25hRequirement already satisfied: nbformat==4.4.0 in /usr/local/lib/python3.6/dist-packages (from -r requirements.txt (line 39)) (4.4.0)\n",
            "Collecting networkx==2.2\n",
            "\u001b[?25l  Downloading https://files.pythonhosted.org/packages/f3/f4/7e20ef40b118478191cec0b58c3192f822cace858c19505c7670961b76b2/networkx-2.2.zip (1.7MB)\n",
            "\u001b[K     |████████████████████████████████| 1.7MB 30.5MB/s \n",
            "\u001b[?25hCollecting notebook==5.7.8\n",
            "\u001b[?25l  Downloading https://files.pythonhosted.org/packages/f6/36/89ebfffc9dd8c8dbd81c1ffb53e3d4233ee666414c143959477cb07cc5f5/notebook-5.7.8-py2.py3-none-any.whl (9.0MB)\n",
            "\u001b[K     |████████████████████████████████| 9.0MB 34.0MB/s \n",
            "\u001b[?25hCollecting ntlm-auth==1.2.0\n",
            "  Downloading https://files.pythonhosted.org/packages/8e/5b/4047779fb456b0de503c4acb7b166becf2567efb772abb53998440791d3c/ntlm_auth-1.2.0-py2.py3-none-any.whl\n",
            "Collecting numpy==1.16.1\n",
            "\u001b[?25l  Downloading https://files.pythonhosted.org/packages/f5/bf/4981bcbee43934f0adb8f764a1e70ab0ee5a448f6505bd04a87a2fda2a8b/numpy-1.16.1-cp36-cp36m-manylinux1_x86_64.whl (17.3MB)\n",
            "\u001b[K     |████████████████████████████████| 17.3MB 504kB/s \n",
            "\u001b[?25hCollecting pandas==0.24.1\n",
            "\u001b[?25l  Downloading https://files.pythonhosted.org/packages/e6/de/a0d3defd8f338eaf53ef716e40ef6d6c277c35d50e09b586e170169cdf0d/pandas-0.24.1-cp36-cp36m-manylinux1_x86_64.whl (10.1MB)\n",
            "\u001b[K     |████████████████████████████████| 10.1MB 18.1MB/s \n",
            "\u001b[?25hRequirement already satisfied: pandocfilters==1.4.2 in /usr/local/lib/python3.6/dist-packages (from -r requirements.txt (line 45)) (1.4.2)\n",
            "Collecting parso==0.3.3\n",
            "\u001b[?25l  Downloading https://files.pythonhosted.org/packages/f9/95/917fbfaca4c173651cb8f02bd50712414a0e2a154c8b7077a80027c0864b/parso-0.3.3-py2.py3-none-any.whl (93kB)\n",
            "\u001b[K     |████████████████████████████████| 102kB 11.0MB/s \n",
            "\u001b[?25hCollecting pexpect==4.6.0\n",
            "\u001b[?25l  Downloading https://files.pythonhosted.org/packages/89/e6/b5a1de8b0cc4e07ca1b305a4fcc3f9806025c1b651ea302646341222f88b/pexpect-4.6.0-py2.py3-none-any.whl (57kB)\n",
            "\u001b[K     |████████████████████████████████| 61kB 7.9MB/s \n",
            "\u001b[?25hRequirement already satisfied: pickleshare==0.7.5 in /usr/local/lib/python3.6/dist-packages (from -r requirements.txt (line 48)) (0.7.5)\n",
            "Collecting Pillow==5.4.1\n",
            "\u001b[?25l  Downloading https://files.pythonhosted.org/packages/85/5e/e91792f198bbc5a0d7d3055ad552bc4062942d27eaf75c3e2783cf64eae5/Pillow-5.4.1-cp36-cp36m-manylinux1_x86_64.whl (2.0MB)\n",
            "\u001b[K     |████████████████████████████████| 2.0MB 34.9MB/s \n",
            "\u001b[?25hCollecting ply==3.11\n",
            "\u001b[?25l  Downloading https://files.pythonhosted.org/packages/a3/58/35da89ee790598a0700ea49b2a66594140f44dec458c07e8e3d4979137fc/ply-3.11-py2.py3-none-any.whl (49kB)\n",
            "\u001b[K     |████████████████████████████████| 51kB 7.3MB/s \n",
            "\u001b[?25hCollecting prometheus-client==0.5.0\n",
            "  Downloading https://files.pythonhosted.org/packages/bc/e1/3cddac03c8992815519c5f50493097f6508fa153d067b494db8ab5e9c4ce/prometheus_client-0.5.0.tar.gz\n",
            "Collecting prompt-toolkit==2.0.8\n",
            "\u001b[?25l  Downloading https://files.pythonhosted.org/packages/65/c2/e676da701cda11b32ff42eceb44aa7d8934b597d604bb5e94c0283def064/prompt_toolkit-2.0.8-py3-none-any.whl (342kB)\n",
            "\u001b[K     |████████████████████████████████| 348kB 42.8MB/s \n",
            "\u001b[?25hCollecting psutil==5.5.0\n",
            "\u001b[?25l  Downloading https://files.pythonhosted.org/packages/6e/a0/833bcbcede5141cc5615e50c7cc5b960ce93d9c9b885fbe3b7d36e48a2d4/psutil-5.5.0.tar.gz (425kB)\n",
            "\u001b[K     |████████████████████████████████| 430kB 46.6MB/s \n",
            "\u001b[?25hRequirement already satisfied: ptyprocess==0.6.0 in /usr/local/lib/python3.6/dist-packages (from -r requirements.txt (line 54)) (0.6.0)\n",
            "Requirement already satisfied: pycparser==2.19 in /usr/local/lib/python3.6/dist-packages (from -r requirements.txt (line 55)) (2.19)\n",
            "Collecting Pygments==2.3.1\n",
            "\u001b[?25l  Downloading https://files.pythonhosted.org/packages/13/e5/6d710c9cf96c31ac82657bcfb441df328b22df8564d58d0c4cd62612674c/Pygments-2.3.1-py2.py3-none-any.whl (849kB)\n",
            "\u001b[K     |████████████████████████████████| 849kB 43.8MB/s \n",
            "\u001b[?25hCollecting pyobjc-core==5.1.2\n",
            "\u001b[?25l  Downloading https://files.pythonhosted.org/packages/9c/2d/a8755387a39d514d7fe87eb0d2e8e69cc799194b24c9cb4fef5375c8ec22/pyobjc-core-5.1.2.tar.gz (794kB)\n",
            "\u001b[K     |████████████████████████████████| 798kB 46.9MB/s \n",
            "\u001b[31mERROR: Command errored out with exit status 1: python setup.py egg_info Check the logs for full command output.\u001b[0m\n",
            "\u001b[?25h"
          ],
          "name": "stdout"
        }
      ]
    },
    {
      "cell_type": "code",
      "metadata": {
        "id": "F3u9RhJBCI4p",
        "colab_type": "code",
        "colab": {
          "base_uri": "https://localhost:8080/",
          "height": 35
        },
        "outputId": "f148854c-9905-47a9-a30b-61f230dbbb56"
      },
      "source": [
        "cd /content/edX---Quantum-Machine-Learning"
      ],
      "execution_count": 2,
      "outputs": [
        {
          "output_type": "stream",
          "text": [
            "/content/edX---Quantum-Machine-Learning\n"
          ],
          "name": "stdout"
        }
      ]
    },
    {
      "cell_type": "code",
      "metadata": {
        "id": "UmZ3pV2XCOrF",
        "colab_type": "code",
        "colab": {}
      },
      "source": [
        "from qiskit import ClassicalRegister, QuantumRegister, QuantumCircuit, execute, BasicAer\n",
        "import numpy as np\n",
        "\n",
        "q, c, backend = QuantumRegister(4), ClassicalRegister(4), BasicAer.get_backend('qasm_simulator')"
      ],
      "execution_count": 0,
      "outputs": []
    },
    {
      "cell_type": "code",
      "metadata": {
        "id": "sK0vpUhZCoJQ",
        "colab_type": "code",
        "colab": {
          "base_uri": "https://localhost:8080/",
          "height": 1000
        },
        "outputId": "619750fe-291d-4a0b-a477-b2c06a04b82b"
      },
      "source": [
        "!pip install qiskit"
      ],
      "execution_count": 5,
      "outputs": [
        {
          "output_type": "stream",
          "text": [
            "Collecting qiskit\n",
            "  Downloading https://files.pythonhosted.org/packages/9e/2d/4c09bc1292a3be92f8c003b8491215ac9a0d81b014384e95a659a58ddf57/qiskit-0.13.0.tar.gz\n",
            "Collecting qiskit-terra==0.10.0\n",
            "\u001b[?25l  Downloading https://files.pythonhosted.org/packages/09/97/1be77cc1b22f3bd341024b1bae89d71ca9ee147ac047f793364cadc873a8/qiskit_terra-0.10.0-cp36-cp36m-manylinux1_x86_64.whl (1.6MB)\n",
            "\u001b[K     |████████████████████████████████| 1.6MB 2.8MB/s \n",
            "\u001b[?25hCollecting qiskit-aer==0.3.2\n",
            "\u001b[?25l  Downloading https://files.pythonhosted.org/packages/57/aa/8f6d5515f6e70e41d9f7e5ee2b3ce18cabe5fb21001a169757d1f1f8ff1f/qiskit_aer-0.3.2-cp36-cp36m-manylinux2010_x86_64.whl (17.3MB)\n",
            "\u001b[K     |████████████████████████████████| 17.3MB 23.9MB/s \n",
            "\u001b[?25hCollecting qiskit-ibmq-provider==0.3.3\n",
            "\u001b[?25l  Downloading https://files.pythonhosted.org/packages/cb/6a/ae5f648a565492dd6a39d2472e8940434f2df36c9c4422a39bc9535bfe01/qiskit-ibmq-provider-0.3.3.tar.gz (57kB)\n",
            "\u001b[K     |████████████████████████████████| 61kB 7.0MB/s \n",
            "\u001b[?25hCollecting qiskit-ignis==0.2.0\n",
            "\u001b[?25l  Downloading https://files.pythonhosted.org/packages/78/f2/f4f89c65d2c13f473092f7e800519836611ddeeaab8d4591a70555b26a37/qiskit_ignis-0.2.0-py3-none-any.whl (100kB)\n",
            "\u001b[K     |████████████████████████████████| 102kB 11.6MB/s \n",
            "\u001b[?25hCollecting qiskit-aqua==0.6.1\n",
            "\u001b[?25l  Downloading https://files.pythonhosted.org/packages/47/2b/632c195974804d17dca01554caa013dd0c3023f4e4e6b91213c3381ce514/qiskit_aqua-0.6.1-py3-none-any.whl (979kB)\n",
            "\u001b[K     |████████████████████████████████| 983kB 44.5MB/s \n",
            "\u001b[?25hRequirement already satisfied: numpy>=1.13 in /usr/local/lib/python3.6/dist-packages (from qiskit-terra==0.10.0->qiskit) (1.17.4)\n",
            "Collecting marshmallow-polyfield<6,>=5.7\n",
            "  Downloading https://files.pythonhosted.org/packages/d7/6c/416e7e529d03362bb57bb4be16a0bb1ada6325b12adf3e31fec4c10ef1b1/marshmallow-polyfield-5.7.tar.gz\n",
            "Collecting ply>=3.10\n",
            "  Using cached https://files.pythonhosted.org/packages/a3/58/35da89ee790598a0700ea49b2a66594140f44dec458c07e8e3d4979137fc/ply-3.11-py2.py3-none-any.whl\n",
            "Requirement already satisfied: jsonschema>=2.6 in /usr/local/lib/python3.6/dist-packages (from qiskit-terra==0.10.0->qiskit) (2.6.0)\n",
            "Collecting sympy>=1.3\n",
            "\u001b[?25l  Downloading https://files.pythonhosted.org/packages/21/21/f4105795ca7f35c541d82c5b06be684dd2f5cb4f508fb487cd7aea4de776/sympy-1.4-py2.py3-none-any.whl (5.3MB)\n",
            "\u001b[K     |████████████████████████████████| 5.3MB 30.9MB/s \n",
            "\u001b[?25hRequirement already satisfied: scipy>=1.0 in /usr/local/lib/python3.6/dist-packages (from qiskit-terra==0.10.0->qiskit) (1.3.2)\n",
            "Requirement already satisfied: networkx>=2.2 in /usr/local/lib/python3.6/dist-packages (from qiskit-terra==0.10.0->qiskit) (2.4)\n",
            "Collecting marshmallow<4,>=3\n",
            "\u001b[?25l  Downloading https://files.pythonhosted.org/packages/e1/ca/406bf7b2d42da406bf1474e231b23c21e16007fea7e213f1fbc9bcd62cc8/marshmallow-3.2.2-py2.py3-none-any.whl (45kB)\n",
            "\u001b[K     |████████████████████████████████| 51kB 7.0MB/s \n",
            "\u001b[?25hRequirement already satisfied: psutil>=5 in /usr/local/lib/python3.6/dist-packages (from qiskit-terra==0.10.0->qiskit) (5.4.8)\n",
            "Collecting nest-asyncio==1.0.0\n",
            "  Downloading https://files.pythonhosted.org/packages/62/18/4c6a895c925e8822e72535d774861e9ca07089c4b938ed20002b1aaab66a/nest_asyncio-1.0.0-py3-none-any.whl\n",
            "Requirement already satisfied: requests>=2.19 in /usr/local/lib/python3.6/dist-packages (from qiskit-ibmq-provider==0.3.3->qiskit) (2.21.0)\n",
            "Collecting requests-ntlm>=1.1.0\n",
            "  Downloading https://files.pythonhosted.org/packages/03/4b/8b9a1afde8072c4d5710d9fa91433d504325821b038e00237dc8d6d833dc/requests_ntlm-1.1.0-py2.py3-none-any.whl\n",
            "Collecting websockets<8,>=7\n",
            "\u001b[?25l  Downloading https://files.pythonhosted.org/packages/43/71/8bfa882b9c502c36e5c9ef6732969533670d2b039cbf95a82ced8f762b80/websockets-7.0-cp36-cp36m-manylinux1_x86_64.whl (63kB)\n",
            "\u001b[K     |████████████████████████████████| 71kB 9.0MB/s \n",
            "\u001b[?25hRequirement already satisfied: setuptools>=40.1.0 in /usr/local/lib/python3.6/dist-packages (from qiskit-ignis==0.2.0->qiskit) (41.6.0)\n",
            "Collecting pyscf; sys_platform != \"win32\"\n",
            "\u001b[?25l  Downloading https://files.pythonhosted.org/packages/0e/ce/c20e3d841eb489a83d8d8c63af48d0a407acbcea35fa37c0d08710072a6d/pyscf-1.6.5-cp36-cp36m-manylinux1_x86_64.whl (21.7MB)\n",
            "\u001b[K     |████████████████████████████████| 21.7MB 61.2MB/s \n",
            "\u001b[?25hRequirement already satisfied: cvxopt in /usr/local/lib/python3.6/dist-packages (from qiskit-aqua==0.6.1->qiskit) (1.2.3)\n",
            "Collecting dlx\n",
            "  Downloading https://files.pythonhosted.org/packages/54/c0/b8fb5bb727e983b6f5251433ef941b48f38c65bb0bd6ec509e9185bcd406/dlx-1.0.4.tar.gz\n",
            "Collecting docplex\n",
            "\u001b[?25l  Downloading https://files.pythonhosted.org/packages/77/6b/b8a71573c8cca835cd2d6b36ae341ab93ab44bd27208fe20d5bf3c00c990/docplex-2.11.176.tar.gz (557kB)\n",
            "\u001b[K     |████████████████████████████████| 563kB 38.4MB/s \n",
            "\u001b[?25hRequirement already satisfied: fastdtw in /usr/local/lib/python3.6/dist-packages (from qiskit-aqua==0.6.1->qiskit) (0.3.4)\n",
            "Requirement already satisfied: h5py in /usr/local/lib/python3.6/dist-packages (from qiskit-aqua==0.6.1->qiskit) (2.8.0)\n",
            "Collecting quandl\n",
            "  Downloading https://files.pythonhosted.org/packages/12/64/6314547cb01fa75697ddba6d6d43a9f1d023c1730ffc6abf3db7a0c89222/Quandl-3.4.8-py2.py3-none-any.whl\n",
            "Requirement already satisfied: scikit-learn>=0.20.0 in /usr/local/lib/python3.6/dist-packages (from qiskit-aqua==0.6.1->qiskit) (0.21.3)\n",
            "Requirement already satisfied: six in /usr/local/lib/python3.6/dist-packages (from marshmallow-polyfield<6,>=5.7->qiskit-terra==0.10.0->qiskit) (1.12.0)\n",
            "Requirement already satisfied: mpmath>=0.19 in /usr/local/lib/python3.6/dist-packages (from sympy>=1.3->qiskit-terra==0.10.0->qiskit) (1.1.0)\n",
            "Requirement already satisfied: decorator>=4.3.0 in /usr/local/lib/python3.6/dist-packages (from networkx>=2.2->qiskit-terra==0.10.0->qiskit) (4.4.1)\n",
            "Requirement already satisfied: certifi>=2017.4.17 in /usr/local/lib/python3.6/dist-packages (from requests>=2.19->qiskit-ibmq-provider==0.3.3->qiskit) (2019.9.11)\n",
            "Requirement already satisfied: chardet<3.1.0,>=3.0.2 in /usr/local/lib/python3.6/dist-packages (from requests>=2.19->qiskit-ibmq-provider==0.3.3->qiskit) (3.0.4)\n",
            "Requirement already satisfied: urllib3<1.25,>=1.21.1 in /usr/local/lib/python3.6/dist-packages (from requests>=2.19->qiskit-ibmq-provider==0.3.3->qiskit) (1.24.3)\n",
            "Requirement already satisfied: idna<2.9,>=2.5 in /usr/local/lib/python3.6/dist-packages (from requests>=2.19->qiskit-ibmq-provider==0.3.3->qiskit) (2.8)\n",
            "Collecting ntlm-auth>=1.0.2\n",
            "  Downloading https://files.pythonhosted.org/packages/50/09/5e397eb18685b14fd8b209e26cdb4fa6451c82c1bcc651fef05fa73e7b27/ntlm_auth-1.4.0-py2.py3-none-any.whl\n",
            "Collecting cryptography>=1.3\n",
            "\u001b[?25l  Downloading https://files.pythonhosted.org/packages/ca/9a/7cece52c46546e214e10811b36b2da52ce1ea7fa203203a629b8dfadad53/cryptography-2.8-cp34-abi3-manylinux2010_x86_64.whl (2.3MB)\n",
            "\u001b[K     |████████████████████████████████| 2.3MB 28.2MB/s \n",
            "\u001b[?25hCollecting docloud>=1.0.375\n",
            "  Downloading https://files.pythonhosted.org/packages/89/1c/fcb7ea86ae5cb7137a22f00bcaa785de2d102bd4a2b16383ec4a877a835b/docloud-1.0.375.tar.gz\n",
            "Collecting pyOpenSSL\n",
            "\u001b[?25l  Downloading https://files.pythonhosted.org/packages/9e/de/f8342b68fa9e981d348039954657bdf681b2ab93de27443be51865ffa310/pyOpenSSL-19.1.0-py2.py3-none-any.whl (53kB)\n",
            "\u001b[K     |████████████████████████████████| 61kB 8.6MB/s \n",
            "\u001b[?25hCollecting inflection>=0.3.1\n",
            "  Downloading https://files.pythonhosted.org/packages/d5/35/a6eb45b4e2356fe688b21570864d4aa0d0a880ce387defe9c589112077f8/inflection-0.3.1.tar.gz\n",
            "Collecting more-itertools<=5.0.0\n",
            "\u001b[?25l  Downloading https://files.pythonhosted.org/packages/a4/a6/42f17d065bda1fac255db13afc94c93dbfb64393eae37c749b4cb0752fc7/more_itertools-5.0.0-py3-none-any.whl (52kB)\n",
            "\u001b[K     |████████████████████████████████| 61kB 8.5MB/s \n",
            "\u001b[?25hCollecting ndg-httpsclient\n",
            "  Downloading https://files.pythonhosted.org/packages/fb/67/c2f508c00ed2a6911541494504b7cac16fe0b0473912568df65fd1801132/ndg_httpsclient-0.5.1-py3-none-any.whl\n",
            "Requirement already satisfied: pyasn1 in /usr/local/lib/python3.6/dist-packages (from quandl->qiskit-aqua==0.6.1->qiskit) (0.4.7)\n",
            "Requirement already satisfied: python-dateutil in /usr/local/lib/python3.6/dist-packages (from quandl->qiskit-aqua==0.6.1->qiskit) (2.6.1)\n",
            "Requirement already satisfied: pandas>=0.14 in /usr/local/lib/python3.6/dist-packages (from quandl->qiskit-aqua==0.6.1->qiskit) (0.25.3)\n",
            "Requirement already satisfied: joblib>=0.11 in /usr/local/lib/python3.6/dist-packages (from scikit-learn>=0.20.0->qiskit-aqua==0.6.1->qiskit) (0.14.0)\n",
            "Requirement already satisfied: cffi!=1.11.3,>=1.8 in /usr/local/lib/python3.6/dist-packages (from cryptography>=1.3->requests-ntlm>=1.1.0->qiskit-ibmq-provider==0.3.3->qiskit) (1.13.2)\n",
            "Requirement already satisfied: pytz>=2017.2 in /usr/local/lib/python3.6/dist-packages (from pandas>=0.14->quandl->qiskit-aqua==0.6.1->qiskit) (2018.9)\n",
            "Requirement already satisfied: pycparser in /usr/local/lib/python3.6/dist-packages (from cffi!=1.11.3,>=1.8->cryptography>=1.3->requests-ntlm>=1.1.0->qiskit-ibmq-provider==0.3.3->qiskit) (2.19)\n",
            "Building wheels for collected packages: qiskit, qiskit-ibmq-provider, marshmallow-polyfield, dlx, docplex, docloud, inflection\n",
            "  Building wheel for qiskit (setup.py) ... \u001b[?25l\u001b[?25hdone\n",
            "  Created wheel for qiskit: filename=qiskit-0.13.0-cp36-none-any.whl size=1399 sha256=a54685129ffb41931c74ee8033820c4c7059ac5dfb1187c9abda9c9789c98b04\n",
            "  Stored in directory: /root/.cache/pip/wheels/4e/f0/27/e914f739445603aa0229efc92a205fbbe3535aa1054b5a1f67\n",
            "  Building wheel for qiskit-ibmq-provider (setup.py) ... \u001b[?25l\u001b[?25hdone\n",
            "  Created wheel for qiskit-ibmq-provider: filename=qiskit_ibmq_provider-0.3.3-cp36-none-any.whl size=85719 sha256=1b862b36f7b8849f12aac613706ee8d84ed36f93b3e0b073466253964247c72d\n",
            "  Stored in directory: /root/.cache/pip/wheels/52/ff/94/ed9ed05fff0099b4de0a27df50fcf3bc7a0db91b356819dc1c\n",
            "  Building wheel for marshmallow-polyfield (setup.py) ... \u001b[?25l\u001b[?25hdone\n",
            "  Created wheel for marshmallow-polyfield: filename=marshmallow_polyfield-5.7-cp36-none-any.whl size=8580 sha256=e8472035d4136b4215c4668130a7139c561a24da180463cf8ebdede67e86a2b0\n",
            "  Stored in directory: /root/.cache/pip/wheels/68/f5/09/1dcfa8613b095bb326caadfb4b111d7fc945875948b75f5c14\n",
            "  Building wheel for dlx (setup.py) ... \u001b[?25l\u001b[?25hdone\n",
            "  Created wheel for dlx: filename=dlx-1.0.4-cp36-none-any.whl size=5710 sha256=be6597608477f09eb06f7d19f7975515eebe81b7803831ec303097e3f6b7e219\n",
            "  Stored in directory: /root/.cache/pip/wheels/bb/ba/15/fdd0deb104df3254912998150ba9245668db06b00af5912d1a\n",
            "  Building wheel for docplex (setup.py) ... \u001b[?25l\u001b[?25hdone\n",
            "  Created wheel for docplex: filename=docplex-2.11.176-cp36-none-any.whl size=618499 sha256=d0f8cd17c845dccf3250b22101981c4d67be21f0fafdece442cf928abf4806ba\n",
            "  Stored in directory: /root/.cache/pip/wheels/67/f9/a4/a1ea7f35c16adca0337cc3d996bdebd489ed4244896a9d089d\n",
            "  Building wheel for docloud (setup.py) ... \u001b[?25l\u001b[?25hdone\n",
            "  Created wheel for docloud: filename=docloud-1.0.375-cp36-none-any.whl size=19479 sha256=4eee5a8a4667f0c1dcc24f90f7033ebb5d735b8dadeca934535d99814f738f79\n",
            "  Stored in directory: /root/.cache/pip/wheels/4e/24/19/9b0e57545d7543ecec35c5faff78c058bf0c2506369c8b1d31\n",
            "  Building wheel for inflection (setup.py) ... \u001b[?25l\u001b[?25hdone\n",
            "  Created wheel for inflection: filename=inflection-0.3.1-cp36-none-any.whl size=6076 sha256=4d459e763a0177b57986a6bdaecf3481da6e9e725118abe7d5c4785236fe7638\n",
            "  Stored in directory: /root/.cache/pip/wheels/9f/5a/d3/6fc3bf6516d2a3eb7e18f9f28b472110b59325f3f258fe9211\n",
            "Successfully built qiskit qiskit-ibmq-provider marshmallow-polyfield dlx docplex docloud inflection\n",
            "\u001b[31mERROR: datascience 0.10.6 has requirement folium==0.2.1, but you'll have folium 0.8.3 which is incompatible.\u001b[0m\n",
            "Installing collected packages: marshmallow, marshmallow-polyfield, ply, sympy, qiskit-terra, qiskit-aer, nest-asyncio, ntlm-auth, cryptography, requests-ntlm, websockets, qiskit-ibmq-provider, qiskit-ignis, pyscf, dlx, docloud, docplex, pyOpenSSL, inflection, more-itertools, ndg-httpsclient, quandl, qiskit-aqua, qiskit\n",
            "  Found existing installation: sympy 1.1.1\n",
            "    Uninstalling sympy-1.1.1:\n",
            "      Successfully uninstalled sympy-1.1.1\n",
            "  Found existing installation: more-itertools 7.2.0\n",
            "    Uninstalling more-itertools-7.2.0:\n",
            "      Successfully uninstalled more-itertools-7.2.0\n",
            "Successfully installed cryptography-2.8 dlx-1.0.4 docloud-1.0.375 docplex-2.11.176 inflection-0.3.1 marshmallow-3.2.2 marshmallow-polyfield-5.7 more-itertools-5.0.0 ndg-httpsclient-0.5.1 nest-asyncio-1.0.0 ntlm-auth-1.4.0 ply-3.11 pyOpenSSL-19.1.0 pyscf-1.6.5 qiskit-0.13.0 qiskit-aer-0.3.2 qiskit-aqua-0.6.1 qiskit-ibmq-provider-0.3.3 qiskit-ignis-0.2.0 qiskit-terra-0.10.0 quandl-3.4.8 requests-ntlm-1.1.0 sympy-1.4 websockets-7.0\n"
          ],
          "name": "stdout"
        }
      ]
    },
    {
      "cell_type": "code",
      "metadata": {
        "id": "3pgz66sSCsg6",
        "colab_type": "code",
        "colab": {}
      },
      "source": [
        "training_set = [[0, 1], [0.78861006, 0.61489363]]\n",
        "labels = [0, 1]\n",
        "test_set = [[-0.549, 0.836], [0.053 , 0.999]]"
      ],
      "execution_count": 0,
      "outputs": []
    },
    {
      "cell_type": "code",
      "metadata": {
        "id": "bJK-VQEqDEyd",
        "colab_type": "code",
        "colab": {}
      },
      "source": [
        "def get_angle(amplitude_0):\n",
        "    return 2 * np.arccos(amplitude_0)"
      ],
      "execution_count": 0,
      "outputs": []
    },
    {
      "cell_type": "code",
      "metadata": {
        "id": "3n0Cot9zDJoc",
        "colab_type": "code",
        "colab": {}
      },
      "source": [
        "test_angles = [get_angle(test_set[0][0]) / 2, get_angle(test_set[1][0]) / 2]\n",
        "training_angle = get_angle(training_set[1][0]) / 4"
      ],
      "execution_count": 0,
      "outputs": []
    },
    {
      "cell_type": "code",
      "metadata": {
        "id": "BliCXYIlDPMN",
        "colab_type": "code",
        "colab": {}
      },
      "source": [
        "def prepare_state(q, c, angles):\n",
        "    ancilla_qubit = q[0]\n",
        "    index_qubit = q[1]\n",
        "    data_qubit = q[2]\n",
        "    class_qubit = q[3]\n",
        "    circuit = QuantumCircuit(q, c)\n",
        "    \n",
        "    # Put the ancilla and the index qubits into uniform superposition\n",
        "    circuit.h(ancilla_qubit)\n",
        "    circuit.h(index_qubit)\n",
        "\n",
        "    # Prepare the test vector\n",
        "    circuit.cx(ancilla_qubit, data_qubit)\n",
        "    circuit.u3(-angles[0], 0, 0, data_qubit)\n",
        "    circuit.cx(ancilla_qubit, data_qubit)\n",
        "    circuit.u3(angles[0], 0, 0, data_qubit)\n",
        "    \n",
        "    # Flip the ancilla qubit > this moves the input \n",
        "    # vector to the |0> state of the ancilla\n",
        "    circuit.x(ancilla_qubit)\n",
        "    circuit.barrier()\n",
        "\n",
        "    # Prepare the first training vector\n",
        "    # [0,1] -> class 0\n",
        "    # We can prepare this with a Toffoli\n",
        "    circuit.ccx(ancilla_qubit, index_qubit, data_qubit)\n",
        "    # Flip the index qubit > moves the first training vector to the \n",
        "    # |0> state of the index qubit\n",
        "    circuit.x(index_qubit)\n",
        "    circuit.barrier()\n",
        "\n",
        "    # Prepare the second training vector\n",
        "    # [0.78861, 0.61489] -> class 1\n",
        "    circuit.ccx(ancilla_qubit, index_qubit, data_qubit)\n",
        "    circuit.cx(index_qubit, data_qubit)\n",
        "    circuit.u3(angles[1], 0, 0, data_qubit)\n",
        "    circuit.cx(index_qubit, data_qubit)\n",
        "    circuit.u3(-angles[1], 0, 0, data_qubit)\n",
        "    circuit.ccx(ancilla_qubit, index_qubit, data_qubit)\n",
        "    circuit.cx(index_qubit, data_qubit)\n",
        "    circuit.u3(-angles[1], 0, 0, data_qubit)\n",
        "    circuit.cx(index_qubit, data_qubit)\n",
        "    circuit.u3(angles[1], 0, 0, data_qubit)\n",
        "    circuit.barrier()\n",
        "\n",
        "    # Flip the class label for training vector #2\n",
        "    circuit.cx(index_qubit, class_qubit)\n",
        "    circuit.barrier()\n",
        "    return circuit"
      ],
      "execution_count": 0,
      "outputs": []
    },
    {
      "cell_type": "code",
      "metadata": {
        "id": "8PKvRt4IDWha",
        "colab_type": "code",
        "colab": {
          "base_uri": "https://localhost:8080/",
          "height": 788
        },
        "outputId": "dd82c3b0-b921-47e6-ca77-25cd286d5cb1"
      },
      "source": [
        "from qiskit.tools.visualization import circuit_drawer\n",
        "angles = [test_angles[0], training_angle]\n",
        "state_preparation_0 = prepare_state(q, c, angles)\n",
        "circuit_drawer(state_preparation_0)"
      ],
      "execution_count": 11,
      "outputs": [
        {
          "output_type": "execute_result",
          "data": {
            "text/html": [
              "<pre style=\"word-wrap: normal;white-space: pre;background: #fff0;line-height: 1.1;font-family: &quot;Courier New&quot;,Courier,monospace\">         ┌───┐                                  ┌───┐       ░            ░ »\n",
              "q0_0: |0>┤ H ├──■──────────────────────■────────┤ X ├───────░───■────────░─»\n",
              "         ├───┤  │                      │        └───┘       ░   │  ┌───┐ ░ »\n",
              "q0_1: |0>┤ H ├──┼──────────────────────┼────────────────────░───■──┤ X ├─░─»\n",
              "         └───┘┌─┴─┐┌────────────────┐┌─┴─┐┌───────────────┐ ░ ┌─┴─┐└───┘ ░ »\n",
              "q0_2: |0>─────┤ X ├┤ U3(-2.152,0,0) ├┤ X ├┤ U3(2.152,0,0) ├─░─┤ X ├──────░─»\n",
              "              └───┘└────────────────┘└───┘└───────────────┘ ░ └───┘      ░ »\n",
              "q0_3: |0>───────────────────────────────────────────────────░────────────░─»\n",
              "                                                            ░            ░ »\n",
              " c0_0: 0 ══════════════════════════════════════════════════════════════════»\n",
              "                                                                           »\n",
              " c0_1: 0 ══════════════════════════════════════════════════════════════════»\n",
              "                                                                           »\n",
              " c0_2: 0 ══════════════════════════════════════════════════════════════════»\n",
              "                                                                           »\n",
              " c0_3: 0 ══════════════════════════════════════════════════════════════════»\n",
              "                                                                           »\n",
              "«                                                                      »\n",
              "«q0_0: ──■─────────────────────────────────────────────────────■───────»\n",
              "«        │                                                     │       »\n",
              "«q0_1: ──■────■───────────────────────■────────────────────────■────■──»\n",
              "«      ┌─┴─┐┌─┴─┐┌─────────────────┐┌─┴─┐┌──────────────────┐┌─┴─┐┌─┴─┐»\n",
              "«q0_2: ┤ X ├┤ X ├┤ U3(0.33113,0,0) ├┤ X ├┤ U3(-0.33113,0,0) ├┤ X ├┤ X ├»\n",
              "«      └───┘└───┘└─────────────────┘└───┘└──────────────────┘└───┘└───┘»\n",
              "«q0_3: ────────────────────────────────────────────────────────────────»\n",
              "«                                                                      »\n",
              "«c0_0: ════════════════════════════════════════════════════════════════»\n",
              "«                                                                      »\n",
              "«c0_1: ════════════════════════════════════════════════════════════════»\n",
              "«                                                                      »\n",
              "«c0_2: ════════════════════════════════════════════════════════════════»\n",
              "«                                                                      »\n",
              "«c0_3: ════════════════════════════════════════════════════════════════»\n",
              "«                                                                      »\n",
              "«                                                   ░       ░ \n",
              "«q0_0: ─────────────────────────────────────────────░───────░─\n",
              "«                                                   ░       ░ \n",
              "«q0_1: ──────────────────────■──────────────────────░───■───░─\n",
              "«      ┌──────────────────┐┌─┴─┐┌─────────────────┐ ░   │   ░ \n",
              "«q0_2: ┤ U3(-0.33113,0,0) ├┤ X ├┤ U3(0.33113,0,0) ├─░───┼───░─\n",
              "«      └──────────────────┘└───┘└─────────────────┘ ░ ┌─┴─┐ ░ \n",
              "«q0_3: ─────────────────────────────────────────────░─┤ X ├─░─\n",
              "«                                                   ░ └───┘ ░ \n",
              "«c0_0: ═══════════════════════════════════════════════════════\n",
              "«                                                             \n",
              "«c0_1: ═══════════════════════════════════════════════════════\n",
              "«                                                             \n",
              "«c0_2: ═══════════════════════════════════════════════════════\n",
              "«                                                             \n",
              "«c0_3: ═══════════════════════════════════════════════════════\n",
              "«                                                             </pre>"
            ],
            "text/plain": [
              "<qiskit.visualization.text.TextDrawing at 0x7fdf1dcbe9b0>"
            ]
          },
          "metadata": {
            "tags": []
          },
          "execution_count": 11
        }
      ]
    },
    {
      "cell_type": "code",
      "metadata": {
        "id": "Onf42wNXDdMI",
        "colab_type": "code",
        "colab": {}
      },
      "source": [
        "def interfere_data_and_test_instances(circuit, q, c, angles):\n",
        "    circuit.h(q[0])\n",
        "    circuit.barrier()\n",
        "    circuit.measure(q, c)\n",
        "    return circuit"
      ],
      "execution_count": 0,
      "outputs": []
    },
    {
      "cell_type": "code",
      "metadata": {
        "id": "Ou_lNRT5DxhF",
        "colab_type": "code",
        "colab": {
          "base_uri": "https://localhost:8080/",
          "height": 283
        },
        "outputId": "14e60517-14fc-4fbe-8d54-60d9f20b444c"
      },
      "source": [
        "import matplotlib.pyplot as plt\n",
        "\n",
        "x = np.linspace(-2, 2, 100)\n",
        "plt.xlim(-2, 2); plt.ylim(0, 1.1)\n",
        "plt.plot(x, 1-x**2/4)"
      ],
      "execution_count": 13,
      "outputs": [
        {
          "output_type": "execute_result",
          "data": {
            "text/plain": [
              "[<matplotlib.lines.Line2D at 0x7fdeafd54128>]"
            ]
          },
          "metadata": {
            "tags": []
          },
          "execution_count": 13
        },
        {
          "output_type": "display_data",
          "data": {
            "image/png": "[encoded data removed]",
            "text/plain": [
              "<Figure size 432x288 with 1 Axes>"
            ]
          },
          "metadata": {
            "tags": []
          }
        }
      ]
    },
    {
      "cell_type": "code",
      "metadata": {
        "id": "YdEi5KYmD4gH",
        "colab_type": "code",
        "colab": {}
      },
      "source": [
        "def postselect(result_counts):\n",
        "    total_samples = sum(result_counts.values())\n",
        "\n",
        "    # define lambda function that retrieves only results where the ancilla is in the |0> state\n",
        "    post_select = lambda counts: [(state, occurences) for state, occurences in counts.items() if state[-1] == '0']\n",
        "\n",
        "    # perform the postselection\n",
        "    postselection = dict(post_select(result_counts))\n",
        "    postselected_samples = sum(postselection.values())\n",
        "\n",
        "    print(f'Ancilla post-selection probability was found to be {postselected_samples/total_samples}')\n",
        "\n",
        "    retrieve_class = lambda binary_class: [occurences for state, occurences in postselection.items() if state[0] == str(binary_class)]\n",
        "\n",
        "    prob_class0 = sum(retrieve_class(0))/postselected_samples\n",
        "    prob_class1 = sum(retrieve_class(1))/postselected_samples\n",
        "\n",
        "    print('Probability for class 0 is', prob_class0)\n",
        "    print('Probability for class 1 is', prob_class1)\n"
      ],
      "execution_count": 0,
      "outputs": []
    },
    {
      "cell_type": "code",
      "metadata": {
        "id": "rLXLY1ggD_-v",
        "colab_type": "code",
        "colab": {
          "base_uri": "https://localhost:8080/",
          "height": 70
        },
        "outputId": "d724be34-5905-4f53-ce9c-0700b0a2f2e6"
      },
      "source": [
        "circuit_0 = interfere_data_and_test_instances(state_preparation_0, q, c, angles)\n",
        "job = execute(circuit_0, backend, shots=1000)\n",
        "result = job.result()\n",
        "postselect(result.get_counts(circuit_0))"
      ],
      "execution_count": 15,
      "outputs": [
        {
          "output_type": "stream",
          "text": [
            "Ancilla post-selection probability was found to be 0.734\n",
            "Probability for class 0 is 0.6185286103542235\n",
            "Probability for class 1 is 0.3814713896457766\n"
          ],
          "name": "stdout"
        }
      ]
    },
    {
      "cell_type": "code",
      "metadata": {
        "id": "vVNkzFhKEF7d",
        "colab_type": "code",
        "colab": {
          "base_uri": "https://localhost:8080/",
          "height": 70
        },
        "outputId": "5ce4c205-baec-4be3-c0e8-90a1a7c9483d"
      },
      "source": [
        "angles = [test_angles[1], training_angle]\n",
        "state_preparation_1 = prepare_state(q, c, angles)\n",
        "circuit_1 = interfere_data_and_test_instances(state_preparation_1, q, c, angles)\n",
        "job = execute(circuit_1, backend, shots=1000)\n",
        "result = job.result()\n",
        "postselect(result.get_counts(circuit_1))"
      ],
      "execution_count": 16,
      "outputs": [
        {
          "output_type": "stream",
          "text": [
            "Ancilla post-selection probability was found to be 0.909\n",
            "Probability for class 0 is 0.5324532453245324\n",
            "Probability for class 1 is 0.4675467546754675\n"
          ],
          "name": "stdout"
        }
      ]
    },
    {
      "cell_type": "code",
      "metadata": {
        "id": "OG8yreugEU2w",
        "colab_type": "code",
        "colab": {}
      },
      "source": [
        "from qiskit import QuantumCircuit, QuantumRegister, ClassicalRegister, execute, BasicAer\n",
        "from qiskit.tools.visualization import circuit_drawer\n",
        "import numpy as np\n",
        "import pandas as pd\n",
        "pd.options.display.max_rows = 200\n",
        "import matplotlib.pyplot as plt\n",
        "from collections import OrderedDict\n",
        "from sklearn import datasets\n",
        "from sklearn.preprocessing import normalize, StandardScaler"
      ],
      "execution_count": 0,
      "outputs": []
    },
    {
      "cell_type": "code",
      "metadata": {
        "id": "B38DI-jaExOI",
        "colab_type": "code",
        "colab": {}
      },
      "source": [
        "iris = datasets.load_iris()"
      ],
      "execution_count": 0,
      "outputs": []
    },
    {
      "cell_type": "code",
      "metadata": {
        "id": "nLR9k3v3FDBc",
        "colab_type": "code",
        "colab": {}
      },
      "source": [
        "irisData = pd.DataFrame({_[0]: iris.data[:, _[1]] for _ in zip(iris.feature_names, range(len(iris.feature_names)))})\n",
        "labelNames = {_[0]: _[1] for _ in zip(range(len(iris.target_names)), iris.target_names)}\n",
        "irisData['label'] = [labelNames[_] for _ in iris.target]"
      ],
      "execution_count": 0,
      "outputs": []
    },
    {
      "cell_type": "code",
      "metadata": {
        "id": "bZGMNnTyFKlX",
        "colab_type": "code",
        "colab": {}
      },
      "source": [
        "setosa = irisData[irisData['label'] == 'setosa']\n",
        "versicolor = irisData[irisData['label'] == 'versicolor']\n",
        "virginica = irisData[irisData['label'] == 'virginica']"
      ],
      "execution_count": 0,
      "outputs": []
    },
    {
      "cell_type": "code",
      "metadata": {
        "id": "Lo8DTFrpFP0M",
        "colab_type": "code",
        "colab": {
          "base_uri": "https://localhost:8080/",
          "height": 269
        },
        "outputId": "d81a8649-a5f7-47da-aa58-4f34d8d4cc6a"
      },
      "source": [
        "fig, ax = plt.subplots()\n",
        "ax.scatter(versicolor['sepal length (cm)'], versicolor['sepal width (cm)'], color='b')\n",
        "ax.scatter(setosa['sepal length (cm)'], setosa['sepal width (cm)'], color='r')\n",
        "ax.set_xlim([-1, 8]); ax.set_ylim([-1, 5]); ax.set_aspect('equal')"
      ],
      "execution_count": 21,
      "outputs": [
        {
          "output_type": "display_data",
          "data": {
            "image/png": "[encoded data removed]",
            "text/plain": [
              "<Figure size 432x288 with 1 Axes>"
            ]
          },
          "metadata": {
            "tags": []
          }
        }
      ]
    },
    {
      "cell_type": "code",
      "metadata": {
        "id": "ROrD_Q7AFWVc",
        "colab_type": "code",
        "colab": {}
      },
      "source": [
        "selectedData = irisData[irisData['label'].isin(['versicolor', 'setosa'])]\n",
        "selectedData = selectedData[['sepal length (cm)', 'sepal width (cm)', 'label']]\n",
        "\n",
        "scaler = StandardScaler().fit(selectedData[['sepal length (cm)', 'sepal width (cm)']])\n",
        "normalizedData = scaler.transform(selectedData[['sepal length (cm)', 'sepal width (cm)']])\n",
        "normalizedData = normalize(normalizedData)\n",
        "\n",
        "normalizedData = pd.DataFrame({'sepal length (cm)': normalizedData[:, 0],\n",
        "                               'sepal width (cm)': normalizedData[:, 1],\n",
        "                               'label': selectedData['label']})"
      ],
      "execution_count": 0,
      "outputs": []
    },
    {
      "cell_type": "code",
      "metadata": {
        "id": "W9C9eYIkFcXD",
        "colab_type": "code",
        "colab": {}
      },
      "source": [
        "normVersicolor = normalizedData[normalizedData['label'] == 'versicolor']\n",
        "normSetosa = normalizedData[normalizedData['label'] == 'setosa']"
      ],
      "execution_count": 0,
      "outputs": []
    },
    {
      "cell_type": "code",
      "metadata": {
        "id": "6Y62bswFFhP1",
        "colab_type": "code",
        "colab": {
          "base_uri": "https://localhost:8080/",
          "height": 265
        },
        "outputId": "6eacadbf-e52a-49a9-dfa3-56e6acd9a318"
      },
      "source": [
        "\n",
        "fig, ax = plt.subplots()\n",
        "ax.scatter(normVersicolor['sepal length (cm)'], normVersicolor['sepal width (cm)'], color='b')\n",
        "ax.scatter(normSetosa['sepal length (cm)'], normSetosa['sepal width (cm)'], color='r')\n",
        "ax.set_xlim([-1.3, 1.3]); ax.set_ylim([-1.3, 1.3]); ax.set_aspect('equal')\n"
      ],
      "execution_count": 24,
      "outputs": [
        {
          "output_type": "display_data",
          "data": {
            "image/png": "[encoded data removed]",
            "text/plain": [
              "<Figure size 432x288 with 1 Axes>"
            ]
          },
          "metadata": {
            "tags": []
          }
        }
      ]
    },
    {
      "cell_type": "code",
      "metadata": {
        "id": "gBkBDV5VFrRa",
        "colab_type": "code",
        "colab": {
          "base_uri": "https://localhost:8080/",
          "height": 164
        },
        "outputId": "75c5125a-44d2-4c25-c1c3-209aa8e4ed10"
      },
      "source": [
        "normalizedData.iloc[[33, 85, 28, 55]]"
      ],
      "execution_count": 25,
      "outputs": [
        {
          "output_type": "execute_result",
          "data": {
            "text/html": [
              "<div>\n",
              "<style scoped>\n",
              "    .dataframe tbody tr th:only-of-type {\n",
              "        vertical-align: middle;\n",
              "    }\n",
              "\n",
              "    .dataframe tbody tr th {\n",
              "        vertical-align: top;\n",
              "    }\n",
              "\n",
              "    .dataframe thead th {\n",
              "        text-align: right;\n",
              "    }\n",
              "</style>\n",
              "<table border=\"1\" class=\"dataframe\">\n",
              "  <thead>\n",
              "    <tr style=\"text-align: right;\">\n",
              "      <th></th>\n",
              "      <th>sepal length (cm)</th>\n",
              "      <th>sepal width (cm)</th>\n",
              "      <th>label</th>\n",
              "    </tr>\n",
              "  </thead>\n",
              "  <tbody>\n",
              "    <tr>\n",
              "      <th>33</th>\n",
              "      <td>0.019647</td>\n",
              "      <td>0.999807</td>\n",
              "      <td>setosa</td>\n",
              "    </tr>\n",
              "    <tr>\n",
              "      <th>85</th>\n",
              "      <td>0.795134</td>\n",
              "      <td>0.606434</td>\n",
              "      <td>versicolor</td>\n",
              "    </tr>\n",
              "    <tr>\n",
              "      <th>28</th>\n",
              "      <td>-0.557585</td>\n",
              "      <td>0.830120</td>\n",
              "      <td>setosa</td>\n",
              "    </tr>\n",
              "    <tr>\n",
              "      <th>55</th>\n",
              "      <td>0.496113</td>\n",
              "      <td>-0.868258</td>\n",
              "      <td>versicolor</td>\n",
              "    </tr>\n",
              "  </tbody>\n",
              "</table>\n",
              "</div>"
            ],
            "text/plain": [
              "    sepal length (cm)  sepal width (cm)       label\n",
              "33           0.019647          0.999807      setosa\n",
              "85           0.795134          0.606434  versicolor\n",
              "28          -0.557585          0.830120      setosa\n",
              "55           0.496113         -0.868258  versicolor"
            ]
          },
          "metadata": {
            "tags": []
          },
          "execution_count": 25
        }
      ]
    },
    {
      "cell_type": "code",
      "metadata": {
        "id": "GaPQM17TFwZD",
        "colab_type": "code",
        "colab": {}
      },
      "source": [
        "x0 = [0.019647, 0.999807]      # class 0\n",
        "x1 = [0.795134, 0.606434]      # class 1\n",
        "\n",
        "xprime = [-0.557585, 0.830120] # suppposed to be in class 0\n",
        "#xprime = [0.496113, -0.868258] # suppposed to be in class 1"
      ],
      "execution_count": 0,
      "outputs": []
    },
    {
      "cell_type": "code",
      "metadata": {
        "id": "kH6keLSIF1zl",
        "colab_type": "code",
        "colab": {}
      },
      "source": [
        "numbQubits = 4\n",
        "q, c = QuantumRegister(numbQubits), ClassicalRegister(numbQubits)\n",
        "circuit = QuantumCircuit(q, c)"
      ],
      "execution_count": 0,
      "outputs": []
    },
    {
      "cell_type": "code",
      "metadata": {
        "id": "OPGu7P0rF5j4",
        "colab_type": "code",
        "colab": {
          "base_uri": "https://localhost:8080/",
          "height": 35
        },
        "outputId": "a3915850-ac44-4feb-9ec3-530ea3d69d96"
      },
      "source": [
        "\n",
        "theta1 = np.arctan2(x1[1], x1[0])                 # angles for state encoding\n",
        "thetaPrime = 2 * np.arctan2(xprime[1], xprime[0]) # angles for state encoding\n",
        "\n",
        "circuit.h(q[0])\n",
        "circuit.h(q[1])\n",
        "\n",
        "circuit.cu3(thetaPrime, 0, 0, q[0], q[2])\n",
        "\n",
        "circuit.x(q[0])\n",
        "circuit.ccx(q[0], q[1], q[2])\n",
        "circuit.x(q[1])\n",
        "circuit.ccx(q[0], q[1], q[2])\n",
        "\n",
        "circuit.cu3(- theta1, 0, 0, q[1], q[2])\n",
        "circuit.ccx(q[0], q[1], q[2])\n",
        "circuit.cu3(theta1, 0, 0, q[1], q[2])\n",
        "\n",
        "circuit.cx(q[1], q[3])"
      ],
      "execution_count": 28,
      "outputs": [
        {
          "output_type": "execute_result",
          "data": {
            "text/plain": [
              "<qiskit.circuit.instructionset.InstructionSet at 0x7fdead26ee80>"
            ]
          },
          "metadata": {
            "tags": []
          },
          "execution_count": 28
        }
      ]
    },
    {
      "cell_type": "code",
      "metadata": {
        "id": "5I877r5XF-qP",
        "colab_type": "code",
        "colab": {
          "base_uri": "https://localhost:8080/",
          "height": 35
        },
        "outputId": "67f569bf-f0e5-4458-c647-54e6136c1609"
      },
      "source": [
        "\n",
        "circuit.h(q[0])\n",
        "\n",
        "circuit.measure(q, c)"
      ],
      "execution_count": 29,
      "outputs": [
        {
          "output_type": "execute_result",
          "data": {
            "text/plain": [
              "<qiskit.circuit.instructionset.InstructionSet at 0x7fdead267198>"
            ]
          },
          "metadata": {
            "tags": []
          },
          "execution_count": 29
        }
      ]
    },
    {
      "cell_type": "code",
      "metadata": {
        "id": "U9rtmqZAGDxi",
        "colab_type": "code",
        "colab": {
          "base_uri": "https://localhost:8080/",
          "height": 531
        },
        "outputId": "c68269d1-9854-46f5-a3ca-675840b11c94"
      },
      "source": [
        "circuit_drawer(circuit)"
      ],
      "execution_count": 30,
      "outputs": [
        {
          "output_type": "execute_result",
          "data": {
            "text/html": [
              "<pre style=\"word-wrap: normal;white-space: pre;background: #fff0;line-height: 1.1;font-family: &quot;Courier New&quot;,Courier,monospace\">         ┌───┐                  ┌───┐                                        »\n",
              "q1_0: |0>┤ H ├────────■─────────┤ X ├──■─────────■────────────────────────■──»\n",
              "         ├───┤        │         └───┘  │  ┌───┐  │                        │  »\n",
              "q1_1: |0>┤ H ├────────┼────────────────■──┤ X ├──■───────────■────────────■──»\n",
              "         └───┘┌───────┴────────┐     ┌─┴─┐└───┘┌─┴─┐┌────────┴─────────┐┌─┴─┐»\n",
              "q1_2: |0>─────┤ U3(4.3245,0,0) ├─────┤ X ├─────┤ X ├┤ U3(-0.65157,0,0) ├┤ X ├»\n",
              "              └────────────────┘     └───┘     └───┘└──────────────────┘└───┘»\n",
              "q1_3: |0>────────────────────────────────────────────────────────────────────»\n",
              "                                                                             »\n",
              " c1_0: 0 ════════════════════════════════════════════════════════════════════»\n",
              "                                                                             »\n",
              " c1_1: 0 ════════════════════════════════════════════════════════════════════»\n",
              "                                                                             »\n",
              " c1_2: 0 ════════════════════════════════════════════════════════════════════»\n",
              "                                                                             »\n",
              " c1_3: 0 ════════════════════════════════════════════════════════════════════»\n",
              "                                                                             »\n",
              "«             ┌───┐            ┌─┐         \n",
              "«q1_0: ───────┤ H ├────────────┤M├─────────\n",
              "«             └───┘            └╥┘   ┌─┐   \n",
              "«q1_1: ─────────■───────────■───╫────┤M├───\n",
              "«      ┌────────┴────────┐  │   ║ ┌─┐└╥┘   \n",
              "«q1_2: ┤ U3(0.65157,0,0) ├──┼───╫─┤M├─╫────\n",
              "«      └─────────────────┘┌─┴─┐ ║ └╥┘ ║ ┌─┐\n",
              "«q1_3: ───────────────────┤ X ├─╫──╫──╫─┤M├\n",
              "«                         └───┘ ║  ║  ║ └╥┘\n",
              "«c1_0: ═════════════════════════╩══╬══╬══╬═\n",
              "«                                  ║  ║  ║ \n",
              "«c1_1: ════════════════════════════╬══╩══╬═\n",
              "«                                  ║     ║ \n",
              "«c1_2: ════════════════════════════╩═════╬═\n",
              "«                                        ║ \n",
              "«c1_3: ══════════════════════════════════╩═\n",
              "«                                          </pre>"
            ],
            "text/plain": [
              "<qiskit.visualization.text.TextDrawing at 0x7fdead2e5a90>"
            ]
          },
          "metadata": {
            "tags": []
          },
          "execution_count": 30
        }
      ]
    },
    {
      "cell_type": "code",
      "metadata": {
        "id": "MYTYw_9LGHuQ",
        "colab_type": "code",
        "colab": {
          "base_uri": "https://localhost:8080/",
          "height": 159
        },
        "outputId": "6667baf4-5609-4a1e-e903-c4d1d25a868c"
      },
      "source": [
        "shots = 1000\n",
        "\n",
        "qmlResult = execute(circuit, backend = BasicAer.get_backend('qasm_simulator'), shots = shots)\n",
        "qmlCounts = qmlResult.result().get_counts(circuit)\n",
        "\n",
        "qmlCounts\n"
      ],
      "execution_count": 31,
      "outputs": [
        {
          "output_type": "execute_result",
          "data": {
            "text/plain": [
              "{'0000': 49,\n",
              " '0001': 33,\n",
              " '0100': 433,\n",
              " '0101': 4,\n",
              " '1010': 7,\n",
              " '1011': 231,\n",
              " '1110': 242,\n",
              " '1111': 1}"
            ]
          },
          "metadata": {
            "tags": []
          },
          "execution_count": 31
        }
      ]
    },
    {
      "cell_type": "code",
      "metadata": {
        "id": "eO_vNU3mGPLc",
        "colab_type": "code",
        "colab": {
          "base_uri": "https://localhost:8080/",
          "height": 35
        },
        "outputId": "625e011d-f96b-4d51-ab39-9aa637cbbe69"
      },
      "source": [
        "conditionalCounts = {_: qmlCounts[_] for _ in qmlCounts.keys() if _[3] == '0'}\n",
        "\n",
        "conditionalCounts"
      ],
      "execution_count": 32,
      "outputs": [
        {
          "output_type": "execute_result",
          "data": {
            "text/plain": [
              "{'0000': 49, '0100': 433, '1010': 7, '1110': 242}"
            ]
          },
          "metadata": {
            "tags": []
          },
          "execution_count": 32
        }
      ]
    },
    {
      "cell_type": "code",
      "metadata": {
        "id": "9W5CUMF0GT3C",
        "colab_type": "code",
        "colab": {
          "base_uri": "https://localhost:8080/",
          "height": 35
        },
        "outputId": "f3a7c130-d4c6-4fa2-a37d-63728a71cd63"
      },
      "source": [
        "class0Counts = [qmlCounts[_] for _ in conditionalCounts if _[2] == '0']\n",
        "class1Counts = [qmlCounts[_] for _ in conditionalCounts if _[2] == '1']\n",
        "\n",
        "print(class0Counts > class1Counts)"
      ],
      "execution_count": 33,
      "outputs": [
        {
          "output_type": "stream",
          "text": [
            "True\n"
          ],
          "name": "stdout"
        }
      ]
    },
    {
      "cell_type": "code",
      "metadata": {
        "id": "MsMg_xppGZHh",
        "colab_type": "code",
        "colab": {}
      },
      "source": [
        "import matplotlib.pyplot as plt\n",
        "import numpy as np\n",
        "import dimod\n",
        "\n",
        "n_spins = 3\n",
        "h = {v: 1 for v in range(n_spins)}\n",
        "J = {(0, 1): 2, (1, 2): -1}\n",
        "\n",
        "model = dimod.BinaryQuadraticModel(h, J, 0.0, dimod.SPIN)\n",
        "sampler = dimod.SimulatedAnnealingSampler()\n"
      ],
      "execution_count": 0,
      "outputs": []
    },
    {
      "cell_type": "code",
      "metadata": {
        "id": "FsEf0psMI748",
        "colab_type": "code",
        "colab": {
          "base_uri": "https://localhost:8080/",
          "height": 161
        },
        "outputId": "94db996a-ef59-4340-b075-d39eed9a0a03"
      },
      "source": [
        "!pip install dimod"
      ],
      "execution_count": 35,
      "outputs": [
        {
          "output_type": "stream",
          "text": [
            "Collecting dimod\n",
            "\u001b[?25l  Downloading https://files.pythonhosted.org/packages/34/f9/8d555d19342b05324ea091edb4cedcb5fd13c542f34d7705be4397853331/dimod-0.8.17-cp36-cp36m-manylinux1_x86_64.whl (832kB)\n",
            "\r\u001b[K     |▍                               | 10kB 16.5MB/s eta 0:00:01\r\u001b[K     |▉                               | 20kB 1.8MB/s eta 0:00:01\r\u001b[K     |█▏                              | 30kB 2.6MB/s eta 0:00:01\r\u001b[K     |█▋                              | 40kB 1.7MB/s eta 0:00:01\r\u001b[K     |██                              | 51kB 2.1MB/s eta 0:00:01\r\u001b[K     |██▍                             | 61kB 2.5MB/s eta 0:00:01\r\u001b[K     |██▊                             | 71kB 2.9MB/s eta 0:00:01\r\u001b[K     |███▏                            | 81kB 3.3MB/s eta 0:00:01\r\u001b[K     |███▌                            | 92kB 3.7MB/s eta 0:00:01\r\u001b[K     |████                            | 102kB 2.8MB/s eta 0:00:01\r\u001b[K     |████▎                           | 112kB 2.8MB/s eta 0:00:01\r\u001b[K     |████▊                           | 122kB 2.8MB/s eta 0:00:01\r\u001b[K     |█████▏                          | 133kB 2.8MB/s eta 0:00:01\r\u001b[K     |█████▌                          | 143kB 2.8MB/s eta 0:00:01\r\u001b[K     |██████                          | 153kB 2.8MB/s eta 0:00:01\r\u001b[K     |██████▎                         | 163kB 2.8MB/s eta 0:00:01\r\u001b[K     |██████▊                         | 174kB 2.8MB/s eta 0:00:01\r\u001b[K     |███████                         | 184kB 2.8MB/s eta 0:00:01\r\u001b[K     |███████▌                        | 194kB 2.8MB/s eta 0:00:01\r\u001b[K     |███████▉                        | 204kB 2.8MB/s eta 0:00:01\r\u001b[K     |████████▎                       | 215kB 2.8MB/s eta 0:00:01\r\u001b[K     |████████▋                       | 225kB 2.8MB/s eta 0:00:01\r\u001b[K     |█████████                       | 235kB 2.8MB/s eta 0:00:01\r\u001b[K     |█████████▌                      | 245kB 2.8MB/s eta 0:00:01\r\u001b[K     |█████████▉                      | 256kB 2.8MB/s eta 0:00:01\r\u001b[K     |██████████▎                     | 266kB 2.8MB/s eta 0:00:01\r\u001b[K     |██████████▋                     | 276kB 2.8MB/s eta 0:00:01\r\u001b[K     |███████████                     | 286kB 2.8MB/s eta 0:00:01\r\u001b[K     |███████████▍                    | 296kB 2.8MB/s eta 0:00:01\r\u001b[K     |███████████▉                    | 307kB 2.8MB/s eta 0:00:01\r\u001b[K     |████████████▏                   | 317kB 2.8MB/s eta 0:00:01\r\u001b[K     |████████████▋                   | 327kB 2.8MB/s eta 0:00:01\r\u001b[K     |█████████████                   | 337kB 2.8MB/s eta 0:00:01\r\u001b[K     |█████████████▍                  | 348kB 2.8MB/s eta 0:00:01\r\u001b[K     |█████████████▉                  | 358kB 2.8MB/s eta 0:00:01\r\u001b[K     |██████████████▏                 | 368kB 2.8MB/s eta 0:00:01\r\u001b[K     |██████████████▋                 | 378kB 2.8MB/s eta 0:00:01\r\u001b[K     |███████████████                 | 389kB 2.8MB/s eta 0:00:01\r\u001b[K     |███████████████▍                | 399kB 2.8MB/s eta 0:00:01\r\u001b[K     |███████████████▊                | 409kB 2.8MB/s eta 0:00:01\r\u001b[K     |████████████████▏               | 419kB 2.8MB/s eta 0:00:01\r\u001b[K     |████████████████▌               | 430kB 2.8MB/s eta 0:00:01\r\u001b[K     |█████████████████               | 440kB 2.8MB/s eta 0:00:01\r\u001b[K     |█████████████████▎              | 450kB 2.8MB/s eta 0:00:01\r\u001b[K     |█████████████████▊              | 460kB 2.8MB/s eta 0:00:01\r\u001b[K     |██████████████████▏             | 471kB 2.8MB/s eta 0:00:01\r\u001b[K     |██████████████████▌             | 481kB 2.8MB/s eta 0:00:01\r\u001b[K     |███████████████████             | 491kB 2.8MB/s eta 0:00:01\r\u001b[K     |███████████████████▎            | 501kB 2.8MB/s eta 0:00:01\r\u001b[K     |███████████████████▊            | 512kB 2.8MB/s eta 0:00:01\r\u001b[K     |████████████████████            | 522kB 2.8MB/s eta 0:00:01\r\u001b[K     |████████████████████▌           | 532kB 2.8MB/s eta 0:00:01\r\u001b[K     |████████████████████▉           | 542kB 2.8MB/s eta 0:00:01\r\u001b[K     |█████████████████████▎          | 552kB 2.8MB/s eta 0:00:01\r\u001b[K     |█████████████████████▋          | 563kB 2.8MB/s eta 0:00:01\r\u001b[K     |██████████████████████          | 573kB 2.8MB/s eta 0:00:01\r\u001b[K     |██████████████████████▍         | 583kB 2.8MB/s eta 0:00:01\r\u001b[K     |██████████████████████▉         | 593kB 2.8MB/s eta 0:00:01\r\u001b[K     |███████████████████████▎        | 604kB 2.8MB/s eta 0:00:01\r\u001b[K     |███████████████████████▋        | 614kB 2.8MB/s eta 0:00:01\r\u001b[K     |████████████████████████        | 624kB 2.8MB/s eta 0:00:01\r\u001b[K     |████████████████████████▍       | 634kB 2.8MB/s eta 0:00:01\r\u001b[K     |████████████████████████▉       | 645kB 2.8MB/s eta 0:00:01\r\u001b[K     |█████████████████████████▏      | 655kB 2.8MB/s eta 0:00:01\r\u001b[K     |█████████████████████████▋      | 665kB 2.8MB/s eta 0:00:01\r\u001b[K     |██████████████████████████      | 675kB 2.8MB/s eta 0:00:01\r\u001b[K     |██████████████████████████▍     | 686kB 2.8MB/s eta 0:00:01\r\u001b[K     |██████████████████████████▊     | 696kB 2.8MB/s eta 0:00:01\r\u001b[K     |███████████████████████████▏    | 706kB 2.8MB/s eta 0:00:01\r\u001b[K     |███████████████████████████▋    | 716kB 2.8MB/s eta 0:00:01\r\u001b[K     |████████████████████████████    | 727kB 2.8MB/s eta 0:00:01\r\u001b[K     |████████████████████████████▍   | 737kB 2.8MB/s eta 0:00:01\r\u001b[K     |████████████████████████████▊   | 747kB 2.8MB/s eta 0:00:01\r\u001b[K     |█████████████████████████████▏  | 757kB 2.8MB/s eta 0:00:01\r\u001b[K     |█████████████████████████████▌  | 768kB 2.8MB/s eta 0:00:01\r\u001b[K     |██████████████████████████████  | 778kB 2.8MB/s eta 0:00:01\r\u001b[K     |██████████████████████████████▎ | 788kB 2.8MB/s eta 0:00:01\r\u001b[K     |██████████████████████████████▊ | 798kB 2.8MB/s eta 0:00:01\r\u001b[K     |███████████████████████████████ | 808kB 2.8MB/s eta 0:00:01\r\u001b[K     |███████████████████████████████▌| 819kB 2.8MB/s eta 0:00:01\r\u001b[K     |████████████████████████████████| 829kB 2.8MB/s eta 0:00:01\r\u001b[K     |████████████████████████████████| 839kB 2.8MB/s \n",
            "\u001b[?25hRequirement already satisfied: numpy<2.0.0,>=1.15.0 in /usr/local/lib/python3.6/dist-packages (from dimod) (1.17.4)\n",
            "Requirement already satisfied: six<2.0.0,>=1.10.0 in /usr/local/lib/python3.6/dist-packages (from dimod) (1.12.0)\n",
            "Installing collected packages: dimod\n",
            "Successfully installed dimod-0.8.17\n"
          ],
          "name": "stdout"
        }
      ]
    },
    {
      "cell_type": "code",
      "metadata": {
        "id": "82OtwOtaI-rh",
        "colab_type": "code",
        "colab": {
          "base_uri": "https://localhost:8080/",
          "height": 124
        },
        "outputId": "b57de84f-2148-43eb-f787-a170d8c04448"
      },
      "source": [
        "temperature = 1\n",
        "response = sampler.sample(model, beta_range=[1 / temperature, 1 / temperature], num_reads=400)\n",
        "\n",
        "responseData = list(response.aggregate().data())\n",
        "responseData\n"
      ],
      "execution_count": 37,
      "outputs": [
        {
          "output_type": "execute_result",
          "data": {
            "text/plain": [
              "[Sample(sample={0: 1, 1: -1, 2: -1}, energy=-4.0, num_occurrences=282),\n",
              " Sample(sample={0: -1, 1: -1, 2: -1}, energy=-2.0, num_occurrences=42),\n",
              " Sample(sample={0: -1, 1: 1, 2: -1}, energy=-2.0, num_occurrences=39),\n",
              " Sample(sample={0: -1, 1: 1, 2: 1}, energy=-2.0, num_occurrences=29),\n",
              " Sample(sample={0: 1, 1: -1, 2: 1}, energy=0.0, num_occurrences=6),\n",
              " Sample(sample={0: -1, 1: -1, 2: 1}, energy=2.0, num_occurrences=2)]"
            ]
          },
          "metadata": {
            "tags": []
          },
          "execution_count": 37
        }
      ]
    },
    {
      "cell_type": "code",
      "metadata": {
        "id": "CH79BVbSN4hQ",
        "colab_type": "code",
        "colab": {
          "base_uri": "https://localhost:8080/",
          "height": 35
        },
        "outputId": "725c00e6-3ae6-484a-9cd0-9e9420c5a6df"
      },
      "source": [
        "import pandas as pd\n",
        "\n",
        "degeneracy = dict(pd.DataFrame(responseData).groupby('energy').count()['num_occurrences'])\n",
        "energyLevels = degeneracy.keys()\n",
        "\n",
        "degeneracy"
      ],
      "execution_count": 38,
      "outputs": [
        {
          "output_type": "execute_result",
          "data": {
            "text/plain": [
              "{-4.0: 1, -2.0: 3, 0.0: 1, 2.0: 1}"
            ]
          },
          "metadata": {
            "tags": []
          },
          "execution_count": 38
        }
      ]
    },
    {
      "cell_type": "code",
      "metadata": {
        "id": "UzCE4foqOYHs",
        "colab_type": "code",
        "colab": {
          "base_uri": "https://localhost:8080/",
          "height": 35
        },
        "outputId": "d60e5333-c61e-49b1-8bd0-f2c3d8719977"
      },
      "source": [
        "probabilities = np.array([degeneracy[E] * np.exp(-E/temperature) for E in energyLevels])\n",
        "Z = probabilities.sum()\n",
        "probabilities /= Z\n",
        "\n",
        "probabilities"
      ],
      "execution_count": 39,
      "outputs": [
        {
          "output_type": "execute_result",
          "data": {
            "text/plain": [
              "array([0.70086896, 0.2845569 , 0.01283686, 0.00173728])"
            ]
          },
          "metadata": {
            "tags": []
          },
          "execution_count": 39
        }
      ]
    },
    {
      "cell_type": "code",
      "metadata": {
        "id": "H1FXDP5hPOH8",
        "colab_type": "code",
        "colab": {
          "base_uri": "https://localhost:8080/",
          "height": 262
        },
        "outputId": "6322f4f1-c502-4bda-b17c-7839a6c7350f"
      },
      "source": [
        "fig, ax = plt.subplots()\n",
        "ax.plot([E for E in energyLevels], probabilities, linewidth=3)\n",
        "ax.set_xlim(min(energyLevels), max(energyLevels))\n",
        "ax.set_xticks([]); ax.set_yticks([])\n",
        "ax.set_xlabel('Energy'); ax.set_ylabel('Probability')\n",
        "plt.show()"
      ],
      "execution_count": 40,
      "outputs": [
        {
          "output_type": "display_data",
          "data": {
            "image/png": "[encoded data removed]",
            "text/plain": [
              "<Figure size 432x288 with 1 Axes>"
            ]
          },
          "metadata": {
            "tags": []
          }
        }
      ]
    },
    {
      "cell_type": "code",
      "metadata": {
        "id": "fbO8t6tKPToq",
        "colab_type": "code",
        "colab": {}
      },
      "source": [
        "from dimod.reference.samplers.simulated_annealing import greedy_coloring\n",
        "\n",
        "clamped_spins = {0: -1}\n",
        "num_sweeps = 10000\n",
        "\n",
        "βs = np.linspace(1, 0, num_sweeps)"
      ],
      "execution_count": 0,
      "outputs": []
    },
    {
      "cell_type": "code",
      "metadata": {
        "id": "bq1ljlZ7PYj-",
        "colab_type": "code",
        "colab": {
          "base_uri": "https://localhost:8080/",
          "height": 35
        },
        "outputId": "a160d759-b885-4856-8577-da0e97bbd8a6"
      },
      "source": [
        "adj = {n: set() for n in h}\n",
        "for n0, n1 in J:\n",
        "    adj[n0].add(n1)\n",
        "    adj[n1].add(n0)\n",
        "    \n",
        "adj"
      ],
      "execution_count": 42,
      "outputs": [
        {
          "output_type": "execute_result",
          "data": {
            "text/plain": [
              "{0: {1}, 1: {0, 2}, 2: {1}}"
            ]
          },
          "metadata": {
            "tags": []
          },
          "execution_count": 42
        }
      ]
    },
    {
      "cell_type": "code",
      "metadata": {
        "id": "Nn7nkfKJPbs1",
        "colab_type": "code",
        "colab": {}
      },
      "source": [
        "_, colors = greedy_coloring(adj)"
      ],
      "execution_count": 0,
      "outputs": []
    },
    {
      "cell_type": "code",
      "metadata": {
        "id": "zUjDf9tzPetJ",
        "colab_type": "code",
        "colab": {}
      },
      "source": [
        "spins = {v: np.random.choice((-1, 1)) if v not in clamped_spins else clamped_spins[v] for v in h}\n",
        "\n",
        "for β in βs:\n",
        "    energy_diff_h = {v: -2 * spins[v] * h[v] for v in h}\n",
        "\n",
        "    # for each color, do updates\n",
        "    for color in colors:\n",
        "        nodes = colors[color]\n",
        "        energy_diff_J = {}\n",
        "        for v0 in nodes:\n",
        "            ediff = 0\n",
        "            for v1 in adj[v0]:\n",
        "                if (v0, v1) in J:\n",
        "                    ediff += spins[v0] * spins[v1] * J[(v0, v1)]\n",
        "                if (v1, v0) in J:\n",
        "                    ediff += spins[v0] * spins[v1] * J[(v1, v0)]\n",
        "\n",
        "            energy_diff_J[v0] = -2. * ediff\n",
        "        for v in filter(lambda x: x not in clamped_spins, nodes):\n",
        "            logp = np.log(np.random.uniform(0, 1))\n",
        "            if logp < -1. * β * (energy_diff_h[v] + energy_diff_J[v]):\n",
        "                spins[v] *= -1"
      ],
      "execution_count": 0,
      "outputs": []
    },
    {
      "cell_type": "code",
      "metadata": {
        "id": "b7P-TCbqPiQo",
        "colab_type": "code",
        "colab": {
          "base_uri": "https://localhost:8080/",
          "height": 35
        },
        "outputId": "358b2a7c-a088-4055-8176-a2ba842e3f9b"
      },
      "source": [
        "spins"
      ],
      "execution_count": 45,
      "outputs": [
        {
          "output_type": "execute_result",
          "data": {
            "text/plain": [
              "{0: -1, 1: 1, 2: 1}"
            ]
          },
          "metadata": {
            "tags": []
          },
          "execution_count": 45
        }
      ]
    },
    {
      "cell_type": "code",
      "metadata": {
        "id": "njYALi91Pk_p",
        "colab_type": "code",
        "colab": {}
      },
      "source": [
        "import numpy as np\n",
        "from qiskit import QuantumCircuit, ClassicalRegister, QuantumRegister, execute, BasicAer\n",
        "\n",
        "π = np.pi"
      ],
      "execution_count": 0,
      "outputs": []
    },
    {
      "cell_type": "code",
      "metadata": {
        "id": "79MtqkmvWBUC",
        "colab_type": "code",
        "colab": {}
      },
      "source": [
        "\n",
        "q = QuantumRegister(3, 'q')\n",
        "c = ClassicalRegister(1, 'c')\n",
        "\n",
        "qft = QuantumCircuit(q, c)\n",
        "\n",
        "qft.h(q[0])\n",
        "qft.cu1(π/2, q[1], q[0])\n",
        "qft.h(q[1])\n",
        "qft.cu1(π/4, q[2], q[0])\n",
        "qft.cu1(π/2, q[2], q[1])\n",
        "qft.h(q[2]);"
      ],
      "execution_count": 0,
      "outputs": []
    },
    {
      "cell_type": "code",
      "metadata": {
        "id": "Dew2eVCFWIAj",
        "colab_type": "code",
        "colab": {
          "base_uri": "https://localhost:8080/",
          "height": 153
        },
        "outputId": "4cfbcefb-1273-41b7-b98d-76577e42c751"
      },
      "source": [
        "from qiskit.tools.visualization import circuit_drawer\n",
        "circuit_drawer(qft)"
      ],
      "execution_count": 48,
      "outputs": [
        {
          "output_type": "execute_result",
          "data": {
            "text/html": [
              "<pre style=\"word-wrap: normal;white-space: pre;background: #fff0;line-height: 1.1;font-family: &quot;Courier New&quot;,Courier,monospace\">        ┌───┐                               \n",
              "q_0: |0>┤ H ├─■───────────■─────────────────\n",
              "        └───┘ │pi/2 ┌───┐ │                 \n",
              "q_1: |0>──────■─────┤ H ├─┼──────■──────────\n",
              "                    └───┘ │pi/4  │pi/2 ┌───┐\n",
              "q_2: |0>──────────────────■──────■─────┤ H ├\n",
              "                                       └───┘\n",
              " c_0: 0 ════════════════════════════════════\n",
              "                                            </pre>"
            ],
            "text/plain": [
              "<qiskit.visualization.text.TextDrawing at 0x7fdeace4bd68>"
            ]
          },
          "metadata": {
            "tags": []
          },
          "execution_count": 48
        }
      ]
    },
    {
      "cell_type": "code",
      "metadata": {
        "id": "sCasIjQhWL1z",
        "colab_type": "code",
        "colab": {}
      },
      "source": [
        "q = QuantumRegister(3, 'q')\n",
        "c = ClassicalRegister(2, 'c')\n",
        "\n",
        "qpe = QuantumCircuit(q, c)\n",
        "qpe.h(q[0])\n",
        "qpe.h(q[1]);"
      ],
      "execution_count": 0,
      "outputs": []
    },
    {
      "cell_type": "code",
      "metadata": {
        "id": "R__Pm9i1WQoC",
        "colab_type": "code",
        "colab": {}
      },
      "source": [
        "# Controlled-U0\n",
        "qpe.cz(q[1], q[2]);\n",
        "# Controlled-U1\n",
        "# nothing: identity"
      ],
      "execution_count": 0,
      "outputs": []
    },
    {
      "cell_type": "code",
      "metadata": {
        "id": "aWlD4fg3WT_0",
        "colab_type": "code",
        "colab": {}
      },
      "source": [
        "qpe.swap(q[0], q[1])\n",
        "qpe.h(q[1])\n",
        "qpe.cu1(-π / 2, q[0], q[1])\n",
        "qpe.h(q[0])\n",
        "qpe.swap(q[0], q[1]);"
      ],
      "execution_count": 0,
      "outputs": []
    },
    {
      "cell_type": "code",
      "metadata": {
        "id": "OYezVyDvWWpU",
        "colab_type": "code",
        "colab": {}
      },
      "source": [
        "qpe.measure(q[0], c[0])\n",
        "qpe.measure(q[1], c[1]);"
      ],
      "execution_count": 0,
      "outputs": []
    },
    {
      "cell_type": "code",
      "metadata": {
        "id": "uJkyVkMkWbf5",
        "colab_type": "code",
        "colab": {
          "base_uri": "https://localhost:8080/",
          "height": 183
        },
        "outputId": "c7ae879a-f66e-4592-cd7d-d0d1bbe1ca69"
      },
      "source": [
        "circuit_drawer(qpe)"
      ],
      "execution_count": 53,
      "outputs": [
        {
          "output_type": "execute_result",
          "data": {
            "text/html": [
              "<pre style=\"word-wrap: normal;white-space: pre;background: #fff0;line-height: 1.1;font-family: &quot;Courier New&quot;,Courier,monospace\">        ┌───┐                   ┌───┐   ┌─┐   \n",
              "q_0: |0>┤ H ├────X───────■──────┤ H ├─X─┤M├───\n",
              "        ├───┤    │ ┌───┐ │-pi/2 └───┘ │ └╥┘┌─┐\n",
              "q_1: |0>┤ H ├─■──X─┤ H ├─■────────────X──╫─┤M├\n",
              "        └───┘ │    └───┘                 ║ └╥┘\n",
              "q_2: |0>──────■──────────────────────────╫──╫─\n",
              "                                         ║  ║ \n",
              " c_0: 0 ═════════════════════════════════╩══╬═\n",
              "                                            ║ \n",
              " c_1: 0 ════════════════════════════════════╩═\n",
              "                                              </pre>"
            ],
            "text/plain": [
              "<qiskit.visualization.text.TextDrawing at 0x7fdeace4bac8>"
            ]
          },
          "metadata": {
            "tags": []
          },
          "execution_count": 53
        }
      ]
    },
    {
      "cell_type": "code",
      "metadata": {
        "id": "dB-xR4jMWefv",
        "colab_type": "code",
        "colab": {
          "base_uri": "https://localhost:8080/",
          "height": 35
        },
        "outputId": "c50f8b17-77cb-4902-ebf2-6512ad2ec84f"
      },
      "source": [
        "backend = BasicAer.get_backend('qasm_simulator')\n",
        "job = execute(qpe, backend, shots=1000)\n",
        "result = job.result()\n",
        "result.get_counts(qpe)"
      ],
      "execution_count": 54,
      "outputs": [
        {
          "output_type": "execute_result",
          "data": {
            "text/plain": [
              "{'00': 1000}"
            ]
          },
          "metadata": {
            "tags": []
          },
          "execution_count": 54
        }
      ]
    },
    {
      "cell_type": "code",
      "metadata": {
        "id": "Y2DC6e97Who-",
        "colab_type": "code",
        "colab": {
          "base_uri": "https://localhost:8080/",
          "height": 35
        },
        "outputId": "73b08781-b0ba-4a65-ab36-361776330b45"
      },
      "source": [
        "qpe = QuantumCircuit(q, c)\n",
        "qpe.h(q[0])\n",
        "qpe.h(q[1])\n",
        "qpe.x(q[2]) # create |1> in the main register\n",
        "\n",
        "qpe.cz(q[1], q[2])\n",
        "\n",
        "qpe.swap(q[0], q[1])\n",
        "qpe.h(q[1])\n",
        "qpe.cu1(- π / 2, q[0], q[1])\n",
        "qpe.h(q[0])\n",
        "qpe.swap(q[0], q[1])\n",
        "\n",
        "qpe.measure(q[0], c[0])\n",
        "qpe.measure(q[1], c[1]);\n",
        "\n",
        "backend = BasicAer.get_backend('qasm_simulator')\n",
        "job = execute(qpe, backend, shots=1000)\n",
        "result = job.result()\n",
        "result.get_counts(qpe)"
      ],
      "execution_count": 55,
      "outputs": [
        {
          "output_type": "execute_result",
          "data": {
            "text/plain": [
              "{'10': 1000}"
            ]
          },
          "metadata": {
            "tags": []
          },
          "execution_count": 55
        }
      ]
    },
    {
      "cell_type": "code",
      "metadata": {
        "id": "jHphR3CxWlAf",
        "colab_type": "code",
        "colab": {}
      },
      "source": [
        "import numpy as np\n",
        "from qiskit import QuantumCircuit, ClassicalRegister, QuantumRegister, execute, BasicAer\n",
        "\n",
        "π = np.pi"
      ],
      "execution_count": 0,
      "outputs": []
    },
    {
      "cell_type": "code",
      "metadata": {
        "id": "8wg_VvmjoAyt",
        "colab_type": "code",
        "colab": {
          "base_uri": "https://localhost:8080/",
          "height": 35
        },
        "outputId": "80e09c65-6ef8-4a79-b23f-a0981edd4f57"
      },
      "source": [
        "A = 0.5 * np.array([[3, 1], [1, 3]])\n",
        "b = np.array([1, 0])\n",
        "\n",
        "x = np.linalg.solve(A, b)\n",
        "x /= np.linalg.norm(x)\n",
        "\n",
        "print('(normalized) solution is %s' % x)"
      ],
      "execution_count": 57,
      "outputs": [
        {
          "output_type": "stream",
          "text": [
            "(normalized) solution is [ 0.9486833  -0.31622777]\n"
          ],
          "name": "stdout"
        }
      ]
    },
    {
      "cell_type": "code",
      "metadata": {
        "id": "Qm0BYm9HoIT4",
        "colab_type": "code",
        "colab": {}
      },
      "source": [
        "q = QuantumRegister(6)\n",
        "c = ClassicalRegister(2)\n",
        "hhl = QuantumCircuit(q, c)\n"
      ],
      "execution_count": 0,
      "outputs": []
    },
    {
      "cell_type": "code",
      "metadata": {
        "id": "xVzZtDewoOyW",
        "colab_type": "code",
        "colab": {}
      },
      "source": [
        "# Superposition\n",
        "hhl.h(q[1])\n",
        "hhl.h(q[2])\n",
        "\n",
        "# Controlled-U0\n",
        "hhl.cu3(-π / 2, -π / 2, π / 2, q[2], q[3])\n",
        "hhl.cu1(3 * π / 4, q[2], q[3])\n",
        "hhl.cx(q[2], q[3])\n",
        "hhl.cu1(3 * π / 4, q[2], q[3])\n",
        "hhl.cx(q[2], q[3])\n",
        "\n",
        "# Controlled-U1\n",
        "hhl.cx(q[1], q[3]);"
      ],
      "execution_count": 0,
      "outputs": []
    },
    {
      "cell_type": "code",
      "metadata": {
        "id": "XC8cxArdoW60",
        "colab_type": "code",
        "colab": {}
      },
      "source": [
        "hhl.swap(q[1], q[2])\n",
        "hhl.h(q[2])\n",
        "hhl.cu1(-π / 2, q[1], q[2])\n",
        "hhl.h(q[1]);"
      ],
      "execution_count": 0,
      "outputs": []
    },
    {
      "cell_type": "code",
      "metadata": {
        "id": "xNb3diwsobjH",
        "colab_type": "code",
        "colab": {}
      },
      "source": [
        "hhl.swap(q[1], q[2]);"
      ],
      "execution_count": 0,
      "outputs": []
    },
    {
      "cell_type": "code",
      "metadata": {
        "id": "e_s-QkLuogUF",
        "colab_type": "code",
        "colab": {}
      },
      "source": [
        "hhl.cu3(0.392699, 0, 0, q[1], q[0])  # Controlled-RY0\n",
        "hhl.cu3(0.19634955, 0, 0, q[2], q[0]);  # Controlled-RY1"
      ],
      "execution_count": 0,
      "outputs": []
    },
    {
      "cell_type": "code",
      "metadata": {
        "id": "KmogDNf-olQM",
        "colab_type": "code",
        "colab": {}
      },
      "source": [
        "hhl.swap(q[1], q[2])\n",
        "hhl.h(q[1])\n",
        "hhl.cu1(π / 2, q[1], q[2])  # Inverse(Dagger(Controlled-S))\n",
        "hhl.h(q[2])\n",
        "hhl.swap(q[2], q[1])\n",
        "\n",
        "# Inverse(Controlled-U1)\n",
        "hhl.cx(q[1], q[3])\n",
        "\n",
        "# Inverse(Controlled-U0)\n",
        "hhl.cx(q[2], q[3])\n",
        "hhl.cu1(-3 * π / 4, q[2], q[3])\n",
        "hhl.cx(q[2], q[3])\n",
        "hhl.cu1(-3 * π / 4, q[2], q[3])\n",
        "hhl.cu3(-π / 2, π / 2, -π / 2, q[2], q[3])\n",
        "\n",
        "# End of Inverse(Controlled-U0)\n",
        "hhl.h(q[2])\n",
        "hhl.h(q[1]);"
      ],
      "execution_count": 0,
      "outputs": []
    },
    {
      "cell_type": "code",
      "metadata": {
        "id": "Llq2z4cnosNv",
        "colab_type": "code",
        "colab": {}
      },
      "source": [
        "# Target state preparation\n",
        "hhl.rz(-π, q[4])\n",
        "hhl.u1(π, q[4])\n",
        "hhl.h(q[4])\n",
        "hhl.ry(-0.9311623288419387, q[4])\n",
        "hhl.rz(π, q[4]);"
      ],
      "execution_count": 0,
      "outputs": []
    },
    {
      "cell_type": "code",
      "metadata": {
        "id": "YyIRHVTSowTV",
        "colab_type": "code",
        "colab": {
          "base_uri": "https://localhost:8080/",
          "height": 35
        },
        "outputId": "df5db559-1e6d-4092-dc50-05b254bf2828"
      },
      "source": [
        "def verifExpectedState():\n",
        "    q, c = QuantumRegister(1), ClassicalRegister(1)\n",
        "    circuit = QuantumCircuit(q, c)\n",
        "    circuit.rz(-π, q[0])\n",
        "    circuit.u1(π, q[0])\n",
        "    circuit.h(q[0])\n",
        "    circuit.ry(-0.9311623288419387, q[0])\n",
        "    circuit.rz(π, q[0])\n",
        "\n",
        "    backend_statevector = BasicAer.get_backend('statevector_simulator')\n",
        "    job = execute(circuit, backend_statevector)\n",
        "    return job.result().get_statevector(circuit)\n",
        "\n",
        "verifExpectedState()"
      ],
      "execution_count": 66,
      "outputs": [
        {
          "output_type": "execute_result",
          "data": {
            "text/plain": [
              "array([ 0.94929297+0.j, -0.31439284+0.j])"
            ]
          },
          "metadata": {
            "tags": []
          },
          "execution_count": 66
        }
      ]
    },
    {
      "cell_type": "code",
      "metadata": {
        "id": "1BdcfIeUo0VK",
        "colab_type": "code",
        "colab": {}
      },
      "source": [
        "\n",
        "# Swap test\n",
        "hhl.h(q[5])\n",
        "hhl.cx(q[4], q[3])\n",
        "hhl.ccx(q[5], q[3], q[4])\n",
        "hhl.cx(q[4], q[3])\n",
        "hhl.h(q[5])\n",
        "\n",
        "# Final measurements\n",
        "hhl.barrier(q)\n",
        "hhl.measure(q[0], c[0])\n",
        "hhl.measure(q[5], c[1]);"
      ],
      "execution_count": 0,
      "outputs": []
    },
    {
      "cell_type": "code",
      "metadata": {
        "id": "z_nKv7aqo4K_",
        "colab_type": "code",
        "colab": {}
      },
      "source": [
        "\n",
        "def get_psuccess(counts):\n",
        "    succ_rotation_fail_swap = counts['11'] if '11' in counts.keys() else 0\n",
        "    succ_rotation_succ_swap = counts['01']\n",
        "    \n",
        "    succ_rotation = succ_rotation_succ_swap + succ_rotation_fail_swap\n",
        "    return succ_rotation_succ_swap / succ_rotation"
      ],
      "execution_count": 0,
      "outputs": []
    },
    {
      "cell_type": "code",
      "metadata": {
        "id": "eEa58m6Wo9iq",
        "colab_type": "code",
        "colab": {
          "base_uri": "https://localhost:8080/",
          "height": 35
        },
        "outputId": "d57095f8-38a8-445b-cf86-9b1b1711eb64"
      },
      "source": [
        "backend = BasicAer.get_backend('qasm_simulator')\n",
        "job = execute(hhl, backend, shots=1000)\n",
        "result = job.result()\n",
        "counts = result.get_counts(hhl)\n",
        "\n",
        "counts"
      ],
      "execution_count": 69,
      "outputs": [
        {
          "output_type": "execute_result",
          "data": {
            "text/plain": [
              "{'00': 862, '01': 98, '10': 40}"
            ]
          },
          "metadata": {
            "tags": []
          },
          "execution_count": 69
        }
      ]
    },
    {
      "cell_type": "code",
      "metadata": {
        "id": "gIGYcx33pA-P",
        "colab_type": "code",
        "colab": {
          "base_uri": "https://localhost:8080/",
          "height": 35
        },
        "outputId": "9e2577f4-7247-4794-cb9c-5082e7848e6d"
      },
      "source": [
        "get_psuccess(counts)"
      ],
      "execution_count": 70,
      "outputs": [
        {
          "output_type": "execute_result",
          "data": {
            "text/plain": [
              "1.0"
            ]
          },
          "metadata": {
            "tags": []
          },
          "execution_count": 70
        }
      ]
    },
    {
      "cell_type": "code",
      "metadata": {
        "id": "v9lZx8B_pGAt",
        "colab_type": "code",
        "colab": {}
      },
      "source": [
        ""
      ],
      "execution_count": 0,
      "outputs": []
    }
  ]
}